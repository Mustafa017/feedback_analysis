{
  "nbformat": 4,
  "nbformat_minor": 0,
  "metadata": {
    "colab": {
      "name": "index.ipynb",
      "provenance": [],
      "collapsed_sections": [],
      "include_colab_link": true
    },
    "kernelspec": {
      "name": "python3",
      "display_name": "Python 3"
    },
    "language_info": {
      "name": "python"
    },
    "widgets": {
      "application/vnd.jupyter.widget-state+json": {
        "d201b67e86784919a27077b8a4f092b0": {
          "model_module": "@jupyter-widgets/controls",
          "model_name": "HBoxModel",
          "model_module_version": "1.5.0",
          "state": {
            "_view_name": "HBoxView",
            "_dom_classes": [],
            "_model_name": "HBoxModel",
            "_view_module": "@jupyter-widgets/controls",
            "_model_module_version": "1.5.0",
            "_view_count": null,
            "_view_module_version": "1.5.0",
            "box_style": "",
            "layout": "IPY_MODEL_c40ee0c601244e26a6de02e9795f49cf",
            "_model_module": "@jupyter-widgets/controls",
            "children": [
              "IPY_MODEL_963c4e747365458a9ee49033d79ce931",
              "IPY_MODEL_24094283e4ed43f6a04078aca0bb9bb6",
              "IPY_MODEL_02440b6d4fe944d69572fdc5cb848ad9"
            ]
          }
        },
        "c40ee0c601244e26a6de02e9795f49cf": {
          "model_module": "@jupyter-widgets/base",
          "model_name": "LayoutModel",
          "model_module_version": "1.2.0",
          "state": {
            "_view_name": "LayoutView",
            "grid_template_rows": null,
            "right": null,
            "justify_content": null,
            "_view_module": "@jupyter-widgets/base",
            "overflow": null,
            "_model_module_version": "1.2.0",
            "_view_count": null,
            "flex_flow": null,
            "width": null,
            "min_width": null,
            "border": null,
            "align_items": null,
            "bottom": null,
            "_model_module": "@jupyter-widgets/base",
            "top": null,
            "grid_column": null,
            "overflow_y": null,
            "overflow_x": null,
            "grid_auto_flow": null,
            "grid_area": null,
            "grid_template_columns": null,
            "flex": null,
            "_model_name": "LayoutModel",
            "justify_items": null,
            "grid_row": null,
            "max_height": null,
            "align_content": null,
            "visibility": null,
            "align_self": null,
            "height": null,
            "min_height": null,
            "padding": null,
            "grid_auto_rows": null,
            "grid_gap": null,
            "max_width": null,
            "order": null,
            "_view_module_version": "1.2.0",
            "grid_template_areas": null,
            "object_position": null,
            "object_fit": null,
            "grid_auto_columns": null,
            "margin": null,
            "display": null,
            "left": null
          }
        },
        "963c4e747365458a9ee49033d79ce931": {
          "model_module": "@jupyter-widgets/controls",
          "model_name": "HTMLModel",
          "model_module_version": "1.5.0",
          "state": {
            "_view_name": "HTMLView",
            "style": "IPY_MODEL_deea583f9b8e41f48d56267123715d0f",
            "_dom_classes": [],
            "description": "",
            "_model_name": "HTMLModel",
            "placeholder": "​",
            "_view_module": "@jupyter-widgets/controls",
            "_model_module_version": "1.5.0",
            "value": "Downloading: 100%",
            "_view_count": null,
            "_view_module_version": "1.5.0",
            "description_tooltip": null,
            "_model_module": "@jupyter-widgets/controls",
            "layout": "IPY_MODEL_4aa4f1d6c3d843f281a7eaf236cae0ff"
          }
        },
        "24094283e4ed43f6a04078aca0bb9bb6": {
          "model_module": "@jupyter-widgets/controls",
          "model_name": "FloatProgressModel",
          "model_module_version": "1.5.0",
          "state": {
            "_view_name": "ProgressView",
            "style": "IPY_MODEL_81b13885df234ea0b6840d85858b8d99",
            "_dom_classes": [],
            "description": "",
            "_model_name": "FloatProgressModel",
            "bar_style": "success",
            "max": 213450,
            "_view_module": "@jupyter-widgets/controls",
            "_model_module_version": "1.5.0",
            "value": 213450,
            "_view_count": null,
            "_view_module_version": "1.5.0",
            "orientation": "horizontal",
            "min": 0,
            "description_tooltip": null,
            "_model_module": "@jupyter-widgets/controls",
            "layout": "IPY_MODEL_c60cd0189d394e14a6de9bc49aa37edb"
          }
        },
        "02440b6d4fe944d69572fdc5cb848ad9": {
          "model_module": "@jupyter-widgets/controls",
          "model_name": "HTMLModel",
          "model_module_version": "1.5.0",
          "state": {
            "_view_name": "HTMLView",
            "style": "IPY_MODEL_a45eafd132154008ade88ffd887eccb2",
            "_dom_classes": [],
            "description": "",
            "_model_name": "HTMLModel",
            "placeholder": "​",
            "_view_module": "@jupyter-widgets/controls",
            "_model_module_version": "1.5.0",
            "value": " 208k/208k [00:00&lt;00:00, 639kB/s]",
            "_view_count": null,
            "_view_module_version": "1.5.0",
            "description_tooltip": null,
            "_model_module": "@jupyter-widgets/controls",
            "layout": "IPY_MODEL_34a189e7bdf0447886a8d71fa6d84c76"
          }
        },
        "deea583f9b8e41f48d56267123715d0f": {
          "model_module": "@jupyter-widgets/controls",
          "model_name": "DescriptionStyleModel",
          "model_module_version": "1.5.0",
          "state": {
            "_view_name": "StyleView",
            "_model_name": "DescriptionStyleModel",
            "description_width": "",
            "_view_module": "@jupyter-widgets/base",
            "_model_module_version": "1.5.0",
            "_view_count": null,
            "_view_module_version": "1.2.0",
            "_model_module": "@jupyter-widgets/controls"
          }
        },
        "4aa4f1d6c3d843f281a7eaf236cae0ff": {
          "model_module": "@jupyter-widgets/base",
          "model_name": "LayoutModel",
          "model_module_version": "1.2.0",
          "state": {
            "_view_name": "LayoutView",
            "grid_template_rows": null,
            "right": null,
            "justify_content": null,
            "_view_module": "@jupyter-widgets/base",
            "overflow": null,
            "_model_module_version": "1.2.0",
            "_view_count": null,
            "flex_flow": null,
            "width": null,
            "min_width": null,
            "border": null,
            "align_items": null,
            "bottom": null,
            "_model_module": "@jupyter-widgets/base",
            "top": null,
            "grid_column": null,
            "overflow_y": null,
            "overflow_x": null,
            "grid_auto_flow": null,
            "grid_area": null,
            "grid_template_columns": null,
            "flex": null,
            "_model_name": "LayoutModel",
            "justify_items": null,
            "grid_row": null,
            "max_height": null,
            "align_content": null,
            "visibility": null,
            "align_self": null,
            "height": null,
            "min_height": null,
            "padding": null,
            "grid_auto_rows": null,
            "grid_gap": null,
            "max_width": null,
            "order": null,
            "_view_module_version": "1.2.0",
            "grid_template_areas": null,
            "object_position": null,
            "object_fit": null,
            "grid_auto_columns": null,
            "margin": null,
            "display": null,
            "left": null
          }
        },
        "81b13885df234ea0b6840d85858b8d99": {
          "model_module": "@jupyter-widgets/controls",
          "model_name": "ProgressStyleModel",
          "model_module_version": "1.5.0",
          "state": {
            "_view_name": "StyleView",
            "_model_name": "ProgressStyleModel",
            "description_width": "",
            "_view_module": "@jupyter-widgets/base",
            "_model_module_version": "1.5.0",
            "_view_count": null,
            "_view_module_version": "1.2.0",
            "bar_color": null,
            "_model_module": "@jupyter-widgets/controls"
          }
        },
        "c60cd0189d394e14a6de9bc49aa37edb": {
          "model_module": "@jupyter-widgets/base",
          "model_name": "LayoutModel",
          "model_module_version": "1.2.0",
          "state": {
            "_view_name": "LayoutView",
            "grid_template_rows": null,
            "right": null,
            "justify_content": null,
            "_view_module": "@jupyter-widgets/base",
            "overflow": null,
            "_model_module_version": "1.2.0",
            "_view_count": null,
            "flex_flow": null,
            "width": null,
            "min_width": null,
            "border": null,
            "align_items": null,
            "bottom": null,
            "_model_module": "@jupyter-widgets/base",
            "top": null,
            "grid_column": null,
            "overflow_y": null,
            "overflow_x": null,
            "grid_auto_flow": null,
            "grid_area": null,
            "grid_template_columns": null,
            "flex": null,
            "_model_name": "LayoutModel",
            "justify_items": null,
            "grid_row": null,
            "max_height": null,
            "align_content": null,
            "visibility": null,
            "align_self": null,
            "height": null,
            "min_height": null,
            "padding": null,
            "grid_auto_rows": null,
            "grid_gap": null,
            "max_width": null,
            "order": null,
            "_view_module_version": "1.2.0",
            "grid_template_areas": null,
            "object_position": null,
            "object_fit": null,
            "grid_auto_columns": null,
            "margin": null,
            "display": null,
            "left": null
          }
        },
        "a45eafd132154008ade88ffd887eccb2": {
          "model_module": "@jupyter-widgets/controls",
          "model_name": "DescriptionStyleModel",
          "model_module_version": "1.5.0",
          "state": {
            "_view_name": "StyleView",
            "_model_name": "DescriptionStyleModel",
            "description_width": "",
            "_view_module": "@jupyter-widgets/base",
            "_model_module_version": "1.5.0",
            "_view_count": null,
            "_view_module_version": "1.2.0",
            "_model_module": "@jupyter-widgets/controls"
          }
        },
        "34a189e7bdf0447886a8d71fa6d84c76": {
          "model_module": "@jupyter-widgets/base",
          "model_name": "LayoutModel",
          "model_module_version": "1.2.0",
          "state": {
            "_view_name": "LayoutView",
            "grid_template_rows": null,
            "right": null,
            "justify_content": null,
            "_view_module": "@jupyter-widgets/base",
            "overflow": null,
            "_model_module_version": "1.2.0",
            "_view_count": null,
            "flex_flow": null,
            "width": null,
            "min_width": null,
            "border": null,
            "align_items": null,
            "bottom": null,
            "_model_module": "@jupyter-widgets/base",
            "top": null,
            "grid_column": null,
            "overflow_y": null,
            "overflow_x": null,
            "grid_auto_flow": null,
            "grid_area": null,
            "grid_template_columns": null,
            "flex": null,
            "_model_name": "LayoutModel",
            "justify_items": null,
            "grid_row": null,
            "max_height": null,
            "align_content": null,
            "visibility": null,
            "align_self": null,
            "height": null,
            "min_height": null,
            "padding": null,
            "grid_auto_rows": null,
            "grid_gap": null,
            "max_width": null,
            "order": null,
            "_view_module_version": "1.2.0",
            "grid_template_areas": null,
            "object_position": null,
            "object_fit": null,
            "grid_auto_columns": null,
            "margin": null,
            "display": null,
            "left": null
          }
        },
        "a27fb9ce0c874d358926300f25dcfed1": {
          "model_module": "@jupyter-widgets/controls",
          "model_name": "HBoxModel",
          "model_module_version": "1.5.0",
          "state": {
            "_view_name": "HBoxView",
            "_dom_classes": [],
            "_model_name": "HBoxModel",
            "_view_module": "@jupyter-widgets/controls",
            "_model_module_version": "1.5.0",
            "_view_count": null,
            "_view_module_version": "1.5.0",
            "box_style": "",
            "layout": "IPY_MODEL_c6db2e0fbf13467aa52d70b6a9a0e46c",
            "_model_module": "@jupyter-widgets/controls",
            "children": [
              "IPY_MODEL_ed1247415f1f4ff4aa526eda18c097b2",
              "IPY_MODEL_eb2baf4f47c541e3ac3e2c131ad23c45",
              "IPY_MODEL_3adf8571e04d4ae8a25d5dc61cedef22"
            ]
          }
        },
        "c6db2e0fbf13467aa52d70b6a9a0e46c": {
          "model_module": "@jupyter-widgets/base",
          "model_name": "LayoutModel",
          "model_module_version": "1.2.0",
          "state": {
            "_view_name": "LayoutView",
            "grid_template_rows": null,
            "right": null,
            "justify_content": null,
            "_view_module": "@jupyter-widgets/base",
            "overflow": null,
            "_model_module_version": "1.2.0",
            "_view_count": null,
            "flex_flow": null,
            "width": null,
            "min_width": null,
            "border": null,
            "align_items": null,
            "bottom": null,
            "_model_module": "@jupyter-widgets/base",
            "top": null,
            "grid_column": null,
            "overflow_y": null,
            "overflow_x": null,
            "grid_auto_flow": null,
            "grid_area": null,
            "grid_template_columns": null,
            "flex": null,
            "_model_name": "LayoutModel",
            "justify_items": null,
            "grid_row": null,
            "max_height": null,
            "align_content": null,
            "visibility": null,
            "align_self": null,
            "height": null,
            "min_height": null,
            "padding": null,
            "grid_auto_rows": null,
            "grid_gap": null,
            "max_width": null,
            "order": null,
            "_view_module_version": "1.2.0",
            "grid_template_areas": null,
            "object_position": null,
            "object_fit": null,
            "grid_auto_columns": null,
            "margin": null,
            "display": null,
            "left": null
          }
        },
        "ed1247415f1f4ff4aa526eda18c097b2": {
          "model_module": "@jupyter-widgets/controls",
          "model_name": "HTMLModel",
          "model_module_version": "1.5.0",
          "state": {
            "_view_name": "HTMLView",
            "style": "IPY_MODEL_e3b12c5d90a341c090b542f22b91c9be",
            "_dom_classes": [],
            "description": "",
            "_model_name": "HTMLModel",
            "placeholder": "​",
            "_view_module": "@jupyter-widgets/controls",
            "_model_module_version": "1.5.0",
            "value": "Downloading: 100%",
            "_view_count": null,
            "_view_module_version": "1.5.0",
            "description_tooltip": null,
            "_model_module": "@jupyter-widgets/controls",
            "layout": "IPY_MODEL_987451bf3a434b018242a117246203d9"
          }
        },
        "eb2baf4f47c541e3ac3e2c131ad23c45": {
          "model_module": "@jupyter-widgets/controls",
          "model_name": "FloatProgressModel",
          "model_module_version": "1.5.0",
          "state": {
            "_view_name": "ProgressView",
            "style": "IPY_MODEL_def2bc2582d44376b0ca3d94f907ecda",
            "_dom_classes": [],
            "description": "",
            "_model_name": "FloatProgressModel",
            "bar_style": "success",
            "max": 29,
            "_view_module": "@jupyter-widgets/controls",
            "_model_module_version": "1.5.0",
            "value": 29,
            "_view_count": null,
            "_view_module_version": "1.5.0",
            "orientation": "horizontal",
            "min": 0,
            "description_tooltip": null,
            "_model_module": "@jupyter-widgets/controls",
            "layout": "IPY_MODEL_afa8113a6ace4a97b56bc0cf643b91ad"
          }
        },
        "3adf8571e04d4ae8a25d5dc61cedef22": {
          "model_module": "@jupyter-widgets/controls",
          "model_name": "HTMLModel",
          "model_module_version": "1.5.0",
          "state": {
            "_view_name": "HTMLView",
            "style": "IPY_MODEL_3d04d99217b84bbfb5fe0b3ba15b4d45",
            "_dom_classes": [],
            "description": "",
            "_model_name": "HTMLModel",
            "placeholder": "​",
            "_view_module": "@jupyter-widgets/controls",
            "_model_module_version": "1.5.0",
            "value": " 29.0/29.0 [00:00&lt;00:00, 742B/s]",
            "_view_count": null,
            "_view_module_version": "1.5.0",
            "description_tooltip": null,
            "_model_module": "@jupyter-widgets/controls",
            "layout": "IPY_MODEL_23236e84d0fb4823afd9350cd28f25e3"
          }
        },
        "e3b12c5d90a341c090b542f22b91c9be": {
          "model_module": "@jupyter-widgets/controls",
          "model_name": "DescriptionStyleModel",
          "model_module_version": "1.5.0",
          "state": {
            "_view_name": "StyleView",
            "_model_name": "DescriptionStyleModel",
            "description_width": "",
            "_view_module": "@jupyter-widgets/base",
            "_model_module_version": "1.5.0",
            "_view_count": null,
            "_view_module_version": "1.2.0",
            "_model_module": "@jupyter-widgets/controls"
          }
        },
        "987451bf3a434b018242a117246203d9": {
          "model_module": "@jupyter-widgets/base",
          "model_name": "LayoutModel",
          "model_module_version": "1.2.0",
          "state": {
            "_view_name": "LayoutView",
            "grid_template_rows": null,
            "right": null,
            "justify_content": null,
            "_view_module": "@jupyter-widgets/base",
            "overflow": null,
            "_model_module_version": "1.2.0",
            "_view_count": null,
            "flex_flow": null,
            "width": null,
            "min_width": null,
            "border": null,
            "align_items": null,
            "bottom": null,
            "_model_module": "@jupyter-widgets/base",
            "top": null,
            "grid_column": null,
            "overflow_y": null,
            "overflow_x": null,
            "grid_auto_flow": null,
            "grid_area": null,
            "grid_template_columns": null,
            "flex": null,
            "_model_name": "LayoutModel",
            "justify_items": null,
            "grid_row": null,
            "max_height": null,
            "align_content": null,
            "visibility": null,
            "align_self": null,
            "height": null,
            "min_height": null,
            "padding": null,
            "grid_auto_rows": null,
            "grid_gap": null,
            "max_width": null,
            "order": null,
            "_view_module_version": "1.2.0",
            "grid_template_areas": null,
            "object_position": null,
            "object_fit": null,
            "grid_auto_columns": null,
            "margin": null,
            "display": null,
            "left": null
          }
        },
        "def2bc2582d44376b0ca3d94f907ecda": {
          "model_module": "@jupyter-widgets/controls",
          "model_name": "ProgressStyleModel",
          "model_module_version": "1.5.0",
          "state": {
            "_view_name": "StyleView",
            "_model_name": "ProgressStyleModel",
            "description_width": "",
            "_view_module": "@jupyter-widgets/base",
            "_model_module_version": "1.5.0",
            "_view_count": null,
            "_view_module_version": "1.2.0",
            "bar_color": null,
            "_model_module": "@jupyter-widgets/controls"
          }
        },
        "afa8113a6ace4a97b56bc0cf643b91ad": {
          "model_module": "@jupyter-widgets/base",
          "model_name": "LayoutModel",
          "model_module_version": "1.2.0",
          "state": {
            "_view_name": "LayoutView",
            "grid_template_rows": null,
            "right": null,
            "justify_content": null,
            "_view_module": "@jupyter-widgets/base",
            "overflow": null,
            "_model_module_version": "1.2.0",
            "_view_count": null,
            "flex_flow": null,
            "width": null,
            "min_width": null,
            "border": null,
            "align_items": null,
            "bottom": null,
            "_model_module": "@jupyter-widgets/base",
            "top": null,
            "grid_column": null,
            "overflow_y": null,
            "overflow_x": null,
            "grid_auto_flow": null,
            "grid_area": null,
            "grid_template_columns": null,
            "flex": null,
            "_model_name": "LayoutModel",
            "justify_items": null,
            "grid_row": null,
            "max_height": null,
            "align_content": null,
            "visibility": null,
            "align_self": null,
            "height": null,
            "min_height": null,
            "padding": null,
            "grid_auto_rows": null,
            "grid_gap": null,
            "max_width": null,
            "order": null,
            "_view_module_version": "1.2.0",
            "grid_template_areas": null,
            "object_position": null,
            "object_fit": null,
            "grid_auto_columns": null,
            "margin": null,
            "display": null,
            "left": null
          }
        },
        "3d04d99217b84bbfb5fe0b3ba15b4d45": {
          "model_module": "@jupyter-widgets/controls",
          "model_name": "DescriptionStyleModel",
          "model_module_version": "1.5.0",
          "state": {
            "_view_name": "StyleView",
            "_model_name": "DescriptionStyleModel",
            "description_width": "",
            "_view_module": "@jupyter-widgets/base",
            "_model_module_version": "1.5.0",
            "_view_count": null,
            "_view_module_version": "1.2.0",
            "_model_module": "@jupyter-widgets/controls"
          }
        },
        "23236e84d0fb4823afd9350cd28f25e3": {
          "model_module": "@jupyter-widgets/base",
          "model_name": "LayoutModel",
          "model_module_version": "1.2.0",
          "state": {
            "_view_name": "LayoutView",
            "grid_template_rows": null,
            "right": null,
            "justify_content": null,
            "_view_module": "@jupyter-widgets/base",
            "overflow": null,
            "_model_module_version": "1.2.0",
            "_view_count": null,
            "flex_flow": null,
            "width": null,
            "min_width": null,
            "border": null,
            "align_items": null,
            "bottom": null,
            "_model_module": "@jupyter-widgets/base",
            "top": null,
            "grid_column": null,
            "overflow_y": null,
            "overflow_x": null,
            "grid_auto_flow": null,
            "grid_area": null,
            "grid_template_columns": null,
            "flex": null,
            "_model_name": "LayoutModel",
            "justify_items": null,
            "grid_row": null,
            "max_height": null,
            "align_content": null,
            "visibility": null,
            "align_self": null,
            "height": null,
            "min_height": null,
            "padding": null,
            "grid_auto_rows": null,
            "grid_gap": null,
            "max_width": null,
            "order": null,
            "_view_module_version": "1.2.0",
            "grid_template_areas": null,
            "object_position": null,
            "object_fit": null,
            "grid_auto_columns": null,
            "margin": null,
            "display": null,
            "left": null
          }
        },
        "32b82739c8164b31807b03a4a5e6b8c3": {
          "model_module": "@jupyter-widgets/controls",
          "model_name": "HBoxModel",
          "model_module_version": "1.5.0",
          "state": {
            "_view_name": "HBoxView",
            "_dom_classes": [],
            "_model_name": "HBoxModel",
            "_view_module": "@jupyter-widgets/controls",
            "_model_module_version": "1.5.0",
            "_view_count": null,
            "_view_module_version": "1.5.0",
            "box_style": "",
            "layout": "IPY_MODEL_a460f9adbe3f42fbbc7e13efed59af79",
            "_model_module": "@jupyter-widgets/controls",
            "children": [
              "IPY_MODEL_96d6f9d6a26e4410b034a2a4fc5c26ef",
              "IPY_MODEL_b8963b5ee57c40c1997ff1080f002e83",
              "IPY_MODEL_bc87281f59a3402eb387288b45bde7a8"
            ]
          }
        },
        "a460f9adbe3f42fbbc7e13efed59af79": {
          "model_module": "@jupyter-widgets/base",
          "model_name": "LayoutModel",
          "model_module_version": "1.2.0",
          "state": {
            "_view_name": "LayoutView",
            "grid_template_rows": null,
            "right": null,
            "justify_content": null,
            "_view_module": "@jupyter-widgets/base",
            "overflow": null,
            "_model_module_version": "1.2.0",
            "_view_count": null,
            "flex_flow": null,
            "width": null,
            "min_width": null,
            "border": null,
            "align_items": null,
            "bottom": null,
            "_model_module": "@jupyter-widgets/base",
            "top": null,
            "grid_column": null,
            "overflow_y": null,
            "overflow_x": null,
            "grid_auto_flow": null,
            "grid_area": null,
            "grid_template_columns": null,
            "flex": null,
            "_model_name": "LayoutModel",
            "justify_items": null,
            "grid_row": null,
            "max_height": null,
            "align_content": null,
            "visibility": null,
            "align_self": null,
            "height": null,
            "min_height": null,
            "padding": null,
            "grid_auto_rows": null,
            "grid_gap": null,
            "max_width": null,
            "order": null,
            "_view_module_version": "1.2.0",
            "grid_template_areas": null,
            "object_position": null,
            "object_fit": null,
            "grid_auto_columns": null,
            "margin": null,
            "display": null,
            "left": null
          }
        },
        "96d6f9d6a26e4410b034a2a4fc5c26ef": {
          "model_module": "@jupyter-widgets/controls",
          "model_name": "HTMLModel",
          "model_module_version": "1.5.0",
          "state": {
            "_view_name": "HTMLView",
            "style": "IPY_MODEL_c7d9a020063449c09d6b9314cb6a0fe0",
            "_dom_classes": [],
            "description": "",
            "_model_name": "HTMLModel",
            "placeholder": "​",
            "_view_module": "@jupyter-widgets/controls",
            "_model_module_version": "1.5.0",
            "value": "Downloading: 100%",
            "_view_count": null,
            "_view_module_version": "1.5.0",
            "description_tooltip": null,
            "_model_module": "@jupyter-widgets/controls",
            "layout": "IPY_MODEL_a105a72477d842c9995180a4f14670d1"
          }
        },
        "b8963b5ee57c40c1997ff1080f002e83": {
          "model_module": "@jupyter-widgets/controls",
          "model_name": "FloatProgressModel",
          "model_module_version": "1.5.0",
          "state": {
            "_view_name": "ProgressView",
            "style": "IPY_MODEL_284baf4c59c548d2a97e5dc067041fb9",
            "_dom_classes": [],
            "description": "",
            "_model_name": "FloatProgressModel",
            "bar_style": "success",
            "max": 435797,
            "_view_module": "@jupyter-widgets/controls",
            "_model_module_version": "1.5.0",
            "value": 435797,
            "_view_count": null,
            "_view_module_version": "1.5.0",
            "orientation": "horizontal",
            "min": 0,
            "description_tooltip": null,
            "_model_module": "@jupyter-widgets/controls",
            "layout": "IPY_MODEL_947176aa4e3d4e4cb139559fe9f56221"
          }
        },
        "bc87281f59a3402eb387288b45bde7a8": {
          "model_module": "@jupyter-widgets/controls",
          "model_name": "HTMLModel",
          "model_module_version": "1.5.0",
          "state": {
            "_view_name": "HTMLView",
            "style": "IPY_MODEL_955d9b1a30e54bc8b469db1a73b3b057",
            "_dom_classes": [],
            "description": "",
            "_model_name": "HTMLModel",
            "placeholder": "​",
            "_view_module": "@jupyter-widgets/controls",
            "_model_module_version": "1.5.0",
            "value": " 426k/426k [00:00&lt;00:00, 1.14MB/s]",
            "_view_count": null,
            "_view_module_version": "1.5.0",
            "description_tooltip": null,
            "_model_module": "@jupyter-widgets/controls",
            "layout": "IPY_MODEL_4e6fbf525df8444d8365695006fa8877"
          }
        },
        "c7d9a020063449c09d6b9314cb6a0fe0": {
          "model_module": "@jupyter-widgets/controls",
          "model_name": "DescriptionStyleModel",
          "model_module_version": "1.5.0",
          "state": {
            "_view_name": "StyleView",
            "_model_name": "DescriptionStyleModel",
            "description_width": "",
            "_view_module": "@jupyter-widgets/base",
            "_model_module_version": "1.5.0",
            "_view_count": null,
            "_view_module_version": "1.2.0",
            "_model_module": "@jupyter-widgets/controls"
          }
        },
        "a105a72477d842c9995180a4f14670d1": {
          "model_module": "@jupyter-widgets/base",
          "model_name": "LayoutModel",
          "model_module_version": "1.2.0",
          "state": {
            "_view_name": "LayoutView",
            "grid_template_rows": null,
            "right": null,
            "justify_content": null,
            "_view_module": "@jupyter-widgets/base",
            "overflow": null,
            "_model_module_version": "1.2.0",
            "_view_count": null,
            "flex_flow": null,
            "width": null,
            "min_width": null,
            "border": null,
            "align_items": null,
            "bottom": null,
            "_model_module": "@jupyter-widgets/base",
            "top": null,
            "grid_column": null,
            "overflow_y": null,
            "overflow_x": null,
            "grid_auto_flow": null,
            "grid_area": null,
            "grid_template_columns": null,
            "flex": null,
            "_model_name": "LayoutModel",
            "justify_items": null,
            "grid_row": null,
            "max_height": null,
            "align_content": null,
            "visibility": null,
            "align_self": null,
            "height": null,
            "min_height": null,
            "padding": null,
            "grid_auto_rows": null,
            "grid_gap": null,
            "max_width": null,
            "order": null,
            "_view_module_version": "1.2.0",
            "grid_template_areas": null,
            "object_position": null,
            "object_fit": null,
            "grid_auto_columns": null,
            "margin": null,
            "display": null,
            "left": null
          }
        },
        "284baf4c59c548d2a97e5dc067041fb9": {
          "model_module": "@jupyter-widgets/controls",
          "model_name": "ProgressStyleModel",
          "model_module_version": "1.5.0",
          "state": {
            "_view_name": "StyleView",
            "_model_name": "ProgressStyleModel",
            "description_width": "",
            "_view_module": "@jupyter-widgets/base",
            "_model_module_version": "1.5.0",
            "_view_count": null,
            "_view_module_version": "1.2.0",
            "bar_color": null,
            "_model_module": "@jupyter-widgets/controls"
          }
        },
        "947176aa4e3d4e4cb139559fe9f56221": {
          "model_module": "@jupyter-widgets/base",
          "model_name": "LayoutModel",
          "model_module_version": "1.2.0",
          "state": {
            "_view_name": "LayoutView",
            "grid_template_rows": null,
            "right": null,
            "justify_content": null,
            "_view_module": "@jupyter-widgets/base",
            "overflow": null,
            "_model_module_version": "1.2.0",
            "_view_count": null,
            "flex_flow": null,
            "width": null,
            "min_width": null,
            "border": null,
            "align_items": null,
            "bottom": null,
            "_model_module": "@jupyter-widgets/base",
            "top": null,
            "grid_column": null,
            "overflow_y": null,
            "overflow_x": null,
            "grid_auto_flow": null,
            "grid_area": null,
            "grid_template_columns": null,
            "flex": null,
            "_model_name": "LayoutModel",
            "justify_items": null,
            "grid_row": null,
            "max_height": null,
            "align_content": null,
            "visibility": null,
            "align_self": null,
            "height": null,
            "min_height": null,
            "padding": null,
            "grid_auto_rows": null,
            "grid_gap": null,
            "max_width": null,
            "order": null,
            "_view_module_version": "1.2.0",
            "grid_template_areas": null,
            "object_position": null,
            "object_fit": null,
            "grid_auto_columns": null,
            "margin": null,
            "display": null,
            "left": null
          }
        },
        "955d9b1a30e54bc8b469db1a73b3b057": {
          "model_module": "@jupyter-widgets/controls",
          "model_name": "DescriptionStyleModel",
          "model_module_version": "1.5.0",
          "state": {
            "_view_name": "StyleView",
            "_model_name": "DescriptionStyleModel",
            "description_width": "",
            "_view_module": "@jupyter-widgets/base",
            "_model_module_version": "1.5.0",
            "_view_count": null,
            "_view_module_version": "1.2.0",
            "_model_module": "@jupyter-widgets/controls"
          }
        },
        "4e6fbf525df8444d8365695006fa8877": {
          "model_module": "@jupyter-widgets/base",
          "model_name": "LayoutModel",
          "model_module_version": "1.2.0",
          "state": {
            "_view_name": "LayoutView",
            "grid_template_rows": null,
            "right": null,
            "justify_content": null,
            "_view_module": "@jupyter-widgets/base",
            "overflow": null,
            "_model_module_version": "1.2.0",
            "_view_count": null,
            "flex_flow": null,
            "width": null,
            "min_width": null,
            "border": null,
            "align_items": null,
            "bottom": null,
            "_model_module": "@jupyter-widgets/base",
            "top": null,
            "grid_column": null,
            "overflow_y": null,
            "overflow_x": null,
            "grid_auto_flow": null,
            "grid_area": null,
            "grid_template_columns": null,
            "flex": null,
            "_model_name": "LayoutModel",
            "justify_items": null,
            "grid_row": null,
            "max_height": null,
            "align_content": null,
            "visibility": null,
            "align_self": null,
            "height": null,
            "min_height": null,
            "padding": null,
            "grid_auto_rows": null,
            "grid_gap": null,
            "max_width": null,
            "order": null,
            "_view_module_version": "1.2.0",
            "grid_template_areas": null,
            "object_position": null,
            "object_fit": null,
            "grid_auto_columns": null,
            "margin": null,
            "display": null,
            "left": null
          }
        },
        "5ad66846d3c84b838154d3d12cd81b84": {
          "model_module": "@jupyter-widgets/controls",
          "model_name": "HBoxModel",
          "model_module_version": "1.5.0",
          "state": {
            "_view_name": "HBoxView",
            "_dom_classes": [],
            "_model_name": "HBoxModel",
            "_view_module": "@jupyter-widgets/controls",
            "_model_module_version": "1.5.0",
            "_view_count": null,
            "_view_module_version": "1.5.0",
            "box_style": "",
            "layout": "IPY_MODEL_c05a8a1f1e3448ea831a67588686026d",
            "_model_module": "@jupyter-widgets/controls",
            "children": [
              "IPY_MODEL_d92f028790524b57ac805e8ea35f11da",
              "IPY_MODEL_ea53b6e8e5ea47cd9afe906b66e5f650",
              "IPY_MODEL_01316de24f7643cbb72509b36ca47279"
            ]
          }
        },
        "c05a8a1f1e3448ea831a67588686026d": {
          "model_module": "@jupyter-widgets/base",
          "model_name": "LayoutModel",
          "model_module_version": "1.2.0",
          "state": {
            "_view_name": "LayoutView",
            "grid_template_rows": null,
            "right": null,
            "justify_content": null,
            "_view_module": "@jupyter-widgets/base",
            "overflow": null,
            "_model_module_version": "1.2.0",
            "_view_count": null,
            "flex_flow": null,
            "width": null,
            "min_width": null,
            "border": null,
            "align_items": null,
            "bottom": null,
            "_model_module": "@jupyter-widgets/base",
            "top": null,
            "grid_column": null,
            "overflow_y": null,
            "overflow_x": null,
            "grid_auto_flow": null,
            "grid_area": null,
            "grid_template_columns": null,
            "flex": null,
            "_model_name": "LayoutModel",
            "justify_items": null,
            "grid_row": null,
            "max_height": null,
            "align_content": null,
            "visibility": null,
            "align_self": null,
            "height": null,
            "min_height": null,
            "padding": null,
            "grid_auto_rows": null,
            "grid_gap": null,
            "max_width": null,
            "order": null,
            "_view_module_version": "1.2.0",
            "grid_template_areas": null,
            "object_position": null,
            "object_fit": null,
            "grid_auto_columns": null,
            "margin": null,
            "display": null,
            "left": null
          }
        },
        "d92f028790524b57ac805e8ea35f11da": {
          "model_module": "@jupyter-widgets/controls",
          "model_name": "HTMLModel",
          "model_module_version": "1.5.0",
          "state": {
            "_view_name": "HTMLView",
            "style": "IPY_MODEL_062d220c08b84f77b4e178c78e7b7bd2",
            "_dom_classes": [],
            "description": "",
            "_model_name": "HTMLModel",
            "placeholder": "​",
            "_view_module": "@jupyter-widgets/controls",
            "_model_module_version": "1.5.0",
            "value": "Downloading: 100%",
            "_view_count": null,
            "_view_module_version": "1.5.0",
            "description_tooltip": null,
            "_model_module": "@jupyter-widgets/controls",
            "layout": "IPY_MODEL_2573f68e11e74fd18a309728874f9d20"
          }
        },
        "ea53b6e8e5ea47cd9afe906b66e5f650": {
          "model_module": "@jupyter-widgets/controls",
          "model_name": "FloatProgressModel",
          "model_module_version": "1.5.0",
          "state": {
            "_view_name": "ProgressView",
            "style": "IPY_MODEL_77d7ffb972f44ab68eefbb23d8f977e0",
            "_dom_classes": [],
            "description": "",
            "_model_name": "FloatProgressModel",
            "bar_style": "success",
            "max": 570,
            "_view_module": "@jupyter-widgets/controls",
            "_model_module_version": "1.5.0",
            "value": 570,
            "_view_count": null,
            "_view_module_version": "1.5.0",
            "orientation": "horizontal",
            "min": 0,
            "description_tooltip": null,
            "_model_module": "@jupyter-widgets/controls",
            "layout": "IPY_MODEL_d32e4a5463c147f6aefd04c9d560817e"
          }
        },
        "01316de24f7643cbb72509b36ca47279": {
          "model_module": "@jupyter-widgets/controls",
          "model_name": "HTMLModel",
          "model_module_version": "1.5.0",
          "state": {
            "_view_name": "HTMLView",
            "style": "IPY_MODEL_b4dac26cc3ef4b93933149657ccfcdd8",
            "_dom_classes": [],
            "description": "",
            "_model_name": "HTMLModel",
            "placeholder": "​",
            "_view_module": "@jupyter-widgets/controls",
            "_model_module_version": "1.5.0",
            "value": " 570/570 [00:00&lt;00:00, 15.6kB/s]",
            "_view_count": null,
            "_view_module_version": "1.5.0",
            "description_tooltip": null,
            "_model_module": "@jupyter-widgets/controls",
            "layout": "IPY_MODEL_7b9a23c0202a46d393e7170296e85615"
          }
        },
        "062d220c08b84f77b4e178c78e7b7bd2": {
          "model_module": "@jupyter-widgets/controls",
          "model_name": "DescriptionStyleModel",
          "model_module_version": "1.5.0",
          "state": {
            "_view_name": "StyleView",
            "_model_name": "DescriptionStyleModel",
            "description_width": "",
            "_view_module": "@jupyter-widgets/base",
            "_model_module_version": "1.5.0",
            "_view_count": null,
            "_view_module_version": "1.2.0",
            "_model_module": "@jupyter-widgets/controls"
          }
        },
        "2573f68e11e74fd18a309728874f9d20": {
          "model_module": "@jupyter-widgets/base",
          "model_name": "LayoutModel",
          "model_module_version": "1.2.0",
          "state": {
            "_view_name": "LayoutView",
            "grid_template_rows": null,
            "right": null,
            "justify_content": null,
            "_view_module": "@jupyter-widgets/base",
            "overflow": null,
            "_model_module_version": "1.2.0",
            "_view_count": null,
            "flex_flow": null,
            "width": null,
            "min_width": null,
            "border": null,
            "align_items": null,
            "bottom": null,
            "_model_module": "@jupyter-widgets/base",
            "top": null,
            "grid_column": null,
            "overflow_y": null,
            "overflow_x": null,
            "grid_auto_flow": null,
            "grid_area": null,
            "grid_template_columns": null,
            "flex": null,
            "_model_name": "LayoutModel",
            "justify_items": null,
            "grid_row": null,
            "max_height": null,
            "align_content": null,
            "visibility": null,
            "align_self": null,
            "height": null,
            "min_height": null,
            "padding": null,
            "grid_auto_rows": null,
            "grid_gap": null,
            "max_width": null,
            "order": null,
            "_view_module_version": "1.2.0",
            "grid_template_areas": null,
            "object_position": null,
            "object_fit": null,
            "grid_auto_columns": null,
            "margin": null,
            "display": null,
            "left": null
          }
        },
        "77d7ffb972f44ab68eefbb23d8f977e0": {
          "model_module": "@jupyter-widgets/controls",
          "model_name": "ProgressStyleModel",
          "model_module_version": "1.5.0",
          "state": {
            "_view_name": "StyleView",
            "_model_name": "ProgressStyleModel",
            "description_width": "",
            "_view_module": "@jupyter-widgets/base",
            "_model_module_version": "1.5.0",
            "_view_count": null,
            "_view_module_version": "1.2.0",
            "bar_color": null,
            "_model_module": "@jupyter-widgets/controls"
          }
        },
        "d32e4a5463c147f6aefd04c9d560817e": {
          "model_module": "@jupyter-widgets/base",
          "model_name": "LayoutModel",
          "model_module_version": "1.2.0",
          "state": {
            "_view_name": "LayoutView",
            "grid_template_rows": null,
            "right": null,
            "justify_content": null,
            "_view_module": "@jupyter-widgets/base",
            "overflow": null,
            "_model_module_version": "1.2.0",
            "_view_count": null,
            "flex_flow": null,
            "width": null,
            "min_width": null,
            "border": null,
            "align_items": null,
            "bottom": null,
            "_model_module": "@jupyter-widgets/base",
            "top": null,
            "grid_column": null,
            "overflow_y": null,
            "overflow_x": null,
            "grid_auto_flow": null,
            "grid_area": null,
            "grid_template_columns": null,
            "flex": null,
            "_model_name": "LayoutModel",
            "justify_items": null,
            "grid_row": null,
            "max_height": null,
            "align_content": null,
            "visibility": null,
            "align_self": null,
            "height": null,
            "min_height": null,
            "padding": null,
            "grid_auto_rows": null,
            "grid_gap": null,
            "max_width": null,
            "order": null,
            "_view_module_version": "1.2.0",
            "grid_template_areas": null,
            "object_position": null,
            "object_fit": null,
            "grid_auto_columns": null,
            "margin": null,
            "display": null,
            "left": null
          }
        },
        "b4dac26cc3ef4b93933149657ccfcdd8": {
          "model_module": "@jupyter-widgets/controls",
          "model_name": "DescriptionStyleModel",
          "model_module_version": "1.5.0",
          "state": {
            "_view_name": "StyleView",
            "_model_name": "DescriptionStyleModel",
            "description_width": "",
            "_view_module": "@jupyter-widgets/base",
            "_model_module_version": "1.5.0",
            "_view_count": null,
            "_view_module_version": "1.2.0",
            "_model_module": "@jupyter-widgets/controls"
          }
        },
        "7b9a23c0202a46d393e7170296e85615": {
          "model_module": "@jupyter-widgets/base",
          "model_name": "LayoutModel",
          "model_module_version": "1.2.0",
          "state": {
            "_view_name": "LayoutView",
            "grid_template_rows": null,
            "right": null,
            "justify_content": null,
            "_view_module": "@jupyter-widgets/base",
            "overflow": null,
            "_model_module_version": "1.2.0",
            "_view_count": null,
            "flex_flow": null,
            "width": null,
            "min_width": null,
            "border": null,
            "align_items": null,
            "bottom": null,
            "_model_module": "@jupyter-widgets/base",
            "top": null,
            "grid_column": null,
            "overflow_y": null,
            "overflow_x": null,
            "grid_auto_flow": null,
            "grid_area": null,
            "grid_template_columns": null,
            "flex": null,
            "_model_name": "LayoutModel",
            "justify_items": null,
            "grid_row": null,
            "max_height": null,
            "align_content": null,
            "visibility": null,
            "align_self": null,
            "height": null,
            "min_height": null,
            "padding": null,
            "grid_auto_rows": null,
            "grid_gap": null,
            "max_width": null,
            "order": null,
            "_view_module_version": "1.2.0",
            "grid_template_areas": null,
            "object_position": null,
            "object_fit": null,
            "grid_auto_columns": null,
            "margin": null,
            "display": null,
            "left": null
          }
        },
        "6f7b318e6a844adb93f2e456f3764368": {
          "model_module": "@jupyter-widgets/controls",
          "model_name": "HBoxModel",
          "model_module_version": "1.5.0",
          "state": {
            "_view_name": "HBoxView",
            "_dom_classes": [],
            "_model_name": "HBoxModel",
            "_view_module": "@jupyter-widgets/controls",
            "_model_module_version": "1.5.0",
            "_view_count": null,
            "_view_module_version": "1.5.0",
            "box_style": "",
            "layout": "IPY_MODEL_82e4cc65c80f4741afcf2bb46587b6e8",
            "_model_module": "@jupyter-widgets/controls",
            "children": [
              "IPY_MODEL_84677c7d6e9e4f8e8d5fc7d528490060",
              "IPY_MODEL_b299ce1fef15473b8a0d6930b4356d34",
              "IPY_MODEL_af4b7b1721b8447ab241f643c19b4221"
            ]
          }
        },
        "82e4cc65c80f4741afcf2bb46587b6e8": {
          "model_module": "@jupyter-widgets/base",
          "model_name": "LayoutModel",
          "model_module_version": "1.2.0",
          "state": {
            "_view_name": "LayoutView",
            "grid_template_rows": null,
            "right": null,
            "justify_content": null,
            "_view_module": "@jupyter-widgets/base",
            "overflow": null,
            "_model_module_version": "1.2.0",
            "_view_count": null,
            "flex_flow": null,
            "width": null,
            "min_width": null,
            "border": null,
            "align_items": null,
            "bottom": null,
            "_model_module": "@jupyter-widgets/base",
            "top": null,
            "grid_column": null,
            "overflow_y": null,
            "overflow_x": null,
            "grid_auto_flow": null,
            "grid_area": null,
            "grid_template_columns": null,
            "flex": null,
            "_model_name": "LayoutModel",
            "justify_items": null,
            "grid_row": null,
            "max_height": null,
            "align_content": null,
            "visibility": null,
            "align_self": null,
            "height": null,
            "min_height": null,
            "padding": null,
            "grid_auto_rows": null,
            "grid_gap": null,
            "max_width": null,
            "order": null,
            "_view_module_version": "1.2.0",
            "grid_template_areas": null,
            "object_position": null,
            "object_fit": null,
            "grid_auto_columns": null,
            "margin": null,
            "display": null,
            "left": null
          }
        },
        "84677c7d6e9e4f8e8d5fc7d528490060": {
          "model_module": "@jupyter-widgets/controls",
          "model_name": "HTMLModel",
          "model_module_version": "1.5.0",
          "state": {
            "_view_name": "HTMLView",
            "style": "IPY_MODEL_9f08662512574deebe9c60cf3821552d",
            "_dom_classes": [],
            "description": "",
            "_model_name": "HTMLModel",
            "placeholder": "​",
            "_view_module": "@jupyter-widgets/controls",
            "_model_module_version": "1.5.0",
            "value": "Downloading: 100%",
            "_view_count": null,
            "_view_module_version": "1.5.0",
            "description_tooltip": null,
            "_model_module": "@jupyter-widgets/controls",
            "layout": "IPY_MODEL_6f13f7a62c11452ab4cfeb81aede6c31"
          }
        },
        "b299ce1fef15473b8a0d6930b4356d34": {
          "model_module": "@jupyter-widgets/controls",
          "model_name": "FloatProgressModel",
          "model_module_version": "1.5.0",
          "state": {
            "_view_name": "ProgressView",
            "style": "IPY_MODEL_f112771a4abc4bbcb710499bcf02f624",
            "_dom_classes": [],
            "description": "",
            "_model_name": "FloatProgressModel",
            "bar_style": "success",
            "max": 435779157,
            "_view_module": "@jupyter-widgets/controls",
            "_model_module_version": "1.5.0",
            "value": 435779157,
            "_view_count": null,
            "_view_module_version": "1.5.0",
            "orientation": "horizontal",
            "min": 0,
            "description_tooltip": null,
            "_model_module": "@jupyter-widgets/controls",
            "layout": "IPY_MODEL_20988c0a161e42f6ba73f00031801ba5"
          }
        },
        "af4b7b1721b8447ab241f643c19b4221": {
          "model_module": "@jupyter-widgets/controls",
          "model_name": "HTMLModel",
          "model_module_version": "1.5.0",
          "state": {
            "_view_name": "HTMLView",
            "style": "IPY_MODEL_6faf566ed36c41568bde15de684dfdf0",
            "_dom_classes": [],
            "description": "",
            "_model_name": "HTMLModel",
            "placeholder": "​",
            "_view_module": "@jupyter-widgets/controls",
            "_model_module_version": "1.5.0",
            "value": " 416M/416M [00:09&lt;00:00, 45.5MB/s]",
            "_view_count": null,
            "_view_module_version": "1.5.0",
            "description_tooltip": null,
            "_model_module": "@jupyter-widgets/controls",
            "layout": "IPY_MODEL_1f57e903fbae4de38832f1d6296af8c4"
          }
        },
        "9f08662512574deebe9c60cf3821552d": {
          "model_module": "@jupyter-widgets/controls",
          "model_name": "DescriptionStyleModel",
          "model_module_version": "1.5.0",
          "state": {
            "_view_name": "StyleView",
            "_model_name": "DescriptionStyleModel",
            "description_width": "",
            "_view_module": "@jupyter-widgets/base",
            "_model_module_version": "1.5.0",
            "_view_count": null,
            "_view_module_version": "1.2.0",
            "_model_module": "@jupyter-widgets/controls"
          }
        },
        "6f13f7a62c11452ab4cfeb81aede6c31": {
          "model_module": "@jupyter-widgets/base",
          "model_name": "LayoutModel",
          "model_module_version": "1.2.0",
          "state": {
            "_view_name": "LayoutView",
            "grid_template_rows": null,
            "right": null,
            "justify_content": null,
            "_view_module": "@jupyter-widgets/base",
            "overflow": null,
            "_model_module_version": "1.2.0",
            "_view_count": null,
            "flex_flow": null,
            "width": null,
            "min_width": null,
            "border": null,
            "align_items": null,
            "bottom": null,
            "_model_module": "@jupyter-widgets/base",
            "top": null,
            "grid_column": null,
            "overflow_y": null,
            "overflow_x": null,
            "grid_auto_flow": null,
            "grid_area": null,
            "grid_template_columns": null,
            "flex": null,
            "_model_name": "LayoutModel",
            "justify_items": null,
            "grid_row": null,
            "max_height": null,
            "align_content": null,
            "visibility": null,
            "align_self": null,
            "height": null,
            "min_height": null,
            "padding": null,
            "grid_auto_rows": null,
            "grid_gap": null,
            "max_width": null,
            "order": null,
            "_view_module_version": "1.2.0",
            "grid_template_areas": null,
            "object_position": null,
            "object_fit": null,
            "grid_auto_columns": null,
            "margin": null,
            "display": null,
            "left": null
          }
        },
        "f112771a4abc4bbcb710499bcf02f624": {
          "model_module": "@jupyter-widgets/controls",
          "model_name": "ProgressStyleModel",
          "model_module_version": "1.5.0",
          "state": {
            "_view_name": "StyleView",
            "_model_name": "ProgressStyleModel",
            "description_width": "",
            "_view_module": "@jupyter-widgets/base",
            "_model_module_version": "1.5.0",
            "_view_count": null,
            "_view_module_version": "1.2.0",
            "bar_color": null,
            "_model_module": "@jupyter-widgets/controls"
          }
        },
        "20988c0a161e42f6ba73f00031801ba5": {
          "model_module": "@jupyter-widgets/base",
          "model_name": "LayoutModel",
          "model_module_version": "1.2.0",
          "state": {
            "_view_name": "LayoutView",
            "grid_template_rows": null,
            "right": null,
            "justify_content": null,
            "_view_module": "@jupyter-widgets/base",
            "overflow": null,
            "_model_module_version": "1.2.0",
            "_view_count": null,
            "flex_flow": null,
            "width": null,
            "min_width": null,
            "border": null,
            "align_items": null,
            "bottom": null,
            "_model_module": "@jupyter-widgets/base",
            "top": null,
            "grid_column": null,
            "overflow_y": null,
            "overflow_x": null,
            "grid_auto_flow": null,
            "grid_area": null,
            "grid_template_columns": null,
            "flex": null,
            "_model_name": "LayoutModel",
            "justify_items": null,
            "grid_row": null,
            "max_height": null,
            "align_content": null,
            "visibility": null,
            "align_self": null,
            "height": null,
            "min_height": null,
            "padding": null,
            "grid_auto_rows": null,
            "grid_gap": null,
            "max_width": null,
            "order": null,
            "_view_module_version": "1.2.0",
            "grid_template_areas": null,
            "object_position": null,
            "object_fit": null,
            "grid_auto_columns": null,
            "margin": null,
            "display": null,
            "left": null
          }
        },
        "6faf566ed36c41568bde15de684dfdf0": {
          "model_module": "@jupyter-widgets/controls",
          "model_name": "DescriptionStyleModel",
          "model_module_version": "1.5.0",
          "state": {
            "_view_name": "StyleView",
            "_model_name": "DescriptionStyleModel",
            "description_width": "",
            "_view_module": "@jupyter-widgets/base",
            "_model_module_version": "1.5.0",
            "_view_count": null,
            "_view_module_version": "1.2.0",
            "_model_module": "@jupyter-widgets/controls"
          }
        },
        "1f57e903fbae4de38832f1d6296af8c4": {
          "model_module": "@jupyter-widgets/base",
          "model_name": "LayoutModel",
          "model_module_version": "1.2.0",
          "state": {
            "_view_name": "LayoutView",
            "grid_template_rows": null,
            "right": null,
            "justify_content": null,
            "_view_module": "@jupyter-widgets/base",
            "overflow": null,
            "_model_module_version": "1.2.0",
            "_view_count": null,
            "flex_flow": null,
            "width": null,
            "min_width": null,
            "border": null,
            "align_items": null,
            "bottom": null,
            "_model_module": "@jupyter-widgets/base",
            "top": null,
            "grid_column": null,
            "overflow_y": null,
            "overflow_x": null,
            "grid_auto_flow": null,
            "grid_area": null,
            "grid_template_columns": null,
            "flex": null,
            "_model_name": "LayoutModel",
            "justify_items": null,
            "grid_row": null,
            "max_height": null,
            "align_content": null,
            "visibility": null,
            "align_self": null,
            "height": null,
            "min_height": null,
            "padding": null,
            "grid_auto_rows": null,
            "grid_gap": null,
            "max_width": null,
            "order": null,
            "_view_module_version": "1.2.0",
            "grid_template_areas": null,
            "object_position": null,
            "object_fit": null,
            "grid_auto_columns": null,
            "margin": null,
            "display": null,
            "left": null
          }
        }
      }
    }
  },
  "cells": [
    {
      "cell_type": "markdown",
      "metadata": {
        "id": "view-in-github",
        "colab_type": "text"
      },
      "source": [
        "<a href=\"https://colab.research.google.com/github/Mustafa017/feedback_analysis/blob/main/index.ipynb\" target=\"_parent\"><img src=\"https://colab.research.google.com/assets/colab-badge.svg\" alt=\"Open In Colab\"/></a>"
      ]
    },
    {
      "cell_type": "code",
      "source": [
        "!nvidia-smi"
      ],
      "metadata": {
        "id": "LauZtrL566uK",
        "outputId": "eb206544-a005-47fc-9785-9427715435e7",
        "colab": {
          "base_uri": "https://localhost:8080/"
        }
      },
      "execution_count": 1,
      "outputs": [
        {
          "output_type": "stream",
          "name": "stdout",
          "text": [
            "NVIDIA-SMI has failed because it couldn't communicate with the NVIDIA driver. Make sure that the latest NVIDIA driver is installed and running.\n",
            "\n"
          ]
        }
      ]
    },
    {
      "cell_type": "code",
      "execution_count": 2,
      "metadata": {
        "id": "jDl3MD94IqZW",
        "outputId": "7aea25f0-fe7f-434c-aae0-19ed09cc68a0",
        "colab": {
          "base_uri": "https://localhost:8080/"
        }
      },
      "outputs": [
        {
          "output_type": "stream",
          "name": "stdout",
          "text": [
            "\u001b[31mERROR: pip's dependency resolver does not currently take into account all the packages that are installed. This behaviour is the source of the following dependency conflicts.\n",
            "markdown 3.3.6 requires importlib-metadata>=4.4; python_version < \"3.10\", but you have importlib-metadata 2.1.2 which is incompatible.\u001b[0m\n"
          ]
        }
      ],
      "source": [
        "!pip install -q -U watermark"
      ]
    },
    {
      "cell_type": "code",
      "source": [
        "!pip install -qq transformers"
      ],
      "metadata": {
        "colab": {
          "base_uri": "https://localhost:8080/"
        },
        "id": "NkiNiJg5Lbti",
        "outputId": "ed8c66c3-21f8-4a0b-ea0a-ea68c37e94f0"
      },
      "execution_count": 3,
      "outputs": [
        {
          "output_type": "stream",
          "name": "stdout",
          "text": [
            "\u001b[K     |████████████████████████████████| 3.4 MB 6.7 MB/s \n",
            "\u001b[K     |████████████████████████████████| 596 kB 54.2 MB/s \n",
            "\u001b[K     |████████████████████████████████| 895 kB 58.9 MB/s \n",
            "\u001b[K     |████████████████████████████████| 3.3 MB 58.6 MB/s \n",
            "\u001b[K     |████████████████████████████████| 67 kB 7.0 MB/s \n",
            "\u001b[?25h"
          ]
        }
      ]
    },
    {
      "cell_type": "code",
      "source": [
        "%reload_ext watermark\n",
        "%watermark -v -p numpy,pandas,torch,transformers"
      ],
      "metadata": {
        "colab": {
          "base_uri": "https://localhost:8080/"
        },
        "id": "NnfexkQvLxX4",
        "outputId": "af4fb5bf-6aac-4e85-8b6c-477c1902e53f"
      },
      "execution_count": 4,
      "outputs": [
        {
          "output_type": "stream",
          "name": "stdout",
          "text": [
            "Python implementation: CPython\n",
            "Python version       : 3.7.12\n",
            "IPython version      : 5.5.0\n",
            "\n",
            "numpy       : 1.19.5\n",
            "pandas      : 1.1.5\n",
            "torch       : 1.10.0+cu111\n",
            "transformers: 4.15.0\n",
            "\n"
          ]
        }
      ]
    },
    {
      "cell_type": "code",
      "source": [
        "!gdown --id 1S6qMioqPJjyBLpLVz4gmRTnJHnjitnuV\n",
        "!gdown --id 1zdmewp7ayS4js4VtrJEHzAheSW-5NBZv"
      ],
      "metadata": {
        "colab": {
          "base_uri": "https://localhost:8080/"
        },
        "id": "EZhuwnfSMFaG",
        "outputId": "3d3721a9-3a4c-4617-f37c-d389b05c9bc0"
      },
      "execution_count": 5,
      "outputs": [
        {
          "output_type": "stream",
          "name": "stdout",
          "text": [
            "Downloading...\n",
            "From: https://drive.google.com/uc?id=1S6qMioqPJjyBLpLVz4gmRTnJHnjitnuV\n",
            "To: /content/apps.csv\n",
            "100% 134k/134k [00:00<00:00, 1.18MB/s]\n",
            "Downloading...\n",
            "From: https://drive.google.com/uc?id=1zdmewp7ayS4js4VtrJEHzAheSW-5NBZv\n",
            "To: /content/reviews.csv\n",
            "100% 7.17M/7.17M [00:00<00:00, 33.5MB/s]\n"
          ]
        }
      ]
    },
    {
      "cell_type": "code",
      "source": [
        "!ls -a "
      ],
      "metadata": {
        "colab": {
          "base_uri": "https://localhost:8080/"
        },
        "id": "SIssdsssN6f2",
        "outputId": "17653f11-45aa-413c-9cbd-65420ebdfbf5"
      },
      "execution_count": 6,
      "outputs": [
        {
          "output_type": "stream",
          "name": "stdout",
          "text": [
            ".  ..  apps.csv  .config  reviews.csv  sample_data\n"
          ]
        }
      ]
    },
    {
      "cell_type": "code",
      "source": [
        "import pandas as pd\n",
        "import matplotlib.pyplot as plt\n",
        "import seaborn as sns\n",
        "from transformers import BertModel, BertTokenizer\n",
        "\n",
        "import torch\n",
        "from torch.utils.data import Dataset, DataLoader\n",
        "from torch import nn, optim\n",
        "\n",
        "from sklearn.model_selection import train_test_split\n",
        "RANDOM_SEED=42\n",
        "\n",
        "%matplotlib inline\n",
        "plt.rcParams['figure.figsize'] = (15, 5)\n",
        "plt.style.use('ggplot')"
      ],
      "metadata": {
        "id": "Zge5cB3aN_GY"
      },
      "execution_count": 44,
      "outputs": []
    },
    {
      "cell_type": "code",
      "source": [
        "df = pd.read_csv('reviews.csv')\n",
        "df.head()"
      ],
      "metadata": {
        "colab": {
          "base_uri": "https://localhost:8080/",
          "height": 337
        },
        "id": "y5ni3OFPOIp9",
        "outputId": "3370c6d1-f182-434a-f47c-c61765238d42"
      },
      "execution_count": 8,
      "outputs": [
        {
          "output_type": "execute_result",
          "data": {
            "text/html": [
              "\n",
              "  <div id=\"df-beafdef3-2adc-4f2b-ac3a-e41880aeec43\">\n",
              "    <div class=\"colab-df-container\">\n",
              "      <div>\n",
              "<style scoped>\n",
              "    .dataframe tbody tr th:only-of-type {\n",
              "        vertical-align: middle;\n",
              "    }\n",
              "\n",
              "    .dataframe tbody tr th {\n",
              "        vertical-align: top;\n",
              "    }\n",
              "\n",
              "    .dataframe thead th {\n",
              "        text-align: right;\n",
              "    }\n",
              "</style>\n",
              "<table border=\"1\" class=\"dataframe\">\n",
              "  <thead>\n",
              "    <tr style=\"text-align: right;\">\n",
              "      <th></th>\n",
              "      <th>userName</th>\n",
              "      <th>userImage</th>\n",
              "      <th>content</th>\n",
              "      <th>score</th>\n",
              "      <th>thumbsUpCount</th>\n",
              "      <th>reviewCreatedVersion</th>\n",
              "      <th>at</th>\n",
              "      <th>replyContent</th>\n",
              "      <th>repliedAt</th>\n",
              "      <th>sortOrder</th>\n",
              "      <th>appId</th>\n",
              "    </tr>\n",
              "  </thead>\n",
              "  <tbody>\n",
              "    <tr>\n",
              "      <th>0</th>\n",
              "      <td>Andrew Thomas</td>\n",
              "      <td>https://lh3.googleusercontent.com/a-/AOh14GiHd...</td>\n",
              "      <td>Update: After getting a response from the deve...</td>\n",
              "      <td>1</td>\n",
              "      <td>21</td>\n",
              "      <td>4.17.0.3</td>\n",
              "      <td>2020-04-05 22:25:57</td>\n",
              "      <td>According to our TOS, and the term you have ag...</td>\n",
              "      <td>2020-04-05 15:10:24</td>\n",
              "      <td>most_relevant</td>\n",
              "      <td>com.anydo</td>\n",
              "    </tr>\n",
              "    <tr>\n",
              "      <th>1</th>\n",
              "      <td>Craig Haines</td>\n",
              "      <td>https://lh3.googleusercontent.com/-hoe0kwSJgPQ...</td>\n",
              "      <td>Used it for a fair amount of time without any ...</td>\n",
              "      <td>1</td>\n",
              "      <td>11</td>\n",
              "      <td>4.17.0.3</td>\n",
              "      <td>2020-04-04 13:40:01</td>\n",
              "      <td>It sounds like you logged in with a different ...</td>\n",
              "      <td>2020-04-05 15:11:35</td>\n",
              "      <td>most_relevant</td>\n",
              "      <td>com.anydo</td>\n",
              "    </tr>\n",
              "    <tr>\n",
              "      <th>2</th>\n",
              "      <td>steven adkins</td>\n",
              "      <td>https://lh3.googleusercontent.com/a-/AOh14GiXw...</td>\n",
              "      <td>Your app sucks now!!!!! Used to be good but no...</td>\n",
              "      <td>1</td>\n",
              "      <td>17</td>\n",
              "      <td>4.17.0.3</td>\n",
              "      <td>2020-04-01 16:18:13</td>\n",
              "      <td>This sounds odd! We are not aware of any issue...</td>\n",
              "      <td>2020-04-02 16:05:56</td>\n",
              "      <td>most_relevant</td>\n",
              "      <td>com.anydo</td>\n",
              "    </tr>\n",
              "    <tr>\n",
              "      <th>3</th>\n",
              "      <td>Lars Panzerbjørn</td>\n",
              "      <td>https://lh3.googleusercontent.com/a-/AOh14Gg-h...</td>\n",
              "      <td>It seems OK, but very basic. Recurring tasks n...</td>\n",
              "      <td>1</td>\n",
              "      <td>192</td>\n",
              "      <td>4.17.0.2</td>\n",
              "      <td>2020-03-12 08:17:34</td>\n",
              "      <td>We do offer this option as part of the Advance...</td>\n",
              "      <td>2020-03-15 06:20:13</td>\n",
              "      <td>most_relevant</td>\n",
              "      <td>com.anydo</td>\n",
              "    </tr>\n",
              "    <tr>\n",
              "      <th>4</th>\n",
              "      <td>Scott Prewitt</td>\n",
              "      <td>https://lh3.googleusercontent.com/-K-X1-YsVd6U...</td>\n",
              "      <td>Absolutely worthless. This app runs a prohibit...</td>\n",
              "      <td>1</td>\n",
              "      <td>42</td>\n",
              "      <td>4.17.0.2</td>\n",
              "      <td>2020-03-14 17:41:01</td>\n",
              "      <td>We're sorry you feel this way! 90% of the app ...</td>\n",
              "      <td>2020-03-15 23:45:51</td>\n",
              "      <td>most_relevant</td>\n",
              "      <td>com.anydo</td>\n",
              "    </tr>\n",
              "  </tbody>\n",
              "</table>\n",
              "</div>\n",
              "      <button class=\"colab-df-convert\" onclick=\"convertToInteractive('df-beafdef3-2adc-4f2b-ac3a-e41880aeec43')\"\n",
              "              title=\"Convert this dataframe to an interactive table.\"\n",
              "              style=\"display:none;\">\n",
              "        \n",
              "  <svg xmlns=\"http://www.w3.org/2000/svg\" height=\"24px\"viewBox=\"0 0 24 24\"\n",
              "       width=\"24px\">\n",
              "    <path d=\"M0 0h24v24H0V0z\" fill=\"none\"/>\n",
              "    <path d=\"M18.56 5.44l.94 2.06.94-2.06 2.06-.94-2.06-.94-.94-2.06-.94 2.06-2.06.94zm-11 1L8.5 8.5l.94-2.06 2.06-.94-2.06-.94L8.5 2.5l-.94 2.06-2.06.94zm10 10l.94 2.06.94-2.06 2.06-.94-2.06-.94-.94-2.06-.94 2.06-2.06.94z\"/><path d=\"M17.41 7.96l-1.37-1.37c-.4-.4-.92-.59-1.43-.59-.52 0-1.04.2-1.43.59L10.3 9.45l-7.72 7.72c-.78.78-.78 2.05 0 2.83L4 21.41c.39.39.9.59 1.41.59.51 0 1.02-.2 1.41-.59l7.78-7.78 2.81-2.81c.8-.78.8-2.07 0-2.86zM5.41 20L4 18.59l7.72-7.72 1.47 1.35L5.41 20z\"/>\n",
              "  </svg>\n",
              "      </button>\n",
              "      \n",
              "  <style>\n",
              "    .colab-df-container {\n",
              "      display:flex;\n",
              "      flex-wrap:wrap;\n",
              "      gap: 12px;\n",
              "    }\n",
              "\n",
              "    .colab-df-convert {\n",
              "      background-color: #E8F0FE;\n",
              "      border: none;\n",
              "      border-radius: 50%;\n",
              "      cursor: pointer;\n",
              "      display: none;\n",
              "      fill: #1967D2;\n",
              "      height: 32px;\n",
              "      padding: 0 0 0 0;\n",
              "      width: 32px;\n",
              "    }\n",
              "\n",
              "    .colab-df-convert:hover {\n",
              "      background-color: #E2EBFA;\n",
              "      box-shadow: 0px 1px 2px rgba(60, 64, 67, 0.3), 0px 1px 3px 1px rgba(60, 64, 67, 0.15);\n",
              "      fill: #174EA6;\n",
              "    }\n",
              "\n",
              "    [theme=dark] .colab-df-convert {\n",
              "      background-color: #3B4455;\n",
              "      fill: #D2E3FC;\n",
              "    }\n",
              "\n",
              "    [theme=dark] .colab-df-convert:hover {\n",
              "      background-color: #434B5C;\n",
              "      box-shadow: 0px 1px 3px 1px rgba(0, 0, 0, 0.15);\n",
              "      filter: drop-shadow(0px 1px 2px rgba(0, 0, 0, 0.3));\n",
              "      fill: #FFFFFF;\n",
              "    }\n",
              "  </style>\n",
              "\n",
              "      <script>\n",
              "        const buttonEl =\n",
              "          document.querySelector('#df-beafdef3-2adc-4f2b-ac3a-e41880aeec43 button.colab-df-convert');\n",
              "        buttonEl.style.display =\n",
              "          google.colab.kernel.accessAllowed ? 'block' : 'none';\n",
              "\n",
              "        async function convertToInteractive(key) {\n",
              "          const element = document.querySelector('#df-beafdef3-2adc-4f2b-ac3a-e41880aeec43');\n",
              "          const dataTable =\n",
              "            await google.colab.kernel.invokeFunction('convertToInteractive',\n",
              "                                                     [key], {});\n",
              "          if (!dataTable) return;\n",
              "\n",
              "          const docLinkHtml = 'Like what you see? Visit the ' +\n",
              "            '<a target=\"_blank\" href=https://colab.research.google.com/notebooks/data_table.ipynb>data table notebook</a>'\n",
              "            + ' to learn more about interactive tables.';\n",
              "          element.innerHTML = '';\n",
              "          dataTable['output_type'] = 'display_data';\n",
              "          await google.colab.output.renderOutput(dataTable, element);\n",
              "          const docLink = document.createElement('div');\n",
              "          docLink.innerHTML = docLinkHtml;\n",
              "          element.appendChild(docLink);\n",
              "        }\n",
              "      </script>\n",
              "    </div>\n",
              "  </div>\n",
              "  "
            ],
            "text/plain": [
              "           userName  ...      appId\n",
              "0     Andrew Thomas  ...  com.anydo\n",
              "1      Craig Haines  ...  com.anydo\n",
              "2     steven adkins  ...  com.anydo\n",
              "3  Lars Panzerbjørn  ...  com.anydo\n",
              "4     Scott Prewitt  ...  com.anydo\n",
              "\n",
              "[5 rows x 11 columns]"
            ]
          },
          "metadata": {},
          "execution_count": 8
        }
      ]
    },
    {
      "cell_type": "code",
      "source": [
        "print(df.shape, '\\n')\n",
        "df.info()"
      ],
      "metadata": {
        "colab": {
          "base_uri": "https://localhost:8080/"
        },
        "id": "pPmuQvY6Qa-l",
        "outputId": "fce8a8b9-6a35-40ae-f6e2-15f2b2934adb"
      },
      "execution_count": 9,
      "outputs": [
        {
          "output_type": "stream",
          "name": "stdout",
          "text": [
            "(15746, 11) \n",
            "\n",
            "<class 'pandas.core.frame.DataFrame'>\n",
            "RangeIndex: 15746 entries, 0 to 15745\n",
            "Data columns (total 11 columns):\n",
            " #   Column                Non-Null Count  Dtype \n",
            "---  ------                --------------  ----- \n",
            " 0   userName              15746 non-null  object\n",
            " 1   userImage             15746 non-null  object\n",
            " 2   content               15746 non-null  object\n",
            " 3   score                 15746 non-null  int64 \n",
            " 4   thumbsUpCount         15746 non-null  int64 \n",
            " 5   reviewCreatedVersion  13533 non-null  object\n",
            " 6   at                    15746 non-null  object\n",
            " 7   replyContent          7367 non-null   object\n",
            " 8   repliedAt             7367 non-null   object\n",
            " 9   sortOrder             15746 non-null  object\n",
            " 10  appId                 15746 non-null  object\n",
            "dtypes: int64(2), object(9)\n",
            "memory usage: 1.3+ MB\n"
          ]
        }
      ]
    },
    {
      "cell_type": "markdown",
      "source": [
        "The Score and Review text have no missing values. That is great"
      ],
      "metadata": {
        "id": "Cacr14Z6RDny"
      }
    },
    {
      "cell_type": "code",
      "source": [
        "sns.countplot(df.score)"
      ],
      "metadata": {
        "id": "GjWimrdqQdsh",
        "colab": {
          "base_uri": "https://localhost:8080/",
          "height": 408
        },
        "outputId": "019a85f8-17b5-4dd5-e91f-d259a8b3e80c"
      },
      "execution_count": 10,
      "outputs": [
        {
          "output_type": "stream",
          "name": "stderr",
          "text": [
            "/usr/local/lib/python3.7/dist-packages/seaborn/_decorators.py:43: FutureWarning: Pass the following variable as a keyword arg: x. From version 0.12, the only valid positional argument will be `data`, and passing other arguments without an explicit keyword will result in an error or misinterpretation.\n",
            "  FutureWarning\n"
          ]
        },
        {
          "output_type": "execute_result",
          "data": {
            "text/plain": [
              "<matplotlib.axes._subplots.AxesSubplot at 0x7f5cc21ba4d0>"
            ]
          },
          "metadata": {},
          "execution_count": 10
        },
        {
          "output_type": "display_data",
          "data": {
            "image/png": "[encoded data removed]",
            "text/plain": [
              "<Figure size 1080x360 with 1 Axes>"
            ]
          },
          "metadata": {}
        }
      ]
    },
    {
      "cell_type": "markdown",
      "source": [
        "Most of the reviews have a score of 3 which indicates neutral comments. This is an imbalanced dataset. So we will create three sentiments positive, neutral, and negative. Then try and balance the scores among these three sentiments. Training the model on more of one data type will create a bias, which is what we are trying to avoid."
      ],
      "metadata": {
        "id": "26WJdhsQWooQ"
      }
    },
    {
      "cell_type": "code",
      "source": [
        "def score_to_sentiment(rating):\n",
        "  \"\"\"\n",
        "  convert score to a sentiment\n",
        "  negative = 0\n",
        "  neutral = 1\n",
        "  positive = 2\n",
        "\n",
        "  Parameters\n",
        "  ----------\n",
        "  rating str\n",
        "\n",
        "  return\n",
        "  ------\n",
        "  sentiment int \n",
        "  \"\"\"\n",
        "  rating = int(rating)\n",
        "  if rating < 3:\n",
        "    return 0\n",
        "  elif rating > 3:\n",
        "    return 2\n",
        "  else:\n",
        "    return 1"
      ],
      "metadata": {
        "id": "kDv2lSIuWMtg"
      },
      "execution_count": 11,
      "outputs": []
    },
    {
      "cell_type": "code",
      "source": [
        "df['sentiment'] = df.score.apply(score_to_sentiment)\n",
        "df.head()"
      ],
      "metadata": {
        "colab": {
          "base_uri": "https://localhost:8080/",
          "height": 337
        },
        "id": "wPu8f8BXaOAb",
        "outputId": "5988c4b9-dfd8-40dd-b770-2cdc153d68e1"
      },
      "execution_count": 12,
      "outputs": [
        {
          "output_type": "execute_result",
          "data": {
            "text/html": [
              "\n",
              "  <div id=\"df-f4752a79-ab85-4156-8354-e7bc73a48fa2\">\n",
              "    <div class=\"colab-df-container\">\n",
              "      <div>\n",
              "<style scoped>\n",
              "    .dataframe tbody tr th:only-of-type {\n",
              "        vertical-align: middle;\n",
              "    }\n",
              "\n",
              "    .dataframe tbody tr th {\n",
              "        vertical-align: top;\n",
              "    }\n",
              "\n",
              "    .dataframe thead th {\n",
              "        text-align: right;\n",
              "    }\n",
              "</style>\n",
              "<table border=\"1\" class=\"dataframe\">\n",
              "  <thead>\n",
              "    <tr style=\"text-align: right;\">\n",
              "      <th></th>\n",
              "      <th>userName</th>\n",
              "      <th>userImage</th>\n",
              "      <th>content</th>\n",
              "      <th>score</th>\n",
              "      <th>thumbsUpCount</th>\n",
              "      <th>reviewCreatedVersion</th>\n",
              "      <th>at</th>\n",
              "      <th>replyContent</th>\n",
              "      <th>repliedAt</th>\n",
              "      <th>sortOrder</th>\n",
              "      <th>appId</th>\n",
              "      <th>sentiment</th>\n",
              "    </tr>\n",
              "  </thead>\n",
              "  <tbody>\n",
              "    <tr>\n",
              "      <th>0</th>\n",
              "      <td>Andrew Thomas</td>\n",
              "      <td>https://lh3.googleusercontent.com/a-/AOh14GiHd...</td>\n",
              "      <td>Update: After getting a response from the deve...</td>\n",
              "      <td>1</td>\n",
              "      <td>21</td>\n",
              "      <td>4.17.0.3</td>\n",
              "      <td>2020-04-05 22:25:57</td>\n",
              "      <td>According to our TOS, and the term you have ag...</td>\n",
              "      <td>2020-04-05 15:10:24</td>\n",
              "      <td>most_relevant</td>\n",
              "      <td>com.anydo</td>\n",
              "      <td>0</td>\n",
              "    </tr>\n",
              "    <tr>\n",
              "      <th>1</th>\n",
              "      <td>Craig Haines</td>\n",
              "      <td>https://lh3.googleusercontent.com/-hoe0kwSJgPQ...</td>\n",
              "      <td>Used it for a fair amount of time without any ...</td>\n",
              "      <td>1</td>\n",
              "      <td>11</td>\n",
              "      <td>4.17.0.3</td>\n",
              "      <td>2020-04-04 13:40:01</td>\n",
              "      <td>It sounds like you logged in with a different ...</td>\n",
              "      <td>2020-04-05 15:11:35</td>\n",
              "      <td>most_relevant</td>\n",
              "      <td>com.anydo</td>\n",
              "      <td>0</td>\n",
              "    </tr>\n",
              "    <tr>\n",
              "      <th>2</th>\n",
              "      <td>steven adkins</td>\n",
              "      <td>https://lh3.googleusercontent.com/a-/AOh14GiXw...</td>\n",
              "      <td>Your app sucks now!!!!! Used to be good but no...</td>\n",
              "      <td>1</td>\n",
              "      <td>17</td>\n",
              "      <td>4.17.0.3</td>\n",
              "      <td>2020-04-01 16:18:13</td>\n",
              "      <td>This sounds odd! We are not aware of any issue...</td>\n",
              "      <td>2020-04-02 16:05:56</td>\n",
              "      <td>most_relevant</td>\n",
              "      <td>com.anydo</td>\n",
              "      <td>0</td>\n",
              "    </tr>\n",
              "    <tr>\n",
              "      <th>3</th>\n",
              "      <td>Lars Panzerbjørn</td>\n",
              "      <td>https://lh3.googleusercontent.com/a-/AOh14Gg-h...</td>\n",
              "      <td>It seems OK, but very basic. Recurring tasks n...</td>\n",
              "      <td>1</td>\n",
              "      <td>192</td>\n",
              "      <td>4.17.0.2</td>\n",
              "      <td>2020-03-12 08:17:34</td>\n",
              "      <td>We do offer this option as part of the Advance...</td>\n",
              "      <td>2020-03-15 06:20:13</td>\n",
              "      <td>most_relevant</td>\n",
              "      <td>com.anydo</td>\n",
              "      <td>0</td>\n",
              "    </tr>\n",
              "    <tr>\n",
              "      <th>4</th>\n",
              "      <td>Scott Prewitt</td>\n",
              "      <td>https://lh3.googleusercontent.com/-K-X1-YsVd6U...</td>\n",
              "      <td>Absolutely worthless. This app runs a prohibit...</td>\n",
              "      <td>1</td>\n",
              "      <td>42</td>\n",
              "      <td>4.17.0.2</td>\n",
              "      <td>2020-03-14 17:41:01</td>\n",
              "      <td>We're sorry you feel this way! 90% of the app ...</td>\n",
              "      <td>2020-03-15 23:45:51</td>\n",
              "      <td>most_relevant</td>\n",
              "      <td>com.anydo</td>\n",
              "      <td>0</td>\n",
              "    </tr>\n",
              "  </tbody>\n",
              "</table>\n",
              "</div>\n",
              "      <button class=\"colab-df-convert\" onclick=\"convertToInteractive('df-f4752a79-ab85-4156-8354-e7bc73a48fa2')\"\n",
              "              title=\"Convert this dataframe to an interactive table.\"\n",
              "              style=\"display:none;\">\n",
              "        \n",
              "  <svg xmlns=\"http://www.w3.org/2000/svg\" height=\"24px\"viewBox=\"0 0 24 24\"\n",
              "       width=\"24px\">\n",
              "    <path d=\"M0 0h24v24H0V0z\" fill=\"none\"/>\n",
              "    <path d=\"M18.56 5.44l.94 2.06.94-2.06 2.06-.94-2.06-.94-.94-2.06-.94 2.06-2.06.94zm-11 1L8.5 8.5l.94-2.06 2.06-.94-2.06-.94L8.5 2.5l-.94 2.06-2.06.94zm10 10l.94 2.06.94-2.06 2.06-.94-2.06-.94-.94-2.06-.94 2.06-2.06.94z\"/><path d=\"M17.41 7.96l-1.37-1.37c-.4-.4-.92-.59-1.43-.59-.52 0-1.04.2-1.43.59L10.3 9.45l-7.72 7.72c-.78.78-.78 2.05 0 2.83L4 21.41c.39.39.9.59 1.41.59.51 0 1.02-.2 1.41-.59l7.78-7.78 2.81-2.81c.8-.78.8-2.07 0-2.86zM5.41 20L4 18.59l7.72-7.72 1.47 1.35L5.41 20z\"/>\n",
              "  </svg>\n",
              "      </button>\n",
              "      \n",
              "  <style>\n",
              "    .colab-df-container {\n",
              "      display:flex;\n",
              "      flex-wrap:wrap;\n",
              "      gap: 12px;\n",
              "    }\n",
              "\n",
              "    .colab-df-convert {\n",
              "      background-color: #E8F0FE;\n",
              "      border: none;\n",
              "      border-radius: 50%;\n",
              "      cursor: pointer;\n",
              "      display: none;\n",
              "      fill: #1967D2;\n",
              "      height: 32px;\n",
              "      padding: 0 0 0 0;\n",
              "      width: 32px;\n",
              "    }\n",
              "\n",
              "    .colab-df-convert:hover {\n",
              "      background-color: #E2EBFA;\n",
              "      box-shadow: 0px 1px 2px rgba(60, 64, 67, 0.3), 0px 1px 3px 1px rgba(60, 64, 67, 0.15);\n",
              "      fill: #174EA6;\n",
              "    }\n",
              "\n",
              "    [theme=dark] .colab-df-convert {\n",
              "      background-color: #3B4455;\n",
              "      fill: #D2E3FC;\n",
              "    }\n",
              "\n",
              "    [theme=dark] .colab-df-convert:hover {\n",
              "      background-color: #434B5C;\n",
              "      box-shadow: 0px 1px 3px 1px rgba(0, 0, 0, 0.15);\n",
              "      filter: drop-shadow(0px 1px 2px rgba(0, 0, 0, 0.3));\n",
              "      fill: #FFFFFF;\n",
              "    }\n",
              "  </style>\n",
              "\n",
              "      <script>\n",
              "        const buttonEl =\n",
              "          document.querySelector('#df-f4752a79-ab85-4156-8354-e7bc73a48fa2 button.colab-df-convert');\n",
              "        buttonEl.style.display =\n",
              "          google.colab.kernel.accessAllowed ? 'block' : 'none';\n",
              "\n",
              "        async function convertToInteractive(key) {\n",
              "          const element = document.querySelector('#df-f4752a79-ab85-4156-8354-e7bc73a48fa2');\n",
              "          const dataTable =\n",
              "            await google.colab.kernel.invokeFunction('convertToInteractive',\n",
              "                                                     [key], {});\n",
              "          if (!dataTable) return;\n",
              "\n",
              "          const docLinkHtml = 'Like what you see? Visit the ' +\n",
              "            '<a target=\"_blank\" href=https://colab.research.google.com/notebooks/data_table.ipynb>data table notebook</a>'\n",
              "            + ' to learn more about interactive tables.';\n",
              "          element.innerHTML = '';\n",
              "          dataTable['output_type'] = 'display_data';\n",
              "          await google.colab.output.renderOutput(dataTable, element);\n",
              "          const docLink = document.createElement('div');\n",
              "          docLink.innerHTML = docLinkHtml;\n",
              "          element.appendChild(docLink);\n",
              "        }\n",
              "      </script>\n",
              "    </div>\n",
              "  </div>\n",
              "  "
            ],
            "text/plain": [
              "           userName  ... sentiment\n",
              "0     Andrew Thomas  ...         0\n",
              "1      Craig Haines  ...         0\n",
              "2     steven adkins  ...         0\n",
              "3  Lars Panzerbjørn  ...         0\n",
              "4     Scott Prewitt  ...         0\n",
              "\n",
              "[5 rows x 12 columns]"
            ]
          },
          "metadata": {},
          "execution_count": 12
        }
      ]
    },
    {
      "cell_type": "code",
      "source": [
        "sentiment_classes = [\"negative\", \"neutral\", \"positive\"]"
      ],
      "metadata": {
        "id": "Nobl9N8Wfl_Y"
      },
      "execution_count": 13,
      "outputs": []
    },
    {
      "cell_type": "code",
      "source": [
        "ax = sns.countplot(df.sentiment)\n",
        "plt.xlabel('review sentiments')\n",
        "ax.set_xticklabels(sentiment_classes)"
      ],
      "metadata": {
        "colab": {
          "base_uri": "https://localhost:8080/",
          "height": 408
        },
        "id": "TcW8xs7pdpid",
        "outputId": "acb01e82-8b76-4610-83bf-f384a9b0af1d"
      },
      "execution_count": 14,
      "outputs": [
        {
          "output_type": "stream",
          "name": "stderr",
          "text": [
            "/usr/local/lib/python3.7/dist-packages/seaborn/_decorators.py:43: FutureWarning: Pass the following variable as a keyword arg: x. From version 0.12, the only valid positional argument will be `data`, and passing other arguments without an explicit keyword will result in an error or misinterpretation.\n",
            "  FutureWarning\n"
          ]
        },
        {
          "output_type": "execute_result",
          "data": {
            "text/plain": [
              "[Text(0, 0, 'negative'), Text(0, 0, 'neutral'), Text(0, 0, 'positive')]"
            ]
          },
          "metadata": {},
          "execution_count": 14
        },
        {
          "output_type": "display_data",
          "data": {
            "image/png": "[encoded data removed]",
            "text/plain": [
              "<Figure size 1080x360 with 1 Axes>"
            ]
          },
          "metadata": {}
        }
      ]
    },
    {
      "cell_type": "markdown",
      "source": [
        "The reviews are alomst equal and this solution provides a balanced dataset."
      ],
      "metadata": {
        "id": "9WoB3vMReGwV"
      }
    },
    {
      "cell_type": "markdown",
      "source": [
        "# Data Preprocessing\n",
        "Machine learning models work with numbers only. So we need to convert the text to numbers. To achieve we need to use a tokenizer.\n",
        "\n",
        "The Transformers library provides a variety of models e.g. BERT which includes prebuild tokenizers that help us with the conversions."
      ],
      "metadata": {
        "id": "Wogxqv8efi_s"
      }
    },
    {
      "cell_type": "markdown",
      "source": [
        "## Tokenizing (splitting strings in sub-word token strings)\n",
        "A tokenizer is in charge of preparing the inputs for a model.\n",
        "* Tokenizing (splitting strings in sub-word token strings), converting tokens strings to ids and back, and encoding/decoding (i.e., tokenizing and converting to integers).\n",
        "* Adding new tokens to the vocabulary in a way that is independent of the underlying structure (BPE, SentencePiece…).\n",
        "* Managing special tokens (like mask, beginning-of-sentence, etc.): adding them, assigning them to attributes in the tokenizer for easy access and making sure they are not split during tokenization."
      ],
      "metadata": {
        "id": "Kw9ocJ0C8DQM"
      }
    },
    {
      "cell_type": "code",
      "source": [
        "#The cased version works better.\n",
        "PRE_TRAINED_MODEL_NAME = 'bert-base-cased'"
      ],
      "metadata": {
        "id": "2K6ewE5neD9U"
      },
      "execution_count": 15,
      "outputs": []
    },
    {
      "cell_type": "markdown",
      "source": [
        "### PRETRAINED MODEL\n",
        "[`PreTrainedModel`](https://huggingface.co/docs/transformers/v4.15.0/en/main_classes/model#transformers.PreTrainedModel.from_pretrained) takes care of storing the configuration of the models and handles methods for loading, downloading and saving models as well as a few methods common to all models to:\n",
        "\n",
        "* resize the input embeddings,\n",
        "* prune heads in the self-attention heads."
      ],
      "metadata": {
        "id": "k8XmBgbrLFWQ"
      }
    },
    {
      "cell_type": "code",
      "source": [
        "#load a pre-trained BertTokenizer\n",
        "tokenizer = BertTokenizer.from_pretrained(PRE_TRAINED_MODEL_NAME)"
      ],
      "metadata": {
        "colab": {
          "base_uri": "https://localhost:8080/",
          "height": 145,
          "referenced_widgets": [
            "d201b67e86784919a27077b8a4f092b0",
            "c40ee0c601244e26a6de02e9795f49cf",
            "963c4e747365458a9ee49033d79ce931",
            "24094283e4ed43f6a04078aca0bb9bb6",
            "02440b6d4fe944d69572fdc5cb848ad9",
            "deea583f9b8e41f48d56267123715d0f",
            "4aa4f1d6c3d843f281a7eaf236cae0ff",
            "81b13885df234ea0b6840d85858b8d99",
            "c60cd0189d394e14a6de9bc49aa37edb",
            "a45eafd132154008ade88ffd887eccb2",
            "34a189e7bdf0447886a8d71fa6d84c76",
            "a27fb9ce0c874d358926300f25dcfed1",
            "c6db2e0fbf13467aa52d70b6a9a0e46c",
            "ed1247415f1f4ff4aa526eda18c097b2",
            "eb2baf4f47c541e3ac3e2c131ad23c45",
            "3adf8571e04d4ae8a25d5dc61cedef22",
            "e3b12c5d90a341c090b542f22b91c9be",
            "987451bf3a434b018242a117246203d9",
            "def2bc2582d44376b0ca3d94f907ecda",
            "afa8113a6ace4a97b56bc0cf643b91ad",
            "3d04d99217b84bbfb5fe0b3ba15b4d45",
            "23236e84d0fb4823afd9350cd28f25e3",
            "32b82739c8164b31807b03a4a5e6b8c3",
            "a460f9adbe3f42fbbc7e13efed59af79",
            "96d6f9d6a26e4410b034a2a4fc5c26ef",
            "b8963b5ee57c40c1997ff1080f002e83",
            "bc87281f59a3402eb387288b45bde7a8",
            "c7d9a020063449c09d6b9314cb6a0fe0",
            "a105a72477d842c9995180a4f14670d1",
            "284baf4c59c548d2a97e5dc067041fb9",
            "947176aa4e3d4e4cb139559fe9f56221",
            "955d9b1a30e54bc8b469db1a73b3b057",
            "4e6fbf525df8444d8365695006fa8877",
            "5ad66846d3c84b838154d3d12cd81b84",
            "c05a8a1f1e3448ea831a67588686026d",
            "d92f028790524b57ac805e8ea35f11da",
            "ea53b6e8e5ea47cd9afe906b66e5f650",
            "01316de24f7643cbb72509b36ca47279",
            "062d220c08b84f77b4e178c78e7b7bd2",
            "2573f68e11e74fd18a309728874f9d20",
            "77d7ffb972f44ab68eefbb23d8f977e0",
            "d32e4a5463c147f6aefd04c9d560817e",
            "b4dac26cc3ef4b93933149657ccfcdd8",
            "7b9a23c0202a46d393e7170296e85615"
          ]
        },
        "id": "kcpewkPJpvrf",
        "outputId": "f89fc470-6178-40db-d9f7-aeb89efc9349"
      },
      "execution_count": 16,
      "outputs": [
        {
          "output_type": "display_data",
          "data": {
            "application/vnd.jupyter.widget-view+json": {
              "model_id": "d201b67e86784919a27077b8a4f092b0",
              "version_minor": 0,
              "version_major": 2
            },
            "text/plain": [
              "Downloading:   0%|          | 0.00/208k [00:00<?, ?B/s]"
            ]
          },
          "metadata": {}
        },
        {
          "output_type": "display_data",
          "data": {
            "application/vnd.jupyter.widget-view+json": {
              "model_id": "a27fb9ce0c874d358926300f25dcfed1",
              "version_minor": 0,
              "version_major": 2
            },
            "text/plain": [
              "Downloading:   0%|          | 0.00/29.0 [00:00<?, ?B/s]"
            ]
          },
          "metadata": {}
        },
        {
          "output_type": "display_data",
          "data": {
            "application/vnd.jupyter.widget-view+json": {
              "model_id": "32b82739c8164b31807b03a4a5e6b8c3",
              "version_minor": 0,
              "version_major": 2
            },
            "text/plain": [
              "Downloading:   0%|          | 0.00/426k [00:00<?, ?B/s]"
            ]
          },
          "metadata": {}
        },
        {
          "output_type": "display_data",
          "data": {
            "application/vnd.jupyter.widget-view+json": {
              "model_id": "5ad66846d3c84b838154d3d12cd81b84",
              "version_minor": 0,
              "version_major": 2
            },
            "text/plain": [
              "Downloading:   0%|          | 0.00/570 [00:00<?, ?B/s]"
            ]
          },
          "metadata": {}
        }
      ]
    },
    {
      "cell_type": "code",
      "source": [
        "tokenizer"
      ],
      "metadata": {
        "id": "xZ7fkC-lHlq6",
        "outputId": "67639115-b69b-4950-e4a3-f1f998ad5a75",
        "colab": {
          "base_uri": "https://localhost:8080/"
        }
      },
      "execution_count": 17,
      "outputs": [
        {
          "output_type": "execute_result",
          "data": {
            "text/plain": [
              "PreTrainedTokenizer(name_or_path='bert-base-cased', vocab_size=28996, model_max_len=512, is_fast=False, padding_side='right', special_tokens={'unk_token': '[UNK]', 'sep_token': '[SEP]', 'pad_token': '[PAD]', 'cls_token': '[CLS]', 'mask_token': '[MASK]'})"
            ]
          },
          "metadata": {},
          "execution_count": 17
        }
      ]
    },
    {
      "cell_type": "markdown",
      "source": [
        "Let's test how a tokenizer works. We can\n",
        "\n",
        "\n",
        "*   convert text to tokens\n",
        "*   convert tokens to token_ids\n",
        "\n"
      ],
      "metadata": {
        "id": "F_-KOqpSu_qX"
      }
    },
    {
      "cell_type": "code",
      "source": [
        "sample_text = 'When was I last outside? I am stuck at home for 2 weeks.'\n",
        "s = \"You can't have your to do list as notifications\" # problem\n",
        "tokens = tokenizer.tokenize(sample_text)\n",
        "token_ids = tokenizer.convert_tokens_to_ids(tokens)\n",
        "\n",
        "print(f'Original Sentence: {sample_text}')\n",
        "print(f'Generated Tokens: {tokens}')\n",
        "print(f'Token IDs: {token_ids}')"
      ],
      "metadata": {
        "colab": {
          "base_uri": "https://localhost:8080/"
        },
        "id": "x8msnue8u-vi",
        "outputId": "52339361-559e-4358-ab24-c604b8faf4ed"
      },
      "execution_count": 18,
      "outputs": [
        {
          "output_type": "stream",
          "name": "stdout",
          "text": [
            "Original Sentence: When was I last outside? I am stuck at home for 2 weeks.\n",
            "Generated Tokens: ['When', 'was', 'I', 'last', 'outside', '?', 'I', 'am', 'stuck', 'at', 'home', 'for', '2', 'weeks', '.']\n",
            "Token IDs: [1332, 1108, 146, 1314, 1796, 136, 146, 1821, 5342, 1120, 1313, 1111, 123, 2277, 119]\n"
          ]
        }
      ]
    },
    {
      "cell_type": "markdown",
      "source": [
        "## Add Special tokens\n",
        "\n",
        "BERT uses special tokens [CLS], [SEP], and [PAD] to understand input properly.\n",
        "\n",
        "*   [SEP] A special token separating two different sentences in the same input.\n",
        "*   [CLS] A special token representing the class of the input.\n",
        "*   [PAD] A special token used to make arrays of tokens the same size for batching purpose. **Will then be ignored by attention mechanisms or loss computation.**\n",
        "*   [UNK] A special token representing an out-of-vocabulary token.\n",
        "*   [MASK] A special token representing a masked token."
      ],
      "metadata": {
        "id": "0nsugDbjxq6G"
      }
    },
    {
      "cell_type": "code",
      "source": [
        "print(f'{tokenizer.sep_token}, {tokenizer.sep_token_id}')\n",
        "print(f'{tokenizer.cls_token}, {tokenizer.cls_token_id}')\n",
        "print(f'{tokenizer.pad_token}, {tokenizer.pad_token_id}')\n",
        "print(f'{tokenizer.unk_token}, {tokenizer.unk_token_id}')"
      ],
      "metadata": {
        "colab": {
          "base_uri": "https://localhost:8080/"
        },
        "id": "ejc44I2N5tUX",
        "outputId": "efcde1fe-8600-46aa-c2d5-223f29e45ba9"
      },
      "execution_count": 19,
      "outputs": [
        {
          "output_type": "stream",
          "name": "stdout",
          "text": [
            "[SEP], 102\n",
            "[CLS], 101\n",
            "[PAD], 0\n",
            "[UNK], 100\n"
          ]
        }
      ]
    },
    {
      "cell_type": "markdown",
      "source": [
        "* Special tokens are carefully handled by the tokenizer (they are never split).\n",
        "\n",
        "* You can easily refer to special tokens using tokenizer class attributes like tokenizer.cls_token. This makes it easy to develop model-agnostic training and fine-tuning scripts."
      ],
      "metadata": {
        "id": "ez71il47_rCc"
      }
    },
    {
      "cell_type": "markdown",
      "source": [
        "All of that work (adding special tokens to the dataframe) can be done using the **encode_plus()** method:"
      ],
      "metadata": {
        "id": "bs6GKOeYCWgV"
      }
    },
    {
      "cell_type": "code",
      "source": [
        "encoding = tokenizer.encode_plus(sample_text, add_special_tokens=True, return_token_type_ids=False, return_tensors='pt', \n",
        "                                 return_attention_mask=True, max_length=32, padding='max_length')\n",
        "encoding"
      ],
      "metadata": {
        "colab": {
          "base_uri": "https://localhost:8080/"
        },
        "id": "jSKzAR2d_vVL",
        "outputId": "67f0ecf6-da67-4ac2-833a-b348cd783867"
      },
      "execution_count": 20,
      "outputs": [
        {
          "output_type": "execute_result",
          "data": {
            "text/plain": [
              "{'input_ids': tensor([[ 101, 1332, 1108,  146, 1314, 1796,  136,  146, 1821, 5342, 1120, 1313,\n",
              "         1111,  123, 2277,  119,  102,    0,    0,    0,    0,    0,    0,    0,\n",
              "            0,    0,    0,    0,    0,    0,    0,    0]]), 'attention_mask': tensor([[1, 1, 1, 1, 1, 1, 1, 1, 1, 1, 1, 1, 1, 1, 1, 1, 1, 0, 0, 0, 0, 0, 0, 0,\n",
              "         0, 0, 0, 0, 0, 0, 0, 0]])}"
            ]
          },
          "metadata": {},
          "execution_count": 20
        }
      ]
    },
    {
      "cell_type": "code",
      "source": [
        "print(encoding.keys(), '\\n')\n",
        "\n",
        "print(f\"input_ids size: {len(encoding['input_ids'][0])}\")\n",
        "print(encoding['input_ids'][0], '\\n')\n",
        "\n",
        "print(f\"attention mask size: {len(encoding['attention_mask'][0])}\")\n",
        "print(encoding['attention_mask'][0], '\\n')"
      ],
      "metadata": {
        "colab": {
          "base_uri": "https://localhost:8080/"
        },
        "id": "6rEtpiOWFZLG",
        "outputId": "0dfd47d9-1fa8-435a-d050-863aecdaddc0"
      },
      "execution_count": 21,
      "outputs": [
        {
          "output_type": "stream",
          "name": "stdout",
          "text": [
            "dict_keys(['input_ids', 'attention_mask']) \n",
            "\n",
            "input_ids size: 32\n",
            "tensor([ 101, 1332, 1108,  146, 1314, 1796,  136,  146, 1821, 5342, 1120, 1313,\n",
            "        1111,  123, 2277,  119,  102,    0,    0,    0,    0,    0,    0,    0,\n",
            "           0,    0,    0,    0,    0,    0,    0,    0]) \n",
            "\n",
            "attention mask size: 32\n",
            "tensor([1, 1, 1, 1, 1, 1, 1, 1, 1, 1, 1, 1, 1, 1, 1, 1, 1, 0, 0, 0, 0, 0, 0, 0,\n",
            "        0, 0, 0, 0, 0, 0, 0, 0]) \n",
            "\n"
          ]
        }
      ]
    },
    {
      "cell_type": "markdown",
      "source": [
        "We can inverse the tokenization to have a look at the special tokens:\n"
      ],
      "metadata": {
        "id": "Jv22910yNOo0"
      }
    },
    {
      "cell_type": "code",
      "source": [
        "tokenizer.convert_ids_to_tokens(encoding['input_ids'][0])"
      ],
      "metadata": {
        "id": "AZdz2mGCMg96",
        "outputId": "41943487-8209-4123-9e84-dbe30d74bf63",
        "colab": {
          "base_uri": "https://localhost:8080/"
        }
      },
      "execution_count": 22,
      "outputs": [
        {
          "output_type": "execute_result",
          "data": {
            "text/plain": [
              "['[CLS]',\n",
              " 'When',\n",
              " 'was',\n",
              " 'I',\n",
              " 'last',\n",
              " 'outside',\n",
              " '?',\n",
              " 'I',\n",
              " 'am',\n",
              " 'stuck',\n",
              " 'at',\n",
              " 'home',\n",
              " 'for',\n",
              " '2',\n",
              " 'weeks',\n",
              " '.',\n",
              " '[SEP]',\n",
              " '[PAD]',\n",
              " '[PAD]',\n",
              " '[PAD]',\n",
              " '[PAD]',\n",
              " '[PAD]',\n",
              " '[PAD]',\n",
              " '[PAD]',\n",
              " '[PAD]',\n",
              " '[PAD]',\n",
              " '[PAD]',\n",
              " '[PAD]',\n",
              " '[PAD]',\n",
              " '[PAD]',\n",
              " '[PAD]',\n",
              " '[PAD]']"
            ]
          },
          "metadata": {},
          "execution_count": 22
        }
      ]
    },
    {
      "cell_type": "markdown",
      "source": [
        "## Choose Suitable Padding Length\n",
        "BERT works with fixed-length sequences. We need to choose a suitable length."
      ],
      "metadata": {
        "id": "0XM7zZv3PJ9r"
      }
    },
    {
      "cell_type": "code",
      "source": [
        "padding_lengths = []\n",
        "\n",
        "for t in df.content:\n",
        "  token = tokenizer.encode(t, max_length=512, truncation=True)\n",
        "  padding_lengths.append(len(token))\n",
        "\n",
        "print(padding_lengths)\n"
      ],
      "metadata": {
        "colab": {
          "base_uri": "https://localhost:8080/"
        },
        "id": "eSKRZLeE4F60",
        "outputId": "342ddc2f-2374-4720-b65a-90e3afaf5336"
      },
      "execution_count": 23,
      "outputs": [
        {
          "output_type": "stream",
          "name": "stdout",
          "text": [
            "[108, 42, 70, 118, 90, 114, 136, 108, 82, 77, 77, 34, 61, 52, 48, 52, 42, 141, 37, 32, 40, 24, 17, 16, 35, 39, 34, 21, 35, 27, 58, 26, 90, 35, 20, 19, 59, 19, 25, 109, 143, 117, 12, 80, 98, 52, 21, 128, 56, 120, 89, 84, 66, 78, 22, 20, 68, 134, 56, 57, 67, 18, 53, 37, 38, 25, 103, 28, 43, 36, 47, 39, 26, 25, 24, 45, 32, 51, 38, 18, 23, 44, 35, 23, 37, 19, 25, 19, 25, 33, 11, 17, 23, 170, 124, 98, 25, 13, 85, 12, 37, 3, 108, 40, 33, 42, 3, 20, 15, 12, 70, 4, 15, 9, 77, 15, 7, 18, 13, 14, 11, 42, 8, 39, 63, 34, 114, 19, 6, 16, 9, 5, 35, 5, 18, 13, 82, 11, 90, 4, 118, 52, 37, 102, 8, 77, 6, 12, 61, 48, 6, 10, 27, 20, 22, 32, 5, 4, 34, 5, 37, 13, 20, 17, 7, 26, 24, 6, 40, 57, 25, 13, 52, 21, 16, 48, 11, 35, 41, 27, 25, 170, 25, 19, 58, 113, 34, 8, 31, 34, 52, 35, 56, 22, 17, 14, 108, 20, 64, 17, 106, 141, 125, 41, 51, 43, 36, 21, 20, 34, 17, 126, 27, 21, 102, 107, 113, 95, 11, 181, 87, 125, 93, 66, 82, 26, 52, 51, 50, 52, 62, 44, 26, 51, 36, 35, 41, 39, 18, 16, 25, 25, 64, 76, 106, 16, 119, 61, 70, 114, 112, 122, 51, 73, 42, 7, 42, 117, 50, 45, 40, 69, 101, 70, 38, 190, 47, 94, 57, 120, 122, 135, 55, 116, 86, 71, 107, 127, 93, 72, 81, 85, 131, 94, 101, 271, 122, 135, 129, 127, 102, 109, 112, 111, 59, 57, 88, 92, 69, 35, 52, 17, 16, 81, 6, 41, 64, 39, 70, 17, 106, 141, 7, 21, 51, 40, 36, 51, 23, 31, 45, 4, 31, 43, 290, 20, 26, 76, 13, 125, 34, 27, 25, 42, 21, 10, 38, 45, 26, 11, 34, 50, 31, 126, 29, 106, 26, 11, 42, 36, 6, 61, 4, 35, 18, 8, 11, 23, 52, 27, 102, 181, 122, 12, 62, 95, 20, 114, 19, 70, 93, 119, 30, 87, 16, 52, 44, 51, 57, 125, 26, 25, 8, 82, 21, 25, 73, 126, 41, 113, 9, 50, 107, 66, 16, 27, 10, 41, 42, 14, 113, 82, 110, 86, 81, 88, 89, 80, 64, 48, 68, 52, 53, 43, 32, 13, 34, 114, 127, 113, 118, 124, 109, 124, 62, 94, 28, 65, 96, 57, 53, 39, 40, 30, 33, 36, 18, 41, 34, 17, 23, 37, 22, 118, 118, 15, 119, 92, 44, 99, 65, 30, 35, 54, 63, 90, 73, 64, 91, 86, 58, 106, 171, 119, 92, 83, 84, 202, 97, 109, 81, 119, 109, 34, 106, 102, 122, 123, 26, 119, 84, 110, 119, 54, 105, 131, 76, 125, 179, 93, 77, 113, 37, 68, 110, 77, 72, 126, 101, 61, 68, 87, 78, 88, 36, 22, 57, 96, 74, 98, 115, 73, 59, 84, 108, 59, 67, 89, 63, 60, 124, 67, 93, 58, 70, 66, 26, 65, 72, 59, 68, 59, 67, 70, 121, 56, 49, 48, 46, 71, 46, 66, 75, 68, 82, 71, 65, 43, 49, 61, 47, 47, 34, 51, 52, 60, 61, 52, 44, 63, 48, 48, 62, 54, 18, 58, 51, 60, 50, 51, 33, 31, 45, 33, 41, 44, 47, 35, 41, 31, 18, 34, 42, 59, 52, 36, 40, 42, 29, 38, 32, 28, 26, 34, 36, 45, 43, 19, 31, 47, 39, 3, 4, 32, 48, 19, 4, 3, 4, 118, 4, 52, 92, 86, 50, 81, 43, 13, 10, 34, 26, 4, 89, 68, 53, 10, 30, 4, 13, 3, 4, 118, 64, 80, 22, 88, 110, 18, 54, 113, 22, 34, 82, 35, 82, 15, 78, 17, 30, 113, 37, 44, 114, 127, 7, 28, 94, 96, 124, 62, 40, 90, 36, 41, 9, 21, 64, 57, 65, 124, 73, 65, 118, 39, 22, 34, 23, 15, 36, 47, 33, 53, 18, 109, 5, 224, 11, 63, 99, 14, 14, 34, 119, 33, 75, 18, 23, 37, 3, 81, 54, 65, 58, 17, 26, 19, 73, 21, 3, 71, 108, 82, 113, 22, 20, 119, 126, 84, 4, 88, 68, 22, 21, 32, 119, 5, 115, 4, 72, 28, 33, 49, 16, 20, 98, 63, 3, 47, 60, 6, 43, 52, 54, 124, 179, 43, 11, 63, 26, 28, 52, 123, 27, 33, 87, 78, 41, 13, 13, 45, 57, 30, 8, 14, 32, 34, 22, 11, 3, 6, 77, 27, 66, 105, 16, 34, 46, 125, 72, 39, 22, 34, 41, 53, 38, 121, 29, 3, 93, 32, 25, 23, 26, 7, 59, 52, 78, 26, 9, 13, 30, 122, 116, 123, 103, 91, 53, 40, 57, 65, 65, 54, 44, 45, 26, 26, 31, 44, 26, 21, 14, 17, 21, 73, 83, 11, 12, 61, 59, 58, 118, 44, 16, 37, 65, 108, 90, 80, 83, 89, 76, 71, 26, 13, 11, 25, 45, 33, 17, 18, 27, 38, 25, 16, 29, 29, 15, 24, 33, 11, 13, 8, 104, 9, 15, 7, 9, 17, 102, 11, 71, 97, 84, 41, 37, 49, 60, 55, 56, 99, 131, 110, 45, 138, 115, 54, 38, 175, 46, 75, 126, 107, 71, 34, 103, 42, 28, 109, 116, 111, 3, 34, 3, 9, 4, 30, 12, 26, 8, 14, 16, 3, 5, 4, 3, 40, 104, 26, 12, 3, 11, 17, 65, 26, 21, 4, 11, 123, 53, 7, 5, 91, 3, 116, 11, 83, 6, 3, 31, 28, 6, 13, 20, 45, 21, 6, 3, 65, 54, 21, 38, 6, 57, 37, 18, 16, 4, 118, 11, 37, 25, 103, 44, 4, 122, 44, 4, 16, 5, 58, 73, 13, 61, 60, 55, 6, 4, 14, 26, 37, 73, 3, 41, 6, 44, 9, 4, 59, 17, 3, 8, 65, 71, 108, 83, 6, 6, 4, 4, 65, 117, 125, 69, 84, 129, 92, 29, 80, 90, 133, 131, 60, 63, 63, 52, 69, 41, 67, 35, 47, 42, 56, 54, 47, 38, 76, 44, 43, 29, 38, 35, 49, 52, 92, 29, 22, 40, 30, 39, 33, 38, 33, 26, 29, 35, 38, 32, 19, 36, 39, 25, 29, 28, 24, 28, 46, 18, 28, 20, 20, 12, 61, 30, 17, 24, 19, 33, 19, 17, 20, 10, 23, 17, 31, 21, 21, 28, 25, 19, 21, 20, 33, 17, 19, 17, 15, 32, 33, 17, 15, 28, 13, 12, 14, 12, 20, 16, 17, 14, 16, 70, 5, 23, 13, 148, 4, 61, 66, 10, 4, 5, 33, 3, 26, 4, 9, 6, 57, 3, 33, 4, 15, 4, 10, 3, 7, 4, 6, 3, 11, 41, 131, 20, 10, 3, 23, 29, 4, 5, 4, 4, 5, 3, 4, 23, 91, 13, 40, 8, 3, 63, 6, 14, 17, 4, 8, 12, 17, 4, 8, 17, 4, 48, 3, 5, 38, 5, 5, 22, 6, 20, 21, 3, 4, 8, 4, 14, 9, 12, 35, 13, 5, 97, 14, 6, 20, 10, 13, 3, 4, 12, 4, 12, 3, 5, 8, 8, 8, 5, 4, 80, 65, 52, 56, 64, 43, 81, 84, 28, 65, 107, 69, 77, 110, 68, 23, 27, 25, 16, 59, 22, 16, 31, 27, 111, 57, 118, 116, 124, 52, 94, 92, 107, 85, 121, 117, 86, 81, 74, 123, 67, 68, 60, 57, 43, 30, 64, 33, 12, 59, 44, 40, 71, 40, 31, 31, 34, 24, 52, 22, 25, 44, 29, 9, 30, 11, 125, 106, 143, 112, 94, 17, 9, 13, 28, 51, 42, 35, 84, 79, 30, 108, 108, 92, 91, 146, 83, 83, 262, 87, 32, 127, 31, 102, 113, 98, 31, 30, 92, 78, 35, 23, 65, 11, 29, 25, 142, 43, 80, 56, 52, 28, 25, 64, 3, 28, 12, 11, 16, 22, 16, 11, 27, 44, 12, 7, 30, 107, 77, 20, 32, 31, 69, 31, 65, 84, 27, 32, 81, 30, 3, 44, 23, 125, 7, 10, 22, 59, 10, 12, 32, 24, 110, 68, 118, 24, 52, 13, 33, 44, 30, 17, 111, 57, 35, 10, 34, 42, 14, 51, 25, 7, 17, 67, 123, 30, 33, 18, 52, 81, 10, 30, 74, 64, 106, 13, 32, 5, 13, 32, 4, 6, 71, 86, 33, 13, 9, 40, 31, 37, 85, 90, 133, 82, 79, 50, 44, 44, 122, 53, 23, 85, 11, 106, 105, 111, 115, 78, 120, 54, 61, 44, 43, 45, 28, 23, 22, 12, 91, 130, 58, 161, 42, 94, 110, 176, 95, 78, 104, 102, 109, 44, 73, 91, 114, 86, 94, 106, 109, 65, 62, 61, 76, 75, 94, 71, 66, 60, 44, 67, 122, 53, 53, 58, 52, 27, 61, 75, 35, 44, 50, 45, 50, 40, 34, 57, 41, 61, 35, 30, 29, 29, 19, 35, 23, 22, 29, 24, 41, 28, 21, 21, 23, 21, 23, 16, 30, 37, 18, 16, 131, 85, 50, 23, 82, 44, 14, 90, 133, 129, 61, 44, 79, 4, 22, 53, 48, 11, 58, 91, 130, 122, 30, 85, 43, 106, 44, 7, 105, 3, 27, 22, 28, 23, 52, 115, 7, 19, 12, 15, 78, 44, 42, 120, 61, 17, 111, 47, 105, 54, 94, 81, 45, 8, 30, 70, 4, 161, 30, 37, 34, 50, 14, 21, 109, 9, 76, 35, 13, 91, 29, 61, 65, 17, 8, 81, 176, 66, 18, 6, 106, 71, 126, 94, 22, 62, 6, 14, 67, 7, 86, 122, 51, 20, 6, 95, 60, 114, 73, 109, 113, 78, 113, 57, 53, 46, 74, 53, 83, 47, 29, 23, 17, 28, 31, 102, 95, 18, 23, 106, 111, 121, 128, 12, 123, 94, 70, 85, 68, 36, 48, 42, 43, 54, 25, 15, 29, 18, 22, 23, 11, 21, 86, 94, 10, 80, 99, 41, 126, 98, 115, 120, 108, 113, 100, 21, 83, 23, 104, 100, 118, 40, 143, 91, 81, 100, 75, 70, 72, 64, 64, 61, 78, 100, 25, 48, 52, 70, 72, 37, 53, 62, 8, 52, 50, 58, 42, 38, 53, 53, 45, 56, 35, 43, 45, 58, 48, 42, 35, 41, 55, 35, 38, 33, 26, 54, 32, 26, 33, 26, 43, 11, 43, 21, 42, 9, 27, 23, 26, 48, 33, 68, 30, 33, 30, 29, 21, 21, 31, 15, 30, 20, 30, 18, 12, 21, 11, 13, 11, 10, 33, 21, 18, 12, 11, 21, 33, 21, 15, 15, 10, 12, 14, 10, 13, 13, 7, 9, 13, 10, 20, 9, 8, 21, 14, 23, 14, 29, 11, 9, 24, 13, 19, 16, 15, 10, 12, 8, 6, 8, 9, 15, 4, 37, 159, 4, 110, 3, 12, 4, 115, 3, 51, 119, 25, 3, 4, 3, 35, 20, 37, 12, 113, 23, 113, 78, 80, 46, 53, 9, 40, 57, 110, 47, 11, 74, 29, 4, 102, 25, 28, 11, 94, 9, 83, 15, 15, 23, 18, 4, 17, 53, 159, 31, 36, 86, 23, 95, 11, 18, 10, 21, 8, 23, 128, 3, 41, 29, 34, 68, 54, 4, 99, 18, 12, 25, 106, 43, 3, 111, 115, 11, 21, 94, 85, 48, 37, 22, 42, 15, 70, 123, 121, 119, 4, 51, 3, 4, 25, 54, 13, 3, 8, 33, 91, 21, 20, 3, 43, 11, 26, 6, 9, 21, 56, 15, 21, 83, 15, 35, 68, 9, 13, 19, 100, 107, 6, 41, 42, 30, 8, 53, 58, 13, 4, 5, 26, 33, 64, 64, 12, 70, 15, 27, 33, 33, 43, 13, 16, 53, 35, 10, 75, 43, 23, 25, 14, 3, 53, 72, 24, 119, 12, 33, 38, 143, 3, 35, 113, 8, 51, 21, 105, 113, 61, 104, 100, 13, 5, 4, 126, 81, 100, 12, 9, 21, 35, 48, 120, 118, 48, 108, 13, 15, 90, 4, 100, 10, 52, 29, 26, 29, 4, 91, 62, 39, 31, 84, 14, 38, 20, 4, 7, 26, 58, 52, 4, 21, 20, 30, 96, 113, 81, 68, 49, 70, 60, 40, 137, 40, 67, 47, 26, 33, 21, 92, 102, 93, 79, 114, 29, 19, 69, 89, 62, 66, 119, 26, 80, 63, 111, 22, 36, 16, 30, 19, 38, 40, 33, 33, 30, 32, 22, 34, 21, 21, 15, 19, 21, 15, 19, 16, 24, 262, 15, 169, 56, 188, 81, 93, 101, 121, 41, 13, 38, 88, 37, 125, 61, 35, 17, 29, 29, 32, 37, 38, 13, 33, 39, 60, 29, 17, 22, 30, 33, 34, 63, 46, 27, 19, 41, 27, 23, 30, 30, 26, 45, 19, 15, 28, 5, 44, 16, 96, 31, 7, 81, 5, 67, 36, 13, 15, 137, 33, 42, 68, 113, 5, 70, 22, 26, 47, 21, 3, 27, 30, 26, 40, 4, 13, 4, 40, 19, 19, 29, 49, 4, 10, 5, 21, 6, 60, 22, 13, 10, 8, 5, 79, 24, 33, 114, 69, 87, 62, 89, 7, 6, 4, 34, 8, 111, 21, 13, 80, 34, 5, 6, 6, 15, 6, 19, 119, 63, 3, 66, 6, 40, 32, 18, 9, 102, 67, 17, 30, 33, 32, 14, 11, 19, 7, 21, 15, 15, 5, 38, 6, 17, 8, 16, 371, 114, 125, 121, 111, 58, 58, 79, 73, 66, 56, 54, 45, 47, 50, 36, 43, 45, 42, 97, 34, 27, 44, 33, 28, 29, 44, 42, 25, 24, 53, 21, 67, 79, 19, 30, 63, 74, 105, 16, 78, 56, 45, 47, 80, 63, 17, 16, 14, 58, 57, 61, 45, 27, 33, 52, 57, 52, 14, 39, 50, 38, 41, 25, 41, 43, 44, 61, 30, 42, 40, 45, 41, 19, 44, 31, 40, 34, 54, 41, 31, 45, 35, 18, 33, 35, 26, 48, 29, 45, 13, 16, 27, 21, 26, 26, 15, 32, 34, 20, 31, 9, 7, 12, 6, 16, 46, 5, 17, 9, 15, 47, 10, 8, 6, 7, 19, 12, 3, 6, 3, 85, 42, 13, 14, 9, 129, 7, 4, 7, 16, 17, 15, 44, 34, 19, 8, 21, 19, 15, 16, 103, 54, 14, 6, 12, 14, 13, 10, 3, 44, 45, 3, 14, 29, 13, 35, 58, 12, 7, 10, 41, 10, 10, 24, 10, 3, 41, 7, 76, 26, 5, 12, 16, 10, 10, 17, 7, 6, 5, 15, 9, 10, 5, 9, 10, 9, 6, 9, 111, 42, 28, 25, 13, 6, 30, 4, 66, 6, 125, 79, 42, 97, 98, 36, 89, 25, 65, 69, 60, 55, 164, 45, 50, 36, 21, 25, 50, 58, 196, 49, 113, 85, 130, 140, 100, 70, 11, 15, 30, 47, 46, 21, 51, 61, 32, 36, 30, 37, 21, 18, 19, 94, 92, 68, 15, 8, 79, 78, 27, 38, 20, 104, 100, 33, 88, 80, 80, 115, 135, 131, 116, 108, 67, 80, 81, 61, 32, 48, 119, 64, 44, 42, 73, 56, 107, 46, 63, 63, 51, 53, 48, 71, 53, 55, 69, 28, 17, 56, 50, 30, 57, 49, 64, 46, 31, 59, 119, 48, 23, 34, 25, 94, 15, 36, 15, 14, 27, 42, 45, 43, 36, 11, 97, 8, 69, 89, 19, 58, 92, 55, 50, 29, 50, 164, 11, 17, 65, 25, 6, 30, 21, 15, 68, 98, 60, 196, 49, 8, 41, 16, 26, 21, 9, 61, 18, 38, 36, 47, 25, 37, 30, 5, 79, 78, 70, 21, 15, 32, 23, 46, 20, 51, 6, 32, 17, 24, 113, 50, 100, 13, 140, 63, 130, 85, 26, 151, 32, 33, 46, 8, 131, 16, 7, 44, 30, 16, 69, 4, 115, 81, 11, 64, 4, 31, 63, 34, 6, 13, 64, 56, 90, 44, 94, 20, 21, 45, 63, 41, 33, 21, 13, 28, 31, 109, 209, 130, 105, 111, 93, 89, 102, 122, 88, 102, 29, 62, 60, 45, 40, 33, 22, 29, 25, 36, 22, 23, 30, 15, 15, 81, 84, 97, 167, 172, 117, 110, 85, 103, 90, 100, 100, 86, 68, 63, 85, 10, 96, 46, 66, 46, 56, 42, 37, 61, 28, 39, 51, 31, 33, 31, 32, 20, 39, 29, 50, 32, 27, 32, 25, 10, 21, 32, 30, 13, 59, 6, 21, 17, 31, 29, 18, 10, 17, 8, 10, 22, 34, 11, 14, 6, 19, 44, 6, 3, 50, 90, 21, 20, 21, 88, 13, 33, 45, 10, 21, 18, 94, 28, 14, 31, 41, 63, 29, 84, 25, 81, 88, 23, 102, 10, 89, 15, 60, 14, 15, 22, 93, 97, 29, 122, 10, 130, 22, 111, 36, 40, 45, 28, 102, 62, 25, 109, 33, 209, 105, 30, 185, 66, 68, 32, 59, 100, 39, 103, 25, 46, 8, 61, 31, 39, 8, 7, 31, 11, 29, 51, 32, 31, 56, 30, 50, 18, 37, 29, 96, 122, 20, 23, 110, 37, 29, 22, 27, 34, 17, 100, 22, 10, 10, 19, 118, 93, 52, 37, 106, 113, 74, 102, 48, 16, 40, 41, 40, 49, 45, 39, 26, 32, 22, 149, 91, 11, 123, 77, 120, 122, 49, 86, 70, 62, 89, 45, 49, 33, 36, 13, 21, 7, 10, 106, 76, 103, 114, 83, 26, 74, 59, 131, 109, 47, 121, 117, 115, 93, 79, 116, 114, 73, 105, 103, 100, 33, 75, 32, 85, 67, 120, 105, 95, 64, 47, 78, 128, 73, 70, 71, 65, 30, 38, 64, 61, 25, 17, 61, 16, 53, 49, 47, 60, 56, 57, 62, 49, 63, 49, 56, 37, 42, 52, 52, 34, 31, 51, 71, 39, 68, 24, 38, 35, 41, 84, 41, 39, 32, 35, 39, 39, 36, 56, 35, 35, 29, 25, 44, 21, 26, 25, 27, 24, 45, 24, 19, 38, 15, 31, 19, 22, 33, 18, 20, 25, 17, 27, 18, 26, 24, 20, 31, 20, 20, 18, 16, 27, 29, 31, 15, 16, 18, 10, 12, 13, 38, 7, 38, 16, 14, 9, 13, 10, 14, 12, 11, 10, 18, 9, 14, 20, 5, 8, 7, 10, 15, 6, 5, 6, 8, 20, 21, 13, 17, 12, 11, 5, 7, 11, 5, 33, 101, 26, 36, 93, 8, 118, 10, 11, 16, 13, 13, 45, 76, 26, 32, 37, 48, 52, 4, 33, 102, 24, 106, 26, 49, 101, 103, 39, 16, 40, 74, 113, 7, 26, 22, 36, 5, 60, 41, 40, 3, 106, 17, 49, 149, 38, 91, 10, 47, 36, 17, 21, 5, 89, 14, 38, 122, 50, 114, 33, 77, 33, 49, 49, 96, 123, 25, 15, 5, 86, 62, 45, 59, 47, 70, 74, 30, 120, 13, 3, 83, 32, 20, 33, 59, 29, 14, 18, 4, 35, 26, 3, 105, 62, 52, 56, 18, 95, 20, 19, 31, 33, 59, 20, 11, 39, 20, 120, 65, 15, 4, 68, 14, 124, 100, 26, 31, 7, 63, 21, 38, 35, 14, 27, 32, 44, 45, 49, 13, 115, 116, 64, 29, 75, 8, 31, 6, 121, 6, 10, 9, 8, 71, 85, 39, 83, 3, 4, 78, 51, 52, 57, 117, 38, 39, 93, 42, 18, 25, 7, 4, 35, 18, 56, 16, 41, 103, 61, 9, 5, 41, 53, 4, 12, 131, 4, 73, 31, 105, 16, 17, 67, 34, 70, 31, 11, 27, 35, 84, 114, 17, 10, 128, 4, 18, 49, 21, 60, 103, 36, 39, 25, 7, 85, 124, 63, 55, 60, 62, 40, 50, 46, 34, 41, 40, 113, 34, 29, 29, 110, 40, 96, 37, 126, 87, 25, 107, 84, 100, 19, 15, 21, 84, 85, 67, 25, 28, 14, 52, 61, 21, 25, 17, 19, 21, 53, 63, 21, 25, 59, 45, 25, 29, 17, 17, 31, 16, 47, 37, 53, 33, 48, 39, 34, 21, 26, 39, 25, 25, 26, 33, 24, 40, 26, 30, 29, 20, 23, 36, 20, 26, 23, 16, 10, 16, 24, 22, 23, 19, 58, 12, 27, 11, 71, 64, 100, 133, 19, 121, 72, 14, 92, 116, 37, 11, 26, 50, 25, 7, 12, 5, 6, 16, 44, 42, 21, 40, 25, 14, 85, 62, 24, 5, 124, 3, 23, 40, 40, 27, 34, 18, 46, 21, 10, 11, 12, 4, 12, 34, 28, 27, 29, 17, 4, 4, 91, 21, 63, 4, 3, 29, 3, 28, 22, 60, 26, 25, 4, 10, 55, 6, 19, 25, 17, 17, 41, 15, 21, 15, 7, 9, 58, 37, 25, 87, 29, 14, 7, 25, 19, 110, 57, 20, 13, 21, 41, 31, 6, 21, 5, 9, 113, 163, 18, 63, 5, 4, 19, 26, 86, 5, 67, 39, 111, 105, 109, 74, 78, 93, 78, 72, 106, 82, 86, 85, 91, 85, 94, 76, 110, 97, 122, 104, 70, 81, 92, 64, 104, 74, 67, 68, 65, 58, 51, 64, 61, 52, 89, 57, 46, 46, 57, 45, 50, 46, 50, 43, 56, 55, 46, 44, 34, 35, 48, 44, 47, 42, 41, 32, 38, 33, 29, 31, 39, 44, 32, 41, 39, 108, 39, 46, 55, 43, 26, 37, 40, 32, 95, 28, 31, 38, 31, 71, 45, 82, 30, 29, 118, 28, 105, 22, 115, 95, 122, 128, 42, 26, 45, 52, 116, 34, 114, 107, 51, 51, 21, 13, 32, 16, 13, 16, 5, 10, 12, 5, 17, 30, 5, 27, 4, 39, 90, 4, 3, 10, 14, 38, 27, 39, 114, 26, 4, 5, 43, 14, 33, 8, 13, 22, 12, 92, 12, 21, 9, 13, 30, 5, 40, 16, 5, 44, 17, 5, 23, 21, 10, 27, 47, 5, 13, 64, 6, 25, 14, 11, 4, 6, 7, 5, 5, 8, 44, 9, 65, 38, 78, 38, 47, 26, 5, 81, 16, 29, 3, 8, 41, 9, 10, 5, 7, 39, 85, 6, 12, 8, 6, 14, 18, 5, 4, 37, 6, 5, 127, 100, 46, 49, 43, 51, 57, 41, 40, 26, 41, 31, 23, 80, 28, 104, 112, 97, 69, 60, 47, 39, 18, 47, 27, 43, 18, 15, 12, 21, 11, 90, 72, 100, 105, 47, 49, 121, 99, 110, 18, 58, 96, 112, 124, 37, 19, 36, 87, 75, 70, 100, 68, 65, 39, 108, 37, 107, 61, 31, 138, 34, 17, 49, 52, 44, 44, 40, 17, 56, 38, 43, 34, 61, 44, 34, 36, 35, 46, 35, 48, 50, 16, 23, 161, 30, 40, 27, 41, 53, 31, 35, 32, 30, 42, 16, 26, 13, 34, 33, 19, 17, 15, 13, 5, 127, 26, 46, 100, 4, 23, 28, 72, 90, 6, 16, 12, 40, 7, 18, 57, 51, 41, 43, 49, 31, 26, 41, 80, 17, 19, 47, 104, 37, 49, 18, 110, 97, 15, 21, 36, 99, 31, 47, 11, 105, 39, 21, 39, 10, 47, 15, 43, 34, 8, 10, 37, 34, 69, 112, 18, 60, 27, 121, 58, 100, 19, 13, 12, 138, 41, 107, 53, 13, 8, 26, 35, 29, 161, 28, 19, 48, 61, 33, 11, 35, 17, 42, 15, 108, 30, 87, 60, 50, 31, 100, 44, 30, 56, 61, 97, 124, 30, 23, 61, 99, 119, 99, 91, 127, 61, 128, 44, 63, 64, 65, 39, 11, 105, 95, 10, 86, 117, 88, 68, 106, 197, 52, 118, 89, 128, 136, 86, 124, 124, 122, 88, 93, 122, 33, 74, 86, 76, 68, 108, 115, 74, 46, 68, 54, 65, 47, 54, 19, 69, 59, 51, 53, 42, 49, 52, 36, 18, 48, 58, 53, 47, 77, 37, 31, 27, 24, 22, 25, 24, 16, 40, 25, 19, 22, 31, 31, 40, 25, 20, 54, 36, 25, 19, 13, 20, 13, 10, 17, 27, 8, 18, 19, 26, 60, 19, 105, 7, 23, 26, 95, 30, 124, 97, 61, 127, 65, 10, 52, 91, 11, 64, 128, 88, 99, 99, 44, 39, 19, 63, 68, 61, 23, 18, 86, 119, 46, 33, 117, 25, 68, 31, 22, 124, 10, 59, 115, 40, 37, 54, 53, 10, 58, 68, 19, 122, 25, 17, 108, 6, 86, 40, 88, 74, 24, 5, 93, 36, 136, 76, 124, 27, 60, 19, 49, 22, 24, 4, 18, 13, 20, 31, 86, 25, 53, 51, 52, 77, 20, 42, 6, 48, 31, 122, 47, 74, 197, 65, 25, 16, 19, 54, 27, 47, 36, 82, 114, 105, 117, 77, 61, 57, 84, 32, 39, 26, 38, 45, 29, 28, 121, 79, 58, 91, 71, 59, 45, 35, 24, 38, 27, 39, 25, 29, 13, 58, 94, 104, 89, 68, 15, 148, 111, 127, 87, 148, 86, 95, 84, 124, 110, 106, 58, 117, 79, 80, 101, 103, 79, 84, 150, 118, 79, 97, 93, 123, 77, 113, 89, 116, 72, 72, 51, 121, 69, 85, 120, 109, 80, 28, 64, 72, 56, 62, 113, 76, 56, 55, 69, 56, 43, 60, 61, 45, 56, 46, 47, 53, 40, 38, 46, 27, 49, 43, 37, 28, 43, 33, 25, 26, 44, 19, 31, 25, 33, 25, 22, 28, 23, 21, 43, 22, 17, 18, 24, 21, 17, 18, 18, 62, 13, 41, 9, 24, 21, 21, 7, 12, 11, 9, 20, 40, 27, 10, 20, 14, 8, 13, 7, 36, 11, 27, 18, 16, 11, 9, 11, 10, 6, 46, 296, 49, 99, 17, 5, 17, 15, 5, 85, 33, 18, 57, 29, 49, 46, 30, 7, 66, 64, 71, 82, 60, 77, 93, 61, 46, 73, 39, 73, 223, 34, 23, 43, 69, 74, 22, 56, 20, 43, 19, 10, 47, 18, 5, 10, 29, 13, 82, 114, 10, 32, 26, 57, 84, 105, 45, 39, 61, 117, 28, 38, 94, 77, 24, 58, 25, 29, 27, 59, 43, 51, 38, 35, 39, 58, 57, 45, 46, 58, 91, 13, 121, 296, 11, 15, 71, 36, 29, 79, 89, 104, 28, 9, 68, 18, 72, 49, 53, 24, 84, 6, 21, 9, 7, 49, 33, 25, 116, 55, 24, 21, 43, 80, 47, 79, 26, 38, 89, 69, 3, 41, 28, 22, 27, 28, 33, 17, 22, 31, 99, 113, 121, 37, 109, 85, 103, 43, 69, 11, 20, 17, 17, 27, 11, 21, 23, 76, 25, 120, 72, 21, 9, 45, 61, 123, 6, 40, 18, 62, 16, 10, 96, 93, 117, 5, 44, 30, 97, 46, 110, 17, 72, 124, 25, 95, 11, 56, 62, 40, 113, 27, 118, 18, 101, 64, 56, 20, 148, 79, 16, 18, 148, 150, 7, 15, 84, 79, 14, 77, 60, 106, 8, 12, 13, 56, 127, 5, 43, 19, 56, 86, 111, 87, 46, 80, 47, 33, 85, 20, 18, 7, 26, 57, 46, 29, 30, 49, 161, 61, 56, 10, 60, 69, 56, 10, 26, 5, 22, 69, 16, 18, 43, 74, 223, 82, 86, 107, 69, 111, 102, 50, 68, 74, 63, 62, 54, 48, 21, 58, 28, 101, 122, 129, 71, 22, 20, 93, 60, 120, 11, 57, 25, 131, 114, 21, 104, 104, 105, 113, 120, 66, 65, 71, 74, 91, 69, 41, 39, 21, 39, 20, 23, 47, 42, 34, 26, 20, 119, 112, 67, 167, 109, 90, 115, 73, 103, 106, 86, 93, 131, 98, 112, 107, 72, 113, 106, 126, 73, 42, 73, 69, 85, 132, 102, 114, 72, 64, 71, 83, 76, 102, 88, 65, 71, 131, 64, 75, 114, 61, 58, 103, 56, 75, 58, 51, 86, 25, 69, 22, 107, 265, 58, 21, 50, 21, 19, 28, 62, 102, 3, 50, 37, 74, 6, 111, 11, 63, 54, 68, 48, 101, 20, 57, 122, 129, 71, 60, 21, 23, 20, 47, 114, 120, 39, 67, 34, 69, 104, 66, 105, 120, 65, 93, 43, 42, 41, 113, 39, 6, 104, 20, 74, 7, 71, 26, 131, 42, 91, 421, 119, 31, 4, 26, 29, 83, 17, 46, 4, 12, 54, 33, 27, 36, 5, 64, 36, 114, 8, 25, 49, 64, 45, 31, 102, 40, 131, 33, 56, 66, 20, 24, 44, 15, 7, 51, 107, 73, 85, 119, 71, 75, 72, 104, 69, 83, 66, 89, 55, 114, 80, 77, 66, 119, 75, 57, 65, 58, 75, 51, 44, 55, 90, 34, 74, 48, 33, 43, 30, 31, 25, 24, 22, 37, 15, 24, 23, 23, 20, 25, 123, 62, 78, 83, 115, 83, 118, 122, 78, 52, 30, 100, 44, 130, 91, 42, 36, 25, 76, 70, 52, 55, 69, 12, 14, 36, 100, 44, 60, 38, 23, 18, 35, 36, 56, 96, 31, 40, 24, 11, 18, 15, 29, 11, 12, 15, 43, 21, 20, 11, 18, 15, 11, 19, 7, 95, 31, 17, 30, 30, 3, 8, 75, 66, 10, 5, 83, 4, 46, 107, 18, 44, 5, 85, 24, 14, 73, 55, 119, 4, 22, 37, 36, 95, 15, 4, 4, 43, 119, 34, 51, 9, 4, 3, 72, 11, 23, 48, 23, 69, 71, 11, 25, 56, 80, 21, 25, 15, 3, 15, 20, 24, 89, 12, 13, 75, 30, 11, 5, 66, 58, 14, 31, 12, 25, 33, 11, 5, 6, 56, 104, 5, 11, 114, 77, 6, 74, 65, 3, 15, 7, 75, 15, 9, 44, 5, 90, 66, 57, 30, 123, 55, 52, 78, 62, 42, 87, 85, 86, 42, 38, 39, 109, 74, 125, 119, 23, 95, 93, 126, 69, 67, 73, 55, 24, 59, 97, 51, 58, 81, 53, 55, 44, 33, 41, 31, 25, 25, 26, 19, 17, 20, 26, 45, 22, 55, 31, 11, 43, 14, 15, 14, 77, 77, 97, 93, 134, 74, 102, 116, 87, 120, 74, 28, 98, 94, 47, 82, 102, 71, 61, 115, 77, 66, 78, 59, 56, 69, 57, 63, 113, 72, 71, 69, 112, 64, 69, 69, 53, 52, 41, 17, 63, 49, 46, 47, 75, 49, 42, 19, 43, 54, 42, 13, 27, 52, 21, 5, 26, 66, 28, 3, 32, 13, 6, 5, 36, 10, 9, 3, 87, 23, 79, 8, 41, 7, 17, 47, 8, 16, 3, 9, 86, 55, 41, 15, 13, 23, 14, 3, 85, 38, 42, 5, 3, 21, 11, 21, 74, 23, 24, 7, 22, 118, 4, 24, 39, 73, 25, 95, 10, 5, 43, 42, 53, 10, 18, 15, 27, 10, 15, 5, 3, 109, 119, 6, 27, 45, 31, 55, 58, 73, 5, 7, 5, 4, 110, 46, 21, 3, 10, 27, 6, 26, 20, 40, 69, 13, 75, 35, 31, 5, 8, 24, 31, 36, 132, 74, 45, 130, 78, 107, 116, 90, 30, 36, 28, 20, 16, 91, 61, 92, 62, 59, 51, 70, 39, 40, 95, 58, 41, 50, 47, 27, 65, 39, 44, 24, 82, 28, 25, 27, 27, 28, 25, 31, 38, 21, 45, 115, 106, 67, 120, 27, 113, 92, 41, 107, 63, 64, 24, 77, 89, 67, 73, 40, 58, 67, 61, 45, 34, 43, 55, 40, 15, 35, 52, 25, 26, 39, 35, 45, 26, 29, 16, 29, 30, 11, 34, 27, 13, 39, 31, 40, 23, 17, 26, 17, 32, 29, 43, 18, 43, 16, 12, 28, 20, 40, 20, 95, 36, 27, 58, 37, 78, 36, 74, 29, 4, 16, 21, 21, 30, 5, 10, 45, 132, 51, 28, 56, 35, 12, 35, 43, 58, 44, 40, 35, 27, 130, 45, 27, 51, 27, 28, 7, 86, 51, 20, 41, 3, 25, 50, 27, 23, 59, 44, 84, 44, 90, 31, 18, 82, 114, 12, 62, 70, 49, 11, 16, 25, 45, 95, 39, 44, 34, 6, 116, 107, 27, 61, 15, 58, 44, 42, 31, 24, 36, 7, 11, 15, 45, 39, 61, 51, 20, 92, 13, 4, 26, 31, 47, 65, 52, 44, 28, 110, 78, 82, 63, 46, 56, 69, 75, 57, 48, 35, 36, 102, 104, 107, 30, 91, 112, 120, 107, 91, 84, 111, 102, 68, 75, 67, 88, 108, 65, 108, 54, 74, 90, 27, 57, 58, 80, 64, 75, 45, 66, 61, 50, 46, 56, 53, 46, 36, 65, 37, 44, 55, 69, 32, 38, 56, 37, 104, 49, 76, 43, 36, 45, 36, 27, 28, 23, 15, 37, 24, 42, 25, 21, 22, 16, 21, 15, 47, 19, 29, 64, 92, 24, 114, 117, 117, 126, 6, 69, 106, 88, 80, 56, 64, 65, 74, 73, 8, 51, 53, 53, 57, 58, 71, 61, 54, 40, 17, 55, 69, 39, 40, 33, 26, 40, 33, 29, 48, 31, 39, 27, 25, 32, 22, 27, 37, 24, 29, 26, 24, 31, 22, 23, 48, 19, 20, 43, 19, 21, 27, 15, 13, 31, 16, 42, 13, 56, 19, 10, 72, 67, 105, 64, 105, 85, 28, 118, 81, 71, 15, 26, 11, 59, 69, 22, 107, 102, 24, 45, 82, 95, 57, 60, 85, 77, 46, 47, 73, 51, 114, 70, 50, 59, 62, 52, 74, 41, 40, 44, 18, 55, 51, 66, 48, 45, 147, 163, 160, 128, 30, 42, 6, 71, 18, 3, 3, 15, 36, 17, 78, 36, 110, 63, 16, 34, 82, 4, 64, 13, 30, 5, 9, 31, 105, 9, 6, 21, 10, 8, 46, 35, 48, 6, 5, 4, 13, 25, 27, 7, 67, 56, 75, 72, 45, 69, 47, 62, 30, 45, 35, 20, 46, 42, 6, 7, 23, 57, 54, 45, 65, 12, 24, 68, 4, 12, 28, 55, 21, 3, 9, 4, 84, 56, 71, 50, 15, 81, 3, 33, 111, 6, 81, 91, 51, 60, 37, 61, 65, 3, 13, 90, 53, 15, 27, 64, 75, 43, 16, 37, 120, 102, 56, 7, 52, 24, 107, 59, 15, 8, 67, 15, 38, 44, 3, 96, 24, 69, 23, 29, 46, 4, 118, 4, 3, 42, 13, 7, 108, 9, 74, 4, 47, 80, 24, 12, 44, 66, 51, 3, 37, 4, 59, 15, 49, 27, 6, 46, 26, 40, 25, 4, 8, 18, 4, 8, 31, 10, 57, 32, 47, 58, 3, 19, 23, 22, 3, 42, 4, 107, 13, 3, 5, 17, 108, 75, 23, 69, 23, 4, 36, 57, 91, 28, 48, 104, 41, 17, 4, 22, 11, 3, 9, 11, 21, 88, 36, 10, 102, 112, 94, 123, 75, 61, 128, 109, 64, 54, 73, 101, 65, 51, 74, 53, 38, 61, 52, 50, 59, 54, 91, 46, 133, 41, 74, 37, 36, 96, 37, 101, 121, 114, 89, 115, 73, 75, 109, 30, 79, 91, 65, 115, 81, 70, 78, 72, 101, 100, 55, 116, 50, 92, 79, 80, 66, 51, 20, 75, 56, 53, 71, 50, 62, 60, 22, 44, 87, 84, 46, 43, 17, 55, 42, 51, 59, 52, 41, 38, 18, 40, 43, 37, 27, 29, 37, 50, 50, 44, 34, 41, 32, 48, 40, 39, 23, 51, 34, 51, 21, 26, 27, 25, 29, 6, 4, 16, 36, 98, 9, 4, 4, 8, 3, 43, 15, 10, 6, 91, 6, 37, 10, 4, 51, 46, 31, 54, 15, 3, 33, 74, 10, 11, 7, 4, 3, 5, 20, 54, 38, 3, 19, 52, 10, 7, 33, 4, 5, 20, 64, 7, 3, 7, 3, 61, 36, 37, 128, 123, 5, 10, 66, 3, 5, 11, 10, 51, 18, 94, 29, 36, 3, 73, 19, 41, 3, 75, 4, 57, 8, 133, 84, 3, 17, 5, 74, 3, 11, 3, 4, 50, 59, 12, 61, 54, 8, 15, 8, 3, 4, 53, 101, 96, 88, 117, 105, 88, 61, 54, 89, 73, 74, 84, 59, 106, 56, 63, 41, 57, 45, 58, 51, 43, 40, 64, 43, 54, 36, 26, 28, 20, 50, 40, 47, 32, 28, 23, 121, 122, 84, 93, 24, 32, 121, 122, 101, 107, 108, 92, 113, 91, 58, 23, 23, 29, 90, 81, 82, 69, 113, 105, 124, 78, 71, 71, 75, 28, 114, 61, 118, 69, 117, 103, 31, 15, 103, 108, 21, 93, 64, 85, 83, 24, 64, 75, 68, 32, 25, 56, 57, 17, 16, 67, 45, 15, 16, 63, 77, 71, 119, 68, 33, 14, 4, 6, 64, 81, 8, 43, 25, 4, 3, 9, 18, 27, 34, 5, 9, 21, 66, 14, 4, 17, 7, 116, 23, 6, 3, 57, 4, 8, 12, 70, 6, 7, 3, 4, 37, 6, 16, 3, 34, 3, 13, 67, 5, 5, 3, 15, 13, 28, 25, 41, 82, 15, 10, 70, 28, 22, 75, 35, 3, 74, 5, 16, 8, 6, 10, 19, 21, 12, 11, 6, 8, 11, 18, 6, 11, 6, 3, 23, 3, 4, 5, 7, 8, 21, 67, 5, 8, 7, 9, 4, 32, 10, 6, 14, 7, 8, 12, 3, 124, 132, 111, 81, 69, 90, 101, 155, 121, 88, 75, 77, 69, 70, 89, 96, 44, 55, 59, 99, 120, 125, 47, 51, 90, 45, 45, 127, 74, 82, 56, 39, 44, 32, 65, 90, 77, 70, 60, 36, 62, 57, 51, 28, 31, 53, 52, 50, 54, 85, 52, 44, 48, 43, 24, 48, 51, 25, 44, 44, 77, 45, 44, 83, 43, 39, 123, 113, 71, 73, 79, 23, 72, 47, 30, 20, 78, 79, 32, 34, 69, 72, 34, 75, 59, 31, 66, 95, 46, 25, 61, 74, 28, 19, 28, 44, 57, 64, 21, 59, 42, 15, 44, 69, 124, 15, 42, 111, 81, 20, 22, 90, 8, 32, 132, 16, 39, 17, 28, 66, 16, 25, 121, 5, 47, 69, 32, 13, 56, 11, 44, 77, 56, 96, 70, 32, 45, 101, 47, 88, 40, 75, 155, 10, 51, 17, 55, 31, 50, 24, 16, 12, 8, 23, 12, 45, 89, 28, 11, 21, 59, 43, 36, 34, 86, 19, 16, 18, 13, 46, 16, 47, 13, 20, 54, 11, 85, 82, 44, 90, 51, 115, 5, 30, 11, 32, 8, 8, 44, 7, 60, 74, 25, 120, 8, 39, 19, 53, 70, 31, 88, 62, 42, 47, 123, 96, 43, 76, 40, 71, 59, 58, 47, 45, 38, 65, 49, 147, 46, 94, 75, 101, 26, 96, 84, 78, 115, 18, 119, 78, 70, 65, 90, 39, 33, 54, 122, 62, 81, 31, 23, 32, 36, 49, 50, 69, 27, 61, 20, 57, 61, 40, 42, 15, 48, 48, 62, 44, 67, 40, 41, 70, 70, 41, 35, 61, 25, 24, 35, 37, 21, 34, 26, 23, 28, 19, 26, 25, 27, 24, 17, 16, 32, 34, 22, 24, 12, 30, 23, 13, 9, 11, 10, 15, 23, 19, 14, 28, 12, 9, 66, 42, 114, 88, 43, 40, 47, 15, 18, 25, 38, 54, 60, 62, 26, 96, 56, 49, 58, 65, 19, 30, 110, 72, 96, 32, 36, 59, 32, 39, 60, 46, 45, 33, 123, 23, 71, 17, 20, 27, 47, 31, 26, 34, 76, 78, 62, 78, 35, 22, 119, 6, 36, 94, 9, 101, 26, 55, 12, 41, 57, 6, 28, 24, 81, 11, 69, 7, 3, 19, 70, 61, 9, 10, 46, 115, 6, 6, 61, 122, 23, 16, 67, 34, 13, 82, 40, 62, 23, 42, 90, 24, 65, 24, 14, 70, 24, 15, 8, 26, 80, 120, 86, 99, 113, 115, 58, 38, 109, 100, 47, 26, 72, 34, 58, 59, 99, 116, 102, 217, 103, 100, 30, 86, 127, 26, 108, 34, 28, 96, 94, 95, 77, 105, 26, 68, 56, 47, 68, 17, 59, 90, 24, 78, 76, 78, 52, 56, 54, 37, 59, 55, 67, 23, 18, 44, 37, 49, 49, 43, 38, 64, 65, 48, 43, 44, 54, 44, 50, 40, 51, 55, 20, 35, 42, 28, 14, 37, 34, 25, 41, 25, 21, 22, 29, 30, 40, 20, 19, 42, 34, 38, 24, 18, 25, 45, 22, 18, 33, 30, 18, 38, 17, 33, 21, 19, 22, 8, 18, 27, 26, 7, 11, 22, 64, 30, 25, 19, 21, 19, 7, 66, 35, 21, 11, 13, 14, 14, 13, 11, 15, 24, 11, 18, 17, 10, 17, 12, 12, 37, 7, 23, 15, 9, 34, 21, 23, 31, 18, 14, 7, 13, 12, 11, 5, 12, 7, 8, 9, 7, 12, 5, 6, 7, 5, 145, 114, 112, 74, 67, 39, 63, 56, 139, 52, 38, 48, 24, 36, 41, 31, 23, 32, 29, 18, 60, 18, 24, 15, 76, 22, 20, 11, 13, 14, 12, 6, 12, 4, 3, 13, 4, 26, 80, 38, 120, 34, 86, 32, 18, 34, 14, 26, 7, 20, 47, 115, 21, 30, 8, 58, 99, 113, 17, 7, 4, 100, 23, 7, 145, 22, 20, 24, 26, 21, 19, 28, 15, 5, 34, 22, 109, 56, 59, 11, 7, 58, 72, 23, 112, 5, 90, 25, 77, 14, 30, 23, 41, 19, 49, 22, 105, 37, 94, 37, 45, 38, 54, 56, 67, 55, 23, 24, 3, 3, 95, 96, 18, 3, 52, 25, 68, 9, 22, 33, 60, 35, 4, 17, 28, 4, 40, 15, 34, 18, 15, 18, 13, 114, 14, 25, 78, 11, 11, 55, 26, 86, 29, 12, 24, 35, 18, 56, 25, 65, 6, 18, 12, 47, 108, 3, 50, 12, 11, 103, 21, 37, 42, 43, 21, 30, 3, 4, 7, 21, 17, 7, 64, 44, 54, 19, 14, 18, 59, 33, 44, 51, 11, 17, 31, 5, 68, 67, 116, 66, 127, 48, 3, 75, 3, 217, 13, 10, 7, 12, 59, 27, 78, 34, 12, 44, 49, 30, 12, 42, 102, 38, 22, 43, 40, 38, 8, 100, 9, 76, 11, 99, 6, 64, 14, 37, 19, 18, 41, 48, 36, 117, 20, 24, 52, 82, 104, 123, 88, 63, 63, 46, 84, 54, 66, 51, 107, 67, 46, 89, 86, 109, 43, 62, 41, 113, 109, 39, 77, 36, 36, 70, 42, 20, 23, 23, 63, 50, 41, 132, 41, 23, 105, 117, 44, 40, 123, 105, 78, 122, 33, 99, 118, 119, 39, 19, 70, 87, 38, 23, 85, 23, 122, 120, 369, 121, 109, 128, 112, 72, 115, 28, 92, 115, 72, 107, 110, 125, 123, 41, 80, 64, 66, 85, 96, 73, 37, 30, 27, 226, 58, 106, 38, 69, 81, 75, 28, 65, 69, 39, 56, 57, 63, 103, 64, 115, 10, 19, 41, 13, 39, 6, 62, 82, 46, 23, 20, 23, 104, 84, 4, 46, 14, 10, 43, 9, 12, 31, 8, 51, 9, 19, 88, 63, 23, 208, 54, 63, 23, 8, 123, 36, 7, 42, 66, 23, 4, 4, 20, 13, 36, 5, 6, 11, 67, 11, 14, 14, 63, 4, 26, 29, 28, 70, 107, 16, 35, 3, 33, 41, 14, 13, 4, 38, 14, 9, 16, 4, 27, 41, 41, 44, 40, 10, 3, 38, 44, 20, 8, 30, 4, 14, 12, 40, 10, 7, 14, 39, 50, 32, 21, 109, 33, 8, 77, 67, 111, 100, 78, 98, 62, 49, 39, 70, 53, 89, 91, 34, 114, 56, 34, 73, 49, 38, 32, 42, 34, 34, 36, 27, 37, 49, 32, 30, 35, 26, 26, 21, 68, 29, 70, 28, 67, 51, 29, 51, 56, 27, 49, 51, 95, 14, 121, 22, 101, 18, 91, 143, 81, 110, 88, 103, 69, 82, 58, 26, 139, 105, 134, 36, 43, 31, 94, 124, 105, 84, 36, 68, 94, 38, 54, 30, 126, 112, 204, 72, 36, 20, 100, 68, 110, 84, 71, 83, 73, 90, 88, 30, 20, 85, 117, 82, 103, 98, 33, 11, 4, 13, 35, 67, 8, 11, 27, 15, 5, 26, 4, 11, 32, 6, 32, 4, 12, 25, 9, 4, 9, 4, 36, 11, 34, 12, 34, 21, 3, 27, 14, 13, 3, 5, 6, 20, 7, 49, 17, 6, 4, 12, 5, 11, 4, 8, 5, 17, 15, 27, 6, 19, 37, 3, 5, 19, 3, 5, 9, 5, 13, 5, 21, 29, 5, 4, 111, 17, 4, 14, 13, 22, 4, 9, 24, 30, 11, 52, 7, 4, 5, 26, 15, 12, 6, 10, 9, 98, 4, 9, 38, 4, 20, 10, 32, 11, 19, 3, 5, 87, 111, 40, 21, 44, 31, 17, 128, 124, 95, 36, 30, 39, 102, 112, 43, 68, 64, 11, 31, 33, 23, 76, 14, 18, 30, 6, 20, 39, 5, 114, 34, 61, 62, 15, 16, 114, 8, 10, 37, 33, 15, 139, 26, 9, 87, 21, 114, 44, 11, 31, 17, 40, 111, 128, 39, 39, 124, 36, 30, 95, 43, 61, 23, 76, 30, 34, 68, 64, 18, 31, 102, 5, 112, 33, 20, 14, 62, 6, 15, 16, 114, 8, 10, 37, 33, 15, 9, 139, 26, 138, 29, 39, 96, 97, 115, 51, 36, 19, 60, 129, 46, 65, 114, 134, 69, 55, 51, 31, 18, 20, 41, 8, 33, 10, 6, 71, 71, 51, 183, 38, 17, 106, 39, 9, 8, 35, 8, 46, 60, 29, 138, 8, 39, 10, 129, 36, 65, 51, 96, 19, 115, 97, 6, 134, 41, 51, 31, 114, 18, 20, 33, 69, 55, 71, 71, 51, 183, 17, 38, 39, 9, 106, 8, 35, 8, 428, 107, 118, 38, 86, 119, 82, 46, 63, 34, 27, 116, 117, 116, 79, 50, 26, 19, 28, 22, 118, 39, 133, 53, 97, 118, 110, 77, 115, 103, 94, 75, 103, 63, 66, 67, 44, 62, 40, 48, 64, 22, 32, 34, 27, 16, 25, 30, 13, 6, 7, 408, 77, 32, 137, 55, 88, 41, 41, 39, 95, 105, 28, 9, 35, 30, 91, 70, 60, 131, 64, 22, 22, 35, 10, 33, 18, 6, 107, 38, 428, 118, 34, 119, 63, 82, 46, 64, 86, 39, 27, 117, 116, 408, 26, 19, 50, 22, 79, 28, 22, 116, 118, 133, 53, 110, 103, 66, 103, 7, 62, 48, 75, 115, 25, 40, 30, 16, 6, 94, 77, 44, 118, 27, 67, 97, 13, 32, 63, 34, 77, 33, 32, 55, 137, 10, 41, 88, 35, 18, 41, 39, 28, 6, 95, 9, 105, 22, 35, 30, 91, 22, 70, 60, 131, 64, 109, 51, 127, 114, 93, 116, 77, 19, 49, 56, 44, 51, 60, 55, 46, 40, 18, 23, 121, 107, 65, 64, 32, 20, 26, 18, 106, 100, 57, 123, 103, 113, 115, 88, 93, 79, 85, 81, 82, 160, 115, 114, 61, 123, 120, 118, 119, 106, 64, 118, 108, 54, 64, 55, 121, 40, 48, 54, 107, 43, 46, 54, 45, 48, 22, 15, 23, 50, 46, 31, 32, 54, 59, 45, 37, 45, 18, 41, 35, 39, 30, 28, 16, 16, 14, 22, 11, 34, 5, 10, 11, 8, 16, 6, 12, 5, 393, 394, 5, 3, 109, 51, 19, 15, 18, 51, 394, 11, 393, 127, 20, 57, 23, 56, 77, 55, 5, 46, 60, 116, 93, 44, 114, 23, 40, 49, 32, 64, 26, 121, 107, 18, 65, 100, 22, 43, 106, 16, 31, 28, 45, 114, 118, 30, 3, 45, 10, 106, 59, 3, 119, 5, 54, 50, 48, 5, 115, 118, 14, 11, 93, 64, 37, 48, 160, 120, 16, 54, 18, 121, 39, 34, 5, 82, 108, 107, 55, 24, 46, 8, 12, 32, 35, 81, 64, 6, 123, 54, 123, 113, 46, 16, 115, 79, 22, 54, 85, 103, 45, 61, 88, 102, 116, 72, 58, 51, 57, 51, 41, 120, 81, 127, 119, 119, 62, 32, 80, 123, 126, 25, 51, 45, 52, 60, 52, 57, 47, 40, 36, 44, 25, 25, 43, 18, 27, 33, 12, 26, 24, 41, 17, 33, 31, 15, 15, 47, 19, 25, 21, 16, 30, 9, 16, 11, 18, 14, 12, 112, 12, 25, 17, 13, 121, 108, 8, 45, 53, 37, 33, 26, 7, 41, 25, 41, 18, 60, 22, 48, 31, 29, 26, 8, 36, 14, 28, 15, 21, 29, 18, 33, 12, 11, 19, 10, 17, 25, 12, 15, 10, 109, 31, 14, 3, 41, 68, 6, 26, 12, 51, 51, 4, 17, 4, 7, 6, 3, 13, 88, 32, 72, 8, 102, 58, 5, 6, 12, 423, 25, 57, 9, 6, 6, 18, 15, 8, 62, 116, 25, 5, 6, 7, 12, 21, 11, 3, 12, 4, 15, 10, 119, 27, 6, 8, 17, 8, 51, 16, 6, 12, 24, 45, 123, 6, 29, 22, 5, 41, 126, 31, 4, 27, 3, 25, 47, 23, 6, 4, 6, 4, 5, 18, 14, 11, 3, 60, 14, 127, 52, 5, 37, 36, 10, 25, 43, 25, 3, 25, 44, 4, 19, 55, 74, 39, 46, 69, 11, 12, 29, 48, 12, 11, 20, 6, 5, 9, 9, 6, 5, 5, 3, 3, 5, 5, 39, 55, 11, 46, 20, 74, 12, 12, 69, 6, 29, 9, 6, 5, 9, 48, 11, 84, 70, 27, 9, 5, 84, 70, 27, 5, 9, 74, 148, 84, 79, 37, 37, 29, 43, 15, 63, 109, 83, 81, 100, 48, 27, 31, 69, 86, 137, 14, 56, 43, 49, 29, 17, 35, 100, 28, 28, 26, 32, 74, 29, 84, 17, 15, 31, 148, 37, 109, 37, 29, 63, 32, 79, 14, 43, 48, 81, 27, 83, 100, 100, 26, 28, 49, 86, 28, 137, 69, 35, 56, 43, 78, 118, 119, 135, 91, 120, 128, 119, 107, 80, 70, 56, 37, 40, 38, 84, 54, 32, 42, 28, 58, 28, 29, 32, 30, 34, 23, 23, 28, 16, 12, 9, 91, 58, 54, 80, 30, 109, 104, 86, 35, 77, 5, 74, 72, 65, 62, 55, 51, 48, 41, 42, 28, 31, 55, 46, 18, 16, 12, 11, 11, 33, 12, 7, 5, 5, 8, 13, 7, 39, 181, 16, 5, 4, 3, 39, 28, 23, 78, 9, 181, 38, 37, 23, 118, 5, 30, 119, 40, 16, 107, 56, 58, 11, 28, 91, 42, 135, 12, 18, 7, 119, 28, 32, 28, 128, 33, 5, 120, 16, 5, 80, 54, 70, 29, 32, 34, 12, 5, 84, 4, 35, 16, 12, 3, 91, 58, 31, 30, 54, 13, 55, 42, 104, 7, 51, 11, 86, 62, 65, 46, 77, 41, 48, 74, 109, 72, 8, 80, 55, 101, 129, 119, 97, 64, 106, 90, 95, 106, 130, 48, 67, 74, 59, 54, 65, 47, 55, 42, 54, 63, 67, 73, 70, 54, 55, 120, 34, 55, 34, 109, 39, 49, 41, 40, 89, 74, 42, 32, 86, 41, 47, 44, 37, 39, 31, 54, 45, 31, 22, 25, 29, 21, 34, 22, 49, 21, 33, 15, 20, 53, 16, 22, 30, 26, 22, 50, 29, 29, 24, 30, 26, 13, 46, 21, 22, 15, 48, 48, 15, 31, 27, 35, 33, 29, 25, 27, 18, 27, 15, 20, 13, 30, 13, 17, 19, 24, 25, 14, 13, 33, 30, 55, 3, 24, 25, 20, 28, 13, 64, 34, 8, 8, 4, 8, 6, 15, 9, 13, 9, 22, 49, 8, 15, 101, 3, 11, 39, 48, 13, 72, 5, 21, 97, 13, 47, 16, 13, 12, 54, 8, 3, 8, 13, 12, 6, 13, 42, 3, 21, 35, 21, 34, 22, 7, 15, 33, 26, 30, 12, 4, 130, 7, 13, 86, 26, 20, 74, 5, 106, 25, 42, 14, 55, 13, 3, 40, 65, 4, 8, 6, 39, 5, 31, 29, 16, 15, 33, 9, 37, 54, 29, 21, 4, 47, 18, 21, 73, 9, 31, 128, 100, 98, 135, 122, 110, 110, 95, 108, 98, 126, 83, 83, 114, 68, 117, 118, 81, 68, 128, 113, 68, 86, 77, 113, 78, 115, 73, 70, 82, 72, 93, 62, 65, 76, 66, 48, 57, 63, 82, 55, 57, 66, 67, 48, 57, 46, 44, 58, 50, 50, 38, 51, 47, 39, 55, 51, 42, 37, 38, 45, 52, 41, 96, 44, 42, 88, 49, 109, 83, 68, 51, 37, 37, 39, 40, 83, 36, 72, 30, 43, 31, 41, 23, 72, 33, 52, 27, 33, 46, 40, 141, 121, 71, 126, 97, 41, 125, 119, 17, 20, 11, 37, 88, 34, 70, 134, 35, 60, 10, 35, 33, 59, 47, 7, 37, 50, 118, 42, 6, 12, 24, 51, 31, 55, 10, 9, 32, 82, 98, 15, 23, 21, 110, 13, 24, 33, 27, 9, 25, 81, 27, 63, 24, 33, 33, 86, 6, 13, 7, 34, 8, 21, 100, 28, 52, 115, 14, 43, 52, 13, 65, 38, 11, 27, 37, 40, 22, 118, 18, 108, 113, 12, 37, 93, 68, 5, 11, 51, 15, 18, 9, 42, 44, 40, 17, 27, 73, 70, 57, 50, 52, 44, 78, 13, 38, 25, 49, 67, 12, 117, 87, 128, 92, 84, 108, 164, 78, 114, 72, 116, 84, 87, 71, 62, 59, 54, 61, 46, 49, 49, 40, 43, 34, 27, 40, 38, 91, 41, 27, 114, 31, 31, 38, 96, 31, 110, 94, 146, 87, 104, 120, 75, 106, 83, 68, 115, 67, 23, 67, 107, 34, 69, 72, 23, 65, 60, 47, 58, 56, 54, 48, 49, 67, 52, 44, 51, 41, 56, 48, 53, 35, 39, 35, 24, 32, 26, 32, 43, 36, 28, 28, 29, 22, 14, 20, 24, 18, 14, 9, 99, 22, 118, 14, 12, 10, 128, 79, 12, 91, 75, 51, 21, 31, 6, 31, 108, 23, 87, 25, 54, 36, 87, 40, 88, 5, 8, 164, 34, 8, 128, 84, 7, 7, 59, 79, 27, 33, 41, 12, 72, 34, 40, 117, 114, 116, 41, 38, 61, 92, 14, 49, 19, 47, 4, 31, 9, 62, 33, 38, 9, 71, 87, 78, 46, 49, 72, 27, 84, 23, 43, 68, 14, 20, 24, 41, 67, 8, 67, 5, 22, 49, 26, 47, 15, 75, 91, 114, 65, 35, 94, 38, 10, 69, 54, 34, 110, 28, 14, 21, 53, 10, 16, 13, 12, 32, 65, 146, 11, 32, 120, 116, 119, 108, 116, 119, 116, 115, 75, 75, 62, 101, 63, 106, 57, 54, 57, 70, 51, 130, 58, 64, 65, 51, 56, 52, 47, 56, 34, 44, 35, 38, 30, 44, 133, 111, 111, 115, 38, 30, 111, 28, 100, 113, 114, 139, 120, 122, 29, 117, 123, 122, 95, 25, 93, 106, 30, 110, 99, 123, 114, 74, 31, 82, 89, 104, 76, 66, 75, 62, 51, 23, 70, 59, 48, 36, 60, 57, 61, 65, 55, 17, 55, 57, 102, 51, 39, 51, 50, 47, 55, 39, 49, 40, 49, 34, 25, 57, 40, 34, 35, 32, 36, 13, 42, 38, 24, 43, 36, 32, 47, 28, 23, 26, 32, 31, 37, 32, 26, 24, 36, 23, 29, 22, 25, 17, 26, 27, 28, 17, 23, 28, 41, 13, 8, 29, 33, 22, 16, 22, 20, 18, 87, 16, 59, 9, 121, 128, 114, 99, 75, 71, 50, 121, 77, 78, 14, 19, 78, 89, 61, 42, 55, 38, 8, 52, 53, 60, 54, 37, 70, 43, 41, 50, 15, 33, 40, 46, 18, 76, 45, 32, 126, 13, 44, 34, 37, 36, 32, 32, 12, 33, 23, 38, 16, 26, 42, 31, 32, 35, 96, 68, 17, 30, 30, 38, 4, 119, 75, 119, 17, 57, 13, 7, 120, 83, 44, 116, 10, 31, 108, 34, 38, 62, 58, 54, 15, 72, 47, 12, 36, 29, 3, 30, 3, 4, 29, 130, 116, 4, 56, 44, 34, 64, 52, 116, 106, 21, 8, 8, 157, 5, 101, 115, 35, 14, 7, 5, 56, 57, 63, 28, 14, 51, 23, 25, 65, 51, 25, 120, 19, 70, 28, 102, 40, 111, 8, 34, 24, 36, 22, 16, 111, 51, 57, 4, 5, 48, 10, 75, 10, 55, 85, 74, 5, 20, 114, 25, 17, 123, 16, 36, 122, 13, 26, 4, 19, 55, 15, 23, 41, 114, 12, 75, 20, 42, 18, 26, 72, 38, 100, 66, 37, 113, 26, 55, 32, 189, 95, 99, 123, 7, 93, 31, 36, 32, 8, 22, 59, 27, 122, 28, 24, 115, 29, 23, 49, 13, 40, 70, 32, 110, 33, 23, 111, 47, 22, 5, 58, 28, 10, 89, 25, 76, 14, 120, 82, 65, 39, 62, 57, 32, 51, 13, 35, 47, 57, 94, 40, 106, 49, 37, 17, 36, 16, 11, 104, 9, 50, 117, 51, 139, 26, 39, 70, 31, 60, 133, 61, 34, 94, 84, 107, 56, 53, 75, 47, 49, 53, 52, 47, 73, 70, 44, 58, 39, 39, 38, 43, 42, 37, 39, 118, 116, 36, 41, 28, 101, 31, 43, 37, 28, 21, 26, 117, 29, 33, 22, 38, 42, 84, 51, 42, 18, 122, 106, 132, 117, 21, 90, 29, 123, 85, 22, 25, 25, 83, 28, 83, 86, 25, 61, 26, 63, 72, 20, 73, 50, 31, 55, 58, 58, 77, 65, 64, 48, 55, 76, 53, 51, 44, 64, 87, 81, 49, 62, 42, 44, 46, 50, 49, 52, 39, 24, 44, 41, 53, 46, 30, 52, 11, 40, 10, 34, 23, 85, 23, 10, 18, 75, 5, 8, 26, 6, 28, 26, 15, 73, 58, 31, 41, 25, 29, 16, 8, 43, 25, 26, 20, 38, 19, 42, 4, 7, 22, 22, 56, 3, 25, 28, 24, 49, 8, 15, 104, 33, 39, 75, 31, 4, 3, 8, 18, 16, 6, 124, 25, 53, 48, 18, 4, 53, 39, 43, 36, 8, 39, 27, 37, 20, 3, 17, 52, 13, 21, 84, 44, 13, 29, 30, 38, 107, 8, 7, 29, 44, 3, 10, 42, 33, 37, 51, 9, 70, 6, 94, 21, 47, 28, 47, 97, 92, 124, 126, 78, 76, 61, 70, 59, 47, 61, 77, 73, 65, 62, 55, 68, 48, 42, 38, 36, 58, 42, 37, 48, 38, 31, 48, 33, 26, 34, 37, 46, 48, 91, 30, 119, 20, 26, 24, 30, 30, 131, 144, 107, 33, 112, 85, 109, 94, 131, 98, 23, 37, 80, 91, 37, 40, 107, 113, 114, 26, 20, 84, 17, 100, 60, 116, 21, 20, 28, 79, 114, 21, 26, 57, 13, 74, 15, 65, 69, 18, 23, 76, 60, 25, 23, 39, 19, 54, 25, 16, 25, 23, 48, 52, 17, 51, 50, 20, 33, 11, 10, 25, 35, 31, 9, 5, 7, 5, 7, 4, 25, 8, 18, 15, 59, 39, 38, 4, 34, 6, 3, 9, 39, 40, 3, 20, 4, 5, 46, 5, 5, 12, 6, 17, 23, 13, 10, 8, 8, 9, 7, 6, 26, 92, 124, 36, 7, 118, 5, 30, 88, 4, 68, 13, 14, 12, 48, 24, 5, 24, 97, 3, 3, 19, 76, 23, 4, 5, 37, 6, 5, 35, 7, 19, 17, 5, 6, 5, 111, 7, 4, 16, 7, 8, 4, 8, 7, 47, 13, 61, 8, 5, 4, 4, 16, 5, 12, 4, 60, 103, 26, 22, 120, 123, 61, 17, 11, 57, 27, 33, 8, 21, 15, 8, 107, 68, 54, 39, 74, 59, 132, 81, 103, 110, 41, 30, 64, 122, 122, 43, 106, 79, 95, 109, 118, 122, 27, 22, 68, 30, 51, 20, 59, 60, 50, 62, 43, 54, 47, 52, 31, 42, 43, 40, 20, 32, 31, 23, 54, 27, 44, 27, 44, 6, 22, 26, 35, 25, 17, 15, 38, 22, 29, 17, 26, 30, 20, 22, 21, 13, 33, 16, 20, 18, 13, 20, 105, 24, 6, 10, 12, 8, 11, 8, 10, 13, 11, 9, 44, 8, 60, 17, 10, 22, 11, 26, 8, 11, 68, 103, 107, 8, 7, 27, 123, 22, 120, 61, 21, 39, 6, 54, 33, 15, 57, 13, 8, 6, 12, 63, 20, 30, 20, 12, 30, 14, 74, 41, 43, 59, 21, 27, 4, 7, 10, 29, 81, 43, 43, 18, 20, 50, 6, 11, 17, 25, 8, 4, 24, 51, 5, 4, 26, 21, 110, 106, 22, 20, 4, 122, 6, 15, 64, 31, 22, 8, 12, 54, 32, 5, 103, 20, 11, 13, 13, 44, 118, 33, 122, 40, 4, 16, 26, 27, 60, 12, 14, 31, 38, 102, 41, 41, 38, 47, 99, 83, 45, 88, 40, 72, 126, 120, 115, 96, 93, 72, 79, 76, 112, 50, 52, 60, 31, 40, 38, 32, 25, 28, 28, 33, 27, 30, 22, 40, 21, 22, 31, 20, 23, 18, 27, 35, 43, 27, 28, 32, 12, 36, 12, 12, 12, 8, 21, 7, 34, 21, 12, 9, 7, 9, 6, 6, 13, 7, 89, 3, 6, 3, 4, 58, 15, 38, 40, 94, 92, 76, 25, 22, 17, 77, 129, 71, 30, 15, 75, 83, 37, 18, 58, 37, 9, 7, 46, 21, 9, 7, 10, 4, 40, 34, 47, 38, 45, 102, 41, 38, 41, 27, 9, 99, 17, 88, 8, 31, 83, 22, 40, 7, 40, 9, 50, 6, 12, 23, 120, 79, 7, 13, 21, 7, 115, 35, 36, 76, 12, 21, 7, 112, 31, 12, 22, 96, 28, 28, 126, 72, 89, 6, 20, 12, 43, 21, 60, 52, 3, 3, 25, 18, 38, 4, 32, 6, 93, 28, 12, 32, 72, 27, 33, 30, 27, 10, 38, 14, 15, 58, 33, 48, 40, 94, 22, 76, 25, 92, 15, 129, 22, 10, 71, 77, 62, 30, 7, 18, 83, 37, 37, 9, 87, 27, 43, 116, 95, 50, 114, 62, 42, 30, 22, 26, 13, 9, 112, 93, 12, 32, 58, 82, 127, 87, 133, 74, 132, 137, 40, 124, 88, 88, 42, 103, 31, 65, 86, 116, 46, 82, 24, 53, 82, 105, 64, 60, 48, 60, 40, 52, 54, 31, 33, 35, 33, 42, 35, 34, 15, 29, 29, 21, 24, 29, 24, 28, 32, 37, 26, 25, 57, 29, 19, 27, 10, 9, 24, 41, 36, 17, 12, 16, 29, 15, 16, 25, 15, 29, 15, 16, 7, 16, 8, 18, 9, 9, 31, 10, 29, 22, 10, 12, 7, 7, 11, 6, 6, 6, 8, 8, 4, 3, 4, 4, 4, 4, 4, 54, 50, 3, 32, 4, 3, 3, 3, 43, 45, 32, 24, 46, 26, 34, 25, 3, 84, 55, 72, 50, 40, 20, 49, 34, 14, 26, 29, 18, 15, 7, 67, 25, 21, 40, 11, 11, 89, 47, 38, 88, 21, 28, 62, 30, 10, 14, 10, 7, 50, 70, 31, 33, 41, 41, 30, 35, 16, 15, 15, 77, 29, 20, 63, 82, 61, 99, 122, 62, 65, 38, 24, 22, 12, 11, 30, 17, 18, 14, 8, 10, 6, 39, 33, 52, 4, 27, 43, 87, 32, 12, 24, 42, 10, 9, 26, 116, 9, 22, 50, 13, 95, 30, 62, 114, 9, 112, 15, 3, 31, 93, 58, 46, 9, 42, 40, 31, 4, 64, 29, 35, 37, 88, 7, 24, 34, 16, 4, 105, 4, 88, 29, 29, 103, 36, 26, 82, 19, 29, 25, 27, 6, 16, 15, 4, 33, 16, 29, 32, 82, 15, 16, 116, 24, 35, 4, 33, 57, 4, 60, 87, 12, 48, 74, 124, 52, 17, 6, 8, 54, 53, 15, 3, 86, 8, 7, 4, 21, 10, 28, 18, 42, 50, 41, 8, 11, 6, 127, 31, 24, 3, 7, 82, 60, 22, 65, 3, 132, 3, 25, 29, 12, 29, 133, 137, 54, 40, 32, 3, 10, 6, 4, 24, 43, 26, 45, 46, 3, 32, 52, 34, 25, 34, 15, 55, 50, 4, 34, 7, 14, 84, 40, 5, 29, 20, 49, 26, 18, 72, 11, 11, 11, 32, 56, 25, 40, 67, 21, 7, 10, 10, 88, 89, 21, 70, 7, 62, 28, 30, 14, 47, 38, 33, 15, 30, 41, 50, 70, 16, 41, 35, 33, 31, 175, 15, 41, 20, 29, 12, 77, 122, 38, 11, 82, 19, 109, 124, 51, 42, 32, 25, 43, 22, 12, 116, 84, 67, 93, 153, 46, 49, 45, 110, 35, 44, 56, 31, 22, 19, 9, 31, 36, 19, 30, 17, 28, 10, 9, 12, 76, 43, 68, 72, 22, 56, 49, 39, 98, 120, 130, 162, 114, 71, 32, 72, 134, 45, 76, 112, 69, 70, 72, 107, 59, 113, 25, 89, 60, 76, 49, 123, 52, 72, 56, 59, 22, 56, 58, 51, 51, 48, 57, 39, 40, 46, 40, 74, 60, 46, 58, 51, 35, 38, 37, 50, 43, 34, 45, 39, 53, 43, 45, 45, 43, 36, 4, 36, 7, 12, 46, 109, 32, 5, 6, 25, 9, 12, 22, 9, 22, 43, 76, 3, 43, 42, 3, 124, 4, 51, 19, 46, 35, 44, 22, 116, 84, 20, 4, 3, 35, 4, 5, 82, 49, 45, 10, 67, 13, 17, 3, 9, 31, 31, 110, 3, 28, 3, 19, 56, 3, 153, 93, 30, 5, 31, 10, 8, 72, 5, 15, 9, 25, 11, 5, 38, 56, 12, 4, 26, 68, 4, 15, 14, 11, 5, 5, 49, 12, 39, 13, 22, 6, 3, 24, 19, 4, 4, 45, 32, 6, 8, 7, 14, 12, 11, 107, 93, 119, 96, 77, 111, 55, 86, 52, 50, 30, 24, 36, 21, 32, 34, 15, 19, 34, 24, 19, 22, 23, 12, 15, 15, 114, 20, 82, 261, 69, 77, 20, 42, 49, 13, 56, 69, 9, 10, 73, 85, 76, 45, 50, 34, 61, 107, 81, 58, 30, 27, 34, 86, 27, 47, 29, 17, 21, 25, 8, 8, 25, 30, 20, 25, 16, 16, 16, 18, 28, 33, 9, 15, 26, 11, 25, 23, 46, 13, 17, 23, 11, 18, 17, 22, 13, 12, 16, 20, 10, 12, 11, 18, 20, 8, 9, 12, 27, 7, 17, 129, 6, 4, 13, 34, 5, 7, 20, 5, 4, 7, 16, 24, 10, 3, 9, 3, 8, 119, 93, 12, 5, 10, 23, 8, 9, 12, 21, 9, 34, 15, 7, 7, 15, 17, 9, 7, 15, 3, 34, 30, 7, 55, 4, 5, 24, 20, 36, 13, 96, 32, 5, 12, 9, 5, 3, 4, 5, 7, 86, 4, 12, 107, 15, 24, 18, 20, 14, 52, 8, 18, 5, 15, 4, 3, 24, 77, 39, 8, 3, 15, 22, 34, 6, 19, 6, 15, 4, 9, 12, 4, 19, 3, 19, 19, 3, 6, 8, 10, 116, 50, 48, 19, 36, 59, 25, 13, 29, 10, 14, 65, 58, 26, 112, 124, 98, 91, 131, 78, 45, 98, 74, 165, 57, 41, 53, 75, 35, 14, 31, 17, 143, 24, 37, 16, 20, 29, 21, 31, 39, 17, 20, 24, 22, 23, 43, 13, 36, 18, 17, 34, 13, 17, 15, 11, 11, 30, 17, 34, 8, 15, 17, 15, 20, 12, 8, 13, 13, 9, 15, 10, 8, 5, 19, 20, 8, 7, 6, 8, 20, 8, 9, 12, 10, 11, 10, 13, 6, 10, 9, 11, 6, 9, 6, 8, 5, 9, 7, 5, 116, 6, 19, 65, 8, 20, 18, 17, 13, 36, 10, 4, 4, 19, 45, 26, 50, 9, 10, 22, 20, 48, 15, 58, 12, 91, 7, 25, 59, 4, 5, 17, 14, 14, 8, 3, 8, 29, 49, 16, 5, 5, 18, 4, 4, 30, 4, 5, 13, 15, 98, 165, 3, 3, 18, 4, 8, 7, 17, 9, 31, 10, 6, 37, 8, 5, 13, 4, 15, 17, 17, 21, 6, 131, 9, 4, 11, 5, 13, 35, 75, 15, 13, 78, 53, 5, 7, 20, 11, 57, 74, 36, 41, 20, 13, 4, 10, 112, 31, 4, 89, 41, 31, 38, 23, 34, 33, 18, 18, 72, 44, 84, 102, 124, 88, 92, 52, 109, 72, 56, 78, 116, 90, 42, 63, 38, 60, 27, 31, 44, 41, 29, 45, 28, 22, 17, 28, 15, 7, 9, 19, 29, 34, 14, 19, 14, 24, 27, 10, 11, 12, 16, 8, 19, 10, 10, 13, 15, 7, 5, 3, 3, 57, 4, 3, 57, 190, 183, 90, 36, 173, 46, 18, 21, 16, 8, 12, 36, 8, 137, 117, 50, 11, 8, 128, 33, 8, 28, 99, 79, 63, 30, 25, 8, 4, 4, 31, 32, 9, 3, 44, 7, 31, 38, 72, 41, 89, 27, 8, 23, 34, 18, 33, 11, 52, 18, 24, 60, 4, 116, 72, 3, 28, 109, 13, 12, 38, 31, 16, 3, 7, 29, 124, 44, 34, 57, 90, 14, 41, 78, 4, 19, 9, 17, 5, 102, 10, 19, 19, 27, 15, 28, 3, 63, 45, 92, 29, 88, 10, 14, 42, 57, 190, 15, 22, 56, 84, 12, 10, 3, 173, 21, 36, 72, 46, 18, 90, 183, 8, 4, 16, 12, 8, 6, 90, 8, 73, 36, 50, 117, 128, 8, 11, 137, 23, 3, 33, 8, 28, 8, 124, 63, 115, 33, 31, 39, 36, 14, 113, 20, 70, 90, 56, 46, 119, 51, 21, 121, 9, 8, 118, 25, 157, 110, 122, 104, 98, 101, 86, 43, 74, 99, 125, 72, 63, 68, 85, 63, 63, 48, 68, 70, 75, 71, 52, 53, 54, 64, 61, 34, 44, 37, 47, 34, 28, 36, 22, 41, 33, 38, 38, 43, 34, 31, 31, 43, 32, 40, 57, 43, 24, 38, 35, 20, 22, 31, 30, 43, 29, 15, 33, 24, 27, 39, 23, 13, 24, 10, 51, 14, 12, 18, 41, 10, 14, 19, 6, 9, 15, 17, 9, 7, 17, 12, 13, 11, 12, 11, 7, 6, 5, 8, 6, 11, 8, 30, 17, 119, 3, 3, 3, 9, 4, 4, 24, 60, 10, 6, 5, 94, 26, 3, 160, 75, 49, 34, 24, 21, 15, 15, 4, 101, 44, 23, 27, 5, 4, 4, 101, 22, 19, 7, 4, 28, 15, 9, 47, 48, 47, 17, 72, 53, 28, 13, 18, 112, 61, 53, 28, 33, 87, 65, 45, 49, 28, 25, 27, 34, 20, 10, 17, 5, 6, 12, 12, 10, 12, 7, 7, 3, 39, 50, 91, 148, 30, 27, 28, 4, 60, 48, 17, 30, 31, 124, 6, 14, 25, 33, 63, 39, 20, 115, 36, 8, 119, 121, 22, 113, 9, 119, 90, 70, 46, 3, 38, 51, 118, 56, 43, 21, 38, 44, 3, 38, 17, 38, 47, 31, 7, 6, 41, 13, 64, 11, 3, 29, 6, 39, 101, 61, 10, 43, 12, 13, 125, 99, 27, 75, 31, 57, 40, 11, 36, 31, 8, 71, 9, 4, 8, 104, 4, 28, 14, 34, 24, 68, 33, 48, 54, 18, 4, 70, 34, 5, 72, 24, 51, 110, 5, 98, 94, 9, 43, 30, 20, 52, 19, 43, 12, 68, 7, 24, 9, 74, 23, 33, 60, 22, 17, 63, 5, 15, 41, 32, 24, 6, 11, 63, 8, 43, 35, 10, 37, 14, 19, 3, 10, 63, 12, 53, 122, 3, 86, 6, 26, 157, 34, 85, 15, 101, 75, 29, 160, 15, 23, 49, 34, 21, 24, 46, 4, 4, 15, 4, 6, 27, 3, 4, 7, 44, 5, 101, 19, 7, 4, 22, 28, 9, 15, 48, 47, 176, 28, 10, 13, 18, 17, 72, 53, 47, 87, 10, 25, 49, 12, 43, 17, 28, 25, 33, 10, 12, 10, 65, 17, 28, 19, 6, 53, 34, 55, 77, 76, 38, 55, 28, 26, 18, 22, 18, 13, 16, 12, 107, 15, 108, 81, 12, 58, 46, 39, 39, 30, 35, 19, 26, 63, 19, 15, 14, 101, 24, 46, 251, 55, 81, 94, 108, 79, 104, 149, 209, 74, 73, 104, 89, 111, 170, 113, 102, 123, 109, 67, 92, 110, 81, 76, 99, 116, 109, 63, 96, 73, 78, 50, 62, 27, 81, 63, 65, 51, 55, 50, 57, 62, 57, 72, 53, 59, 54, 51, 51, 66, 58, 46, 47, 49, 38, 50, 53, 44, 72, 43, 51, 53, 53, 57, 31, 44, 49, 4, 87, 25, 57, 58, 16, 18, 9, 55, 4, 18, 26, 38, 22, 10, 13, 16, 3, 18, 37, 28, 8, 9, 12, 76, 6, 55, 77, 12, 15, 46, 6, 25, 29, 19, 107, 30, 35, 108, 29, 39, 27, 39, 46, 6, 19, 15, 14, 8, 24, 26, 14, 55, 4, 81, 63, 27, 58, 101, 34, 28, 65, 51, 6, 9, 3, 22, 17, 109, 72, 9, 35, 32, 39, 4, 3, 25, 170, 123, 51, 50, 5, 102, 7, 7, 44, 5, 22, 3, 111, 24, 66, 21, 65, 3, 38, 30, 63, 4, 20, 53, 40, 95, 88, 75, 45, 17, 43, 66, 87, 65, 53, 54, 55, 43, 50, 31, 33, 30, 32, 35, 27, 10, 33, 15, 25, 15, 18, 14, 16, 11, 27, 22, 23, 20, 16, 32, 112, 12, 21, 19, 80, 231, 76, 89, 72, 73, 11, 63, 71, 59, 73, 8, 25, 46, 47, 27, 15, 61, 52, 45, 38, 46, 37, 61, 34, 13, 18, 43, 34, 27, 39, 33, 36, 24, 14, 33, 32, 30, 8, 18, 16, 18, 9, 31, 20, 17, 13, 9, 26, 8, 14, 9, 9, 11, 5, 19, 7, 14, 9, 20, 5, 32, 43, 40, 16, 41, 51, 26, 45, 10, 18, 87, 3, 7, 40, 19, 12, 12, 53, 18, 9, 17, 88, 15, 4, 7, 10, 3, 31, 21, 5, 4, 6, 23, 5, 16, 5, 45, 12, 26, 75, 43, 9, 7, 16, 8, 3, 11, 4, 16, 43, 5, 14, 8, 13, 95, 9, 4, 19, 33, 18, 8, 21, 14, 39, 15, 66, 6, 12, 12, 16, 32, 9, 23, 53, 27, 38, 25, 11, 18, 10, 25, 55, 5, 4, 15, 12, 22, 50, 24, 101, 5, 28, 8, 20, 124, 27, 37, 46, 145, 93, 43, 55, 38, 42, 36, 104, 89, 79, 45, 19, 34, 21, 6, 10, 30, 4, 55, 93, 6, 38, 30, 43, 145, 36, 42, 104, 45, 21, 79, 34, 10, 89, 19, 4, 113, 116, 28, 38, 27, 4, 113, 27, 4, 116, 28, 38, 74, 105, 108, 37, 98, 47, 22, 54, 27, 36, 18, 74, 98, 27, 108, 105, 37, 22, 47, 54, 18, 36, 110, 62, 120, 23, 22, 22, 74, 94, 47, 35, 20, 18, 6, 62, 120, 23, 22, 110, 22, 74, 18, 20, 35, 47, 94, 6, 85, 51, 51, 40, 45, 39, 38, 16, 17, 118, 36, 103, 110, 121, 58, 93, 101, 78, 78, 63, 62, 55, 45, 44, 99, 50, 57, 42, 42, 35, 48, 33, 40, 39, 22, 27, 11, 15, 19, 20, 115, 28, 15, 7, 26, 15, 21, 6, 6, 9, 16, 6, 45, 17, 85, 40, 103, 58, 39, 51, 51, 38, 36, 118, 11, 110, 121, 9, 48, 26, 99, 7, 35, 115, 93, 6, 50, 78, 20, 44, 33, 15, 28, 45, 40, 63, 42, 21, 15, 101, 62, 55, 39, 15, 19, 22, 27, 42, 78, 57, 86, 46, 78, 31, 53, 19, 31, 17, 15, 46, 56, 30, 49, 28, 119, 45, 51, 14, 7, 20, 23, 63, 30, 102, 9, 125, 30, 94, 32, 76, 98, 20, 80, 28, 53, 23, 48, 61, 45, 70, 45, 37, 35, 33, 69, 46, 34, 41, 32, 45, 15, 37, 36, 58, 25, 22, 23, 16, 28, 18, 21, 24, 18, 18, 37, 20, 9, 16, 30, 11, 9, 15, 13, 9, 11, 8, 25, 11, 10, 9, 14, 21, 49, 6, 9, 9, 17, 6, 10, 10, 7, 22, 6, 9, 5, 5, 3, 4, 5, 4, 46, 31, 37, 23, 17, 6, 7, 20, 15, 9, 4, 11, 30, 19, 86, 5, 53, 8, 78, 28, 31, 30, 63, 46, 23, 20, 3, 119, 14, 6, 9, 49, 15, 20, 4, 10, 13, 49, 45, 102, 9, 9, 32, 56, 4, 9, 51, 30, 37, 28, 14, 4, 4, 36, 5, 9, 9, 70, 125, 4, 25, 15, 45, 22, 22, 53, 61, 17, 30, 35, 45, 33, 24, 94, 23, 28, 11, 30, 21, 80, 46, 41, 58, 18, 45, 76, 3, 16, 37, 25, 98, 9, 7, 34, 11, 48, 18, 32, 4, 18, 52, 36, 36, 21, 51, 60, 39, 37, 22, 27, 16, 34, 120, 63, 79, 93, 131, 117, 104, 109, 68, 16, 64, 9, 68, 56, 62, 41, 46, 52, 73, 59, 51, 32, 60, 42, 46, 56, 10, 50, 30, 29, 210, 48, 17, 23, 16, 15, 18, 50, 28, 40, 16, 17, 11, 19, 13, 18, 11, 9, 17, 12, 5, 7, 5, 5, 5, 31, 21, 10, 56, 40, 11, 7, 99, 55, 9, 19, 12, 38, 26, 3, 21, 52, 16, 36, 210, 36, 63, 39, 10, 11, 51, 22, 9, 34, 37, 79, 5, 5, 9, 60, 27, 120, 93, 16, 7, 11, 50, 68, 51, 56, 60, 48, 59, 73, 52, 13, 30, 18, 5, 17, 29, 19, 31, 68, 17, 17, 5, 41, 3, 18, 12, 109, 131, 42, 50, 62, 15, 28, 16, 32, 56, 23, 46, 117, 104, 40, 64, 16, 46, 21, 10, 11, 7, 40, 56, 9, 99, 55, 19, 26, 12, 38, 98, 53, 512, 15, 33, 46, 54, 25, 19, 151, 110, 87, 101, 19, 140, 108, 116, 104, 75, 71, 63, 31, 107, 60, 31, 79, 23, 35, 28, 26, 41, 25, 18, 17, 43, 8, 105, 130, 106, 115, 110, 59, 122, 119, 89, 50, 28, 105, 71, 32, 80, 106, 107, 71, 77, 67, 114, 78, 67, 84, 29, 108, 78, 75, 62, 21, 78, 124, 48, 67, 48, 49, 53, 38, 50, 61, 60, 47, 39, 47, 52, 68, 45, 52, 41, 39, 117, 34, 33, 47, 37, 52, 45, 32, 39, 16, 35, 37, 19, 24, 20, 33, 17, 29, 44, 21, 31, 27, 56, 31, 39, 33, 30, 19, 23, 20, 33, 11, 33, 14, 35, 15, 53, 11, 12, 42, 28, 17, 7, 11, 20, 34, 5, 8, 14, 8, 17, 17, 5, 11, 13, 13, 13, 12, 16, 5, 11, 8, 10, 5, 128, 9, 8, 8, 19, 18, 11, 11, 9, 7, 12, 9, 8, 6, 6, 4, 5, 4, 3, 3, 3, 4, 68, 3, 4, 4, 4, 4, 5, 3, 32, 123, 71, 65, 39, 71, 211, 50, 52, 46, 16, 10, 63, 26, 25, 4, 30, 81, 38, 48, 46, 15, 25, 53, 98, 3, 19, 33, 512, 43, 44, 11, 19, 28, 8, 23, 4, 5, 128, 140, 54, 101, 110, 87, 28, 31, 32, 23, 21, 31, 151, 17, 17, 26, 29, 35, 50, 107, 3, 4, 25, 63, 5, 108, 104, 3, 75, 14, 60, 10, 16, 5, 38, 18, 79, 71, 5, 116, 41, 59, 39, 4, 19, 11, 49, 37, 84, 52, 12, 28, 8, 31, 78, 77, 19, 108, 14, 35, 9, 78, 16, 124, 68, 32, 45, 29, 45, 17, 52, 3, 68, 6, 4, 11, 11, 60, 34, 17, 106, 52, 110, 19, 107, 35, 61, 75, 33, 106, 15, 12, 105, 31, 71, 47, 13, 18, 37, 5, 53, 7, 12, 8, 115, 62, 67, 80, 56, 34, 48, 130, 4, 33, 11, 7, 8, 67, 30, 8, 4, 20, 4, 9, 11, 27, 17, 33, 42, 9, 6, 89, 13, 119, 20, 71, 47, 24, 117, 13, 48, 122, 41, 114, 3, 8, 39, 11, 5, 21, 67, 50, 39, 20, 78, 53, 33, 47, 39, 105, 33, 8, 32, 16, 71, 46, 65, 10, 71, 211, 123, 52, 50, 39, 63, 4, 25, 26, 46, 90, 48, 30, 106, 90, 96, 89, 89, 86, 114, 132, 36, 82, 107, 31, 89, 34, 78, 94, 25, 26, 102, 127, 85, 73, 83, 69, 20, 26, 15, 62, 55, 40, 39, 41, 46, 57, 12, 36, 36, 29, 65, 58, 44, 43, 45, 35, 33, 29, 33, 42, 20, 83, 19, 31, 38, 27, 19, 15, 21, 19, 15, 24, 18, 15, 13, 16, 32, 33, 22, 45, 9, 87, 19, 12, 109, 29, 95, 133, 86, 120, 12, 66, 81, 119, 86, 71, 24, 12, 10, 14, 16, 54, 67, 51, 11, 39, 111, 56, 126, 85, 114, 85, 10, 9, 8, 61, 12, 36, 89, 90, 106, 9, 9, 9, 86, 15, 31, 34, 10, 5, 89, 17, 26, 26, 5, 17, 3, 132, 11, 11, 12, 29, 20, 24, 9, 25, 96, 6, 114, 36, 19, 4, 41, 5, 40, 107, 15, 20, 4, 94, 12, 4, 39, 12, 89, 9, 3, 31, 3, 9, 78, 13, 9, 82, 36, 8, 9, 11, 16, 25, 83, 15, 17, 19, 24, 19, 3, 55, 7, 11, 19, 22, 35, 28, 42, 33, 7, 9, 43, 46, 6, 62, 13, 21, 6, 33, 44, 27, 5, 6, 7, 58, 118, 77, 83, 129, 125, 107, 108, 96, 93, 81, 72, 70, 52, 58, 54, 69, 41, 69, 122, 45, 37, 104, 29, 104, 33, 33, 107, 82, 39, 125, 22, 71, 34, 27, 26, 25, 30, 115, 89, 110, 64, 47, 31, 130, 126, 84, 77, 112, 38, 95, 94, 86, 80, 24, 25, 33, 34, 23, 112, 97, 74, 20, 20, 89, 97, 81, 95, 22, 26, 30, 88, 98, 23, 27, 88, 91, 22, 89, 69, 20, 35, 61, 80, 44, 66, 72, 57, 40, 68, 20, 13, 145, 49, 76, 22, 11, 17, 48, 84, 62, 11, 9, 18, 5, 57, 6, 27, 12, 41, 19, 4, 16, 3, 21, 43, 61, 4, 58, 20, 8, 17, 27, 15, 30, 15, 15, 14, 23, 15, 11, 14, 3, 72, 12, 10, 31, 14, 30, 8, 17, 17, 11, 39, 8, 27, 17, 41, 35, 10, 118, 107, 12, 9, 30, 20, 44, 13, 20, 29, 8, 83, 17, 20, 4, 13, 95, 33, 20, 14, 12, 22, 26, 34, 6, 8, 10, 9, 34, 38, 22, 12, 28, 49, 12, 40, 45, 4, 7, 10, 10, 19, 11, 33, 4, 7, 12, 96, 4, 20, 12, 115, 115, 88, 68, 134, 102, 74, 120, 113, 59, 88, 67, 64, 64, 112, 61, 72, 50, 46, 56, 57, 56, 46, 51, 40, 88, 40, 45, 40, 53, 37, 47, 43, 86, 38, 50, 45, 29, 45, 25, 29, 25, 21, 36, 17, 33, 20, 22, 18, 34, 13, 56, 50, 16, 6, 38, 11, 7, 12, 22, 29, 30, 130, 35, 134, 93, 82, 120, 125, 122, 30, 12, 64, 40, 107, 65, 52, 81, 56, 55, 60, 80, 96, 79, 132, 112, 59, 123, 45, 117, 51, 125, 191, 92, 51, 124, 82, 93, 88, 38, 45, 134, 8, 5, 67, 46, 59, 17, 93, 75, 20, 50, 40, 68, 40, 130, 105, 40, 13, 120, 22, 52, 12, 81, 115, 30, 56, 45, 36, 64, 40, 16, 113, 82, 51, 7, 56, 11, 17, 138, 60, 7, 43, 120, 122, 64, 37, 50, 134, 29, 22, 16, 11, 72, 38, 115, 45, 50, 18, 61, 55, 103, 21, 29, 67, 34, 12, 103, 74, 6, 115, 88, 86, 46, 65, 45, 20, 102, 25, 125, 64, 66, 57, 15, 56, 33, 53, 4, 25, 88, 126, 33, 29, 60, 112, 8, 13, 9, 88, 88, 81, 125, 76, 69, 90, 129, 121, 125, 119, 104, 84, 87, 69, 114, 60, 59, 74, 57, 61, 47, 43, 52, 48, 56, 39, 41, 33, 30, 47, 45, 19, 27, 29, 107, 24, 17, 13, 88, 53, 9, 89, 111, 81, 67, 57, 110, 90, 75, 114, 81, 70, 74, 66, 114, 66, 61, 129, 232, 100, 19, 93, 132, 52, 81, 245, 115, 68, 27, 98, 18, 82, 17, 80, 68, 145, 64, 70, 26, 62, 109, 117, 58, 58, 52, 45, 52, 79, 51, 42, 47, 37, 91, 44, 43, 16, 27, 41, 33, 24, 27, 69, 111, 76, 21, 47, 43, 125, 89, 27, 125, 81, 74, 59, 87, 4, 19, 67, 42, 60, 17, 22, 13, 52, 114, 41, 27, 19, 124, 56, 47, 24, 29, 81, 84, 107, 17, 129, 69, 57, 77, 119, 45, 90, 9, 30, 61, 48, 33, 39, 121, 104, 57, 67, 47, 88, 66, 53, 18, 110, 61, 19, 81, 90, 114, 16, 114, 74, 26, 52, 70, 56, 75, 114, 66, 30, 52, 122, 33, 79, 27, 25, 109, 27, 91, 18, 62, 24, 68, 15, 58, 64, 80, 57, 29, 402, 82, 5, 44, 41, 57, 97, 110, 114, 79, 107, 116, 30, 26, 22, 19, 13, 22, 22, 12, 8, 33, 54, 61, 13, 25, 32, 9, 33, 33, 35, 62, 6, 88, 108, 105, 65, 112, 58, 8, 48, 59, 113, 242, 162, 90, 103, 153, 106, 94, 118, 105, 128, 89, 105, 132, 96, 116, 121, 117, 71, 76, 83, 44, 69, 87, 84, 80, 69, 55, 85, 55, 68, 51, 68, 54, 42, 58, 61, 59, 42, 20, 63, 68, 42, 42, 39, 115, 56, 56, 46, 42, 35, 42, 35, 50, 38, 40, 33, 25, 37, 34, 56, 35, 28, 32, 120, 32, 32, 31, 12, 30, 26, 24, 23, 39, 46, 17, 26, 21, 22, 24, 18, 18, 27, 29, 28, 12, 16, 27, 14, 18, 51, 45, 23, 18, 22, 11, 18, 26, 10, 23, 24, 11, 11, 15, 24, 13, 31, 23, 19, 16, 31, 16, 11, 16, 28, 12, 15, 7, 11, 6, 7, 7, 113, 43, 18, 20, 38, 35, 17, 13, 20, 27, 53, 106, 30, 52, 103, 20, 129, 53, 72, 5, 105, 47, 37, 3, 18, 118, 29, 39, 21, 23, 5, 3, 50, 114, 68, 7, 115, 30, 4, 4, 3, 60, 12, 25, 97, 22, 24, 113, 62, 30, 18, 6, 8, 110, 13, 43, 13, 107, 20, 22, 17, 35, 38, 13, 79, 116, 20, 27, 16, 51, 53, 26, 30, 106, 19, 9, 114, 22, 13, 33, 33, 52, 35, 61, 8, 54, 12, 33, 59, 32, 103, 19, 12, 88, 20, 48, 23, 108, 105, 44, 20, 12, 7, 65, 112, 4, 58, 117, 50, 129, 38, 18, 72, 53, 46, 28, 7, 54, 18, 18, 96, 11, 59, 11, 121, 45, 42, 5, 80, 4, 31, 39, 94, 16, 242, 16, 56, 58, 47, 26, 105, 87, 31, 5, 85, 3, 21, 105, 90, 37, 115, 22, 32, 11, 3, 30, 28, 153, 27, 42, 56, 42, 24, 32, 118, 29, 113, 16, 22, 42, 3, 6, 51, 120, 26, 84, 39, 21, 23, 4, 42, 117, 71, 18, 118, 55, 69, 23, 116, 33, 42, 24, 11, 50, 27, 31, 69, 7, 132, 114, 7, 29, 68, 15, 10, 34, 115, 83, 68, 30, 113, 68, 76, 14, 24, 40, 37, 35, 11, 15, 55, 26, 32, 60, 41, 63, 35, 65, 18, 23, 56, 23, 61, 39, 4, 17, 162, 63, 4, 89, 90, 105, 52, 113, 97, 61, 86, 95, 124, 107, 75, 79, 73, 70, 69, 83, 38, 60, 98, 71, 40, 57, 45, 46, 52, 44, 58, 49, 30, 45, 48, 40, 28, 20, 30, 93, 34, 34, 45, 37, 20, 42, 26, 30, 32, 36, 22, 57, 29, 25, 30, 26, 26, 43, 19, 20, 48, 37, 39, 25, 19, 15, 22, 26, 27, 24, 15, 19, 21, 23, 12, 19, 9, 12, 14, 16, 10, 11, 69, 9, 13, 20, 10, 75, 10, 116, 49, 15, 64, 71, 9, 7, 13, 53, 39, 9, 43, 9, 20, 28, 10, 9, 43, 11, 4, 4, 27, 14, 49, 6, 32, 48, 30, 20, 3, 61, 52, 5, 10, 27, 38, 6, 20, 90, 40, 30, 13, 9, 45, 107, 9, 19, 78, 54, 86, 29, 58, 63, 34, 26, 10, 10, 57, 83, 15, 30, 79, 7, 9, 22, 9, 13, 6, 60, 7, 9, 15, 6, 7, 19, 23, 4, 10, 9, 4, 26, 52, 60, 69, 12, 4, 97, 44, 13, 4, 19, 7, 58, 45, 37, 43, 39, 13, 49, 19, 16, 124, 9, 36, 75, 61, 3, 34, 15, 30, 30, 46, 11, 4, 25, 25, 26, 113, 79, 61, 80, 103, 108, 116, 90, 119, 89, 83, 75, 56, 112, 82, 77, 57, 95, 111, 74, 82, 109, 94, 97, 99, 60, 57, 73, 75, 45, 81, 54, 113, 54, 59, 55, 45, 59, 67, 41, 51, 61, 54, 41, 47, 59, 43, 43, 40, 54, 54, 43, 48, 50, 36, 62, 63, 43, 47, 50, 49, 52, 29, 42, 27, 20, 47, 42, 33, 42, 37, 34, 30, 45, 31, 32, 27, 28, 39, 33, 37, 37, 36, 35, 24, 34, 37, 26, 31, 33, 51, 32, 30, 30, 26, 31, 18, 32, 33, 33, 15, 9, 4, 12, 14, 16, 29, 3, 40, 36, 4, 16, 10, 3, 4, 6, 3, 20, 7, 9, 7, 5, 41, 4, 10, 8, 8, 56, 5, 4, 11, 30, 12, 3, 31, 12, 8, 9, 20, 23, 33, 11, 11, 4, 3, 18, 3, 57, 5, 38, 5, 15, 27, 6, 16, 8, 107, 4, 5, 22, 11, 41, 26, 3, 12, 6, 12, 4, 43, 5, 10, 4, 9, 9, 32, 6, 22, 9, 30, 5, 20, 26, 13, 15, 11, 56, 15, 5, 57, 9, 9, 14, 28, 16, 20, 12, 103, 5, 19, 9, 101, 79, 44, 117, 79, 111, 41, 44, 33, 121, 90, 115, 84, 105, 103, 78, 64, 28, 48, 70, 89, 86, 72, 32, 44, 22, 74, 73, 39, 60, 64, 57, 34, 61, 60, 43, 44, 40, 34, 39, 25, 33, 16, 15, 33, 30, 19, 31, 29, 32, 19, 22, 22, 29, 20, 25, 21, 30, 15, 22, 23, 10, 16, 11, 52, 11, 17, 10, 27, 11, 7, 9, 21, 11, 7, 43, 7, 17, 17, 16, 22, 18, 21, 13, 15, 11, 9, 6, 5, 5, 165, 54, 5, 5, 117, 100, 60, 45, 54, 60, 33, 15, 11, 117, 101, 79, 41, 44, 15, 39, 5, 44, 28, 79, 11, 22, 21, 44, 9, 43, 32, 165, 22, 11, 11, 6, 111, 10, 86, 48, 64, 27, 19, 5, 17, 20, 18, 11, 7, 22, 16, 30, 73, 22, 89, 78, 115, 23, 25, 22, 9, 32, 54, 9, 43, 34, 90, 105, 61, 33, 5, 19, 34, 29, 15, 121, 10, 60, 17, 31, 74, 30, 5, 103, 21, 16, 16, 7, 13, 72, 21, 25, 57, 40, 52, 64, 29, 39, 60, 7, 84, 44, 3, 17, 70, 33, 45, 8, 100, 117, 42, 29, 124, 89, 60, 53, 103, 124, 18, 51, 59, 47, 63, 54, 38, 25, 26, 14, 34, 11, 12, 12, 101, 103, 53, 114, 28, 49, 36, 19, 35, 32, 4, 42, 111, 89, 69, 66, 84, 95, 63, 237, 85, 34, 29, 126, 50, 128, 28, 26, 36, 21, 39, 21, 16, 41, 20, 24, 9, 83, 24, 42, 18, 14, 33, 14, 60, 9, 19, 50, 24, 95, 41, 58, 17, 56, 25, 28, 60, 58, 40, 27, 29, 8, 5, 95, 65, 85, 8, 59, 103, 67, 39, 33, 76, 65, 78, 139, 20, 27, 29, 18, 42, 53, 11, 34, 63, 26, 12, 101, 25, 38, 47, 54, 103, 124, 14, 124, 59, 60, 89, 51, 12, 4, 19, 114, 32, 48, 35, 36, 49, 103, 53, 28, 42, 24, 12, 41, 23, 126, 29, 47, 95, 128, 84, 9, 69, 39, 89, 11, 85, 20, 111, 21, 16, 28, 92, 10, 36, 73, 9, 26, 42, 21, 34, 22, 66, 59, 237, 63, 50, 21, 83, 42, 19, 19, 22, 24, 14, 33, 22, 9, 18, 60, 14, 65, 109, 4, 24, 50, 13, 17, 41, 28, 56, 95, 58, 29, 25, 56, 118, 43, 13, 107, 113, 72, 122, 82, 102, 70, 115, 52, 48, 39, 38, 36, 20, 28, 24, 21, 24, 25, 11, 7, 49, 60, 31, 15, 163, 152, 63, 62, 60, 40, 25, 29, 29, 43, 94, 24, 33, 32, 69, 31, 28, 26, 22, 12, 39, 23, 19, 17, 16, 56, 62, 54, 42, 12, 32, 45, 74, 48, 17, 3, 81, 22, 17, 74, 43, 25, 37, 11, 149, 19, 71, 59, 112, 33, 17, 8, 10, 18, 7, 6, 15, 43, 11, 19, 58, 51, 109, 83, 39, 36, 28, 31, 30, 10, 21, 4, 61, 61, 64, 34, 62, 43, 19, 29, 22, 24, 12, 17, 7, 11, 8, 12, 5, 96, 64, 76, 44, 44, 55, 37, 113, 50, 47, 24, 55, 36, 20, 19, 20, 8, 6, 3, 4, 88, 62, 33, 56, 10, 17, 84, 64, 50, 91, 72, 68, 44, 42, 27, 31, 89, 44, 48, 42, 15, 18, 28, 26, 17, 17, 20, 19, 16, 10, 6, 12, 8, 5, 5, 4, 31, 104, 49, 35, 38, 10, 16, 96, 134, 37, 43, 26, 23, 70, 3, 4, 21, 54, 83, 118, 56, 49, 34, 53, 18, 35, 33, 43, 13, 107, 118, 6, 113, 24, 48, 39, 122, 36, 11, 115, 102, 20, 25, 52, 70, 38, 28, 21, 7, 24, 82, 72, 3, 49, 60, 16, 15, 31, 49, 3, 53, 28, 152, 69, 60, 33, 5, 32, 8, 19, 39, 23, 94, 26, 22, 24, 31, 40, 62, 17, 29, 12, 63, 3, 29, 35, 25, 7, 43, 5, 33, 163, 56, 12, 42, 28, 62, 54, 32, 29, 74, 17, 45, 48, 3, 4, 17, 62, 22, 28, 81, 44, 27, 43, 25, 54, 74, 11, 37, 149, 19, 19, 33, 112, 8, 6, 59, 71, 10, 18, 7, 17, 118, 15, 56, 35, 11, 43, 5, 10, 30, 58, 31, 51, 12, 39, 21, 36, 109, 28, 83, 3, 17, 11, 4, 24, 17, 12, 5, 8, 22, 29, 4, 34, 61, 34, 61, 19, 43, 7, 16, 83, 64, 10, 3, 10, 6, 33, 55, 20, 96, 113, 44, 19, 55, 47, 8, 24, 20, 37, 44, 76, 15, 50, 18, 33, 4, 36, 64, 88, 33, 3, 62, 56, 7, 10, 17, 20, 19, 17, 84, 42, 8, 4, 50, 3, 68, 16, 17, 19, 15, 91, 28, 5, 6, 10, 72, 43, 126, 50, 41, 45, 35, 48, 33, 25, 21, 11, 10, 98, 3, 111, 10, 4, 45, 72, 61, 47, 33, 15, 26, 50, 15, 4, 113, 98, 98, 80, 88, 47, 54, 56, 46, 88, 38, 30, 44, 69, 39, 22, 33, 32, 22, 15, 24, 14, 3, 6, 5, 32, 6, 18, 75, 30, 26, 24, 69, 23, 32, 18, 9, 3, 79, 10, 45, 30, 14, 50, 37, 39, 47, 37, 61, 5, 6, 57, 60, 60, 34, 30, 26, 27, 15, 8, 12, 16, 7, 11, 86, 85, 63, 61, 63, 67, 47, 32, 81, 43, 126, 98, 41, 50, 3, 111, 4, 10, 45, 33, 45, 35, 25, 21, 48, 10, 11, 47, 21, 26, 33, 72, 50, 3, 61, 15, 29, 15, 4, 88, 5, 33, 32, 5, 69, 69, 7, 15, 14, 54, 19, 24, 17, 98, 6, 3, 22, 44, 39, 22, 88, 113, 38, 98, 5, 30, 6, 47, 80, 56, 46, 26, 25, 5, 75, 32, 6, 18, 18, 32, 9, 81, 3, 15, 23, 26, 30, 24, 79, 10, 45, 14, 30, 50, 39, 37, 27, 47, 37, 61, 6, 60, 69, 5, 67, 57, 27, 60, 16, 73, 122, 66, 69, 36, 36, 43, 40, 28, 77, 32, 26, 29, 23, 28, 16, 22, 20, 26, 6, 10, 6, 11, 15, 7, 7, 11, 5, 6, 9, 6, 32, 5, 25, 4, 5, 3, 4, 4, 5, 5, 4, 3, 96, 77, 36, 20, 54, 35, 17, 19, 17, 12, 8, 19, 13, 11, 8, 7, 7, 5, 3, 5, 3, 3, 50, 6, 173, 104, 31, 48, 61, 34, 36, 38, 46, 104, 34, 34, 48, 33, 31, 35, 27, 36, 23, 20, 15, 21, 13, 33, 25, 12, 12, 38, 18, 12, 38, 9, 21, 32, 6, 73, 5, 5, 4, 7, 5, 25, 6, 23, 4, 36, 4, 69, 3, 4, 28, 16, 3, 11, 40, 3, 28, 66, 4, 6, 122, 3, 5, 4, 7, 15, 32, 8, 10, 26, 5, 36, 77, 29, 26, 9, 22, 20, 43, 6, 3, 6, 11, 7, 6, 11, 4, 8, 4, 36, 96, 3, 19, 77, 19, 7, 5, 5, 4, 12, 5, 17, 35, 5, 6, 4, 12, 13, 54, 17, 5, 4, 20, 7, 3, 3, 8, 6, 50, 7, 38, 10, 8, 4, 14, 21, 18, 11, 53, 9, 8, 5, 46]\n"
          ]
        }
      ]
    },
    {
      "cell_type": "code",
      "source": [
        "print(min(padding_lengths))"
      ],
      "metadata": {
        "colab": {
          "base_uri": "https://localhost:8080/"
        },
        "id": "kfPoMp1C81IX",
        "outputId": "d6f4d419-11f1-4e03-e449-c702467a765c"
      },
      "execution_count": 24,
      "outputs": [
        {
          "output_type": "stream",
          "name": "stdout",
          "text": [
            "3\n"
          ]
        }
      ]
    },
    {
      "cell_type": "markdown",
      "source": [
        "Plot the distribution of the padding lengths."
      ],
      "metadata": {
        "id": "0i7l5ZvX5pgU"
      }
    },
    {
      "cell_type": "code",
      "source": [
        "sns.histplot(padding_lengths)\n",
        "plt.xlim([0, 256])\n",
        "plt.xlabel('Token Length')"
      ],
      "metadata": {
        "colab": {
          "base_uri": "https://localhost:8080/",
          "height": 353
        },
        "id": "MeNghFFH6E1u",
        "outputId": "a5881ae3-e8c1-442f-9685-2830ad37bf8f"
      },
      "execution_count": 25,
      "outputs": [
        {
          "output_type": "execute_result",
          "data": {
            "text/plain": [
              "Text(0.5, 0, 'Token Length')"
            ]
          },
          "metadata": {},
          "execution_count": 25
        },
        {
          "output_type": "display_data",
          "data": {
            "image/png": "[encoded data removed]",
            "text/plain": [
              "<Figure size 1080x360 with 1 Axes>"
            ]
          },
          "metadata": {}
        }
      ]
    },
    {
      "cell_type": "markdown",
      "source": [
        "Most token sizes seem to have a length less than 150. We'll  add an allowance upto 160."
      ],
      "metadata": {
        "id": "tF1cuizFBwFN"
      }
    },
    {
      "cell_type": "code",
      "source": [
        "PAD_LEN = 160"
      ],
      "metadata": {
        "id": "Db3YNH216Lus"
      },
      "execution_count": 26,
      "outputs": []
    },
    {
      "cell_type": "markdown",
      "source": [
        "# Creating a Custom Dataset for your files\n",
        "[source](https://pytorch.org/tutorials/beginner/basics/data_tutorial.html#creating-a-custom-dataset-for-your-files)\n",
        "\n",
        "A custom Dataset class must implement three functions: `__init__`, `__len__`, and `__getitem__`. \n",
        "\n",
        "* `__init__` - The function is run once when instantiating the Dataset object. We initialize the directory containing the feature(e.g images, text), the labels file, and both transforms (**transform** and **target_transform** specify the feature and label transformations)\n",
        "\n",
        "* `__len__` - The function returns the number of samples in our dataset.\n",
        "\n",
        "* `__getitem__` - The function loads and returns a sample from the dataset at the given index *idx*. Based on the index, it identifies the feature’s location on disk, converts that to a tensor using read_image, retrieves the corresponding label from the csv data in self.labels, calls the transform functions on them (if applicable), and returns the tensor feature and corresponding label in a tuple."
      ],
      "metadata": {
        "id": "mn90SmGZEV5q"
      }
    },
    {
      "cell_type": "code",
      "source": [
        "# create a PyTorch dataset\n",
        "class CustomDataset(Dataset):\n",
        "  def __init__(self, features, labels, transform=None, target_transform=None):\n",
        "    self.features = features\n",
        "    self.labels = labels\n",
        "    self.tokenizer = transform\n",
        "    self.PAD_LEN = target_transform\n",
        "\n",
        "  def __len__(self):\n",
        "    return len(self.features)\n",
        "\n",
        "  def __getitem__(self, idx):\n",
        "    feature = str(self.features[idx])\n",
        "    label = self.labels[idx]\n",
        "\n",
        "    encoding = self.tokenizer.encode_plus(\n",
        "        feature,\n",
        "        add_special_tokens=True,\n",
        "        max_length=self.PAD_LEN,\n",
        "        pad_to_max_length=True,\n",
        "        return_token_type_ids=False,\n",
        "        return_attention_mask=True,\n",
        "        return_tensors='pt'\n",
        "    )\n",
        "\n",
        "    return {\n",
        "        'feature_text': feature,\n",
        "        'input_ids': encoding['input_ids'].flatten(),\n",
        "        'attention_mask': encoding['attention_mask'].flatten(),\n",
        "        'label': torch.tensor(label, dtype=torch.long)\n",
        "    }"
      ],
      "metadata": {
        "id": "aPL1TqavEJRg"
      },
      "execution_count": 27,
      "outputs": []
    },
    {
      "cell_type": "markdown",
      "source": [
        "The `CustomDataset` retrieves our dataset’s features and labels one sample at a time. The sample will include a feature (the text), input_ids and attention_mask(formed after encoding), and label (e.g the sentiment).\n",
        "\n",
        "Since the Dataset handles one sample at a time, we need to create a `Dataloader`\n",
        "which  wraps an iterable around the `CustomDataset` to enable easy access to the samples.\n",
        "\n",
        "While training a model, we typically want to pass samples in `“minibatches”`, reshuffle the data at every epoch to reduce model overfitting, and use Python’s `multiprocessing` to speed up data retrieval.\n",
        "\n",
        "DataLoader is an iterable that abstracts this complexity for us in an easy API.\n",
        "\n",
        "we will use a `helper function` to create the Dataloader. A helper function performs part of the computation of another function. It allows you to reuse common code without repeating ourselves."
      ],
      "metadata": {
        "id": "kvg1gS0f8c8_"
      }
    },
    {
      "cell_type": "code",
      "source": [
        "def custom_dataloader(df, tokenizer, pad_len, batch_size):\n",
        "  encoded_data = CustomDataset(\n",
        "      features=df.content.to_numpy(),\n",
        "      labels=df.sentiment.to_numpy(),\n",
        "      transform=tokenizer,\n",
        "      target_transform=pad_len\n",
        "  )\n",
        "  return DataLoader(encoded_data, batch_size=batch_size, num_workers=2)\n"
      ],
      "metadata": {
        "id": "22urq9sr-TaD"
      },
      "execution_count": 28,
      "outputs": []
    },
    {
      "cell_type": "markdown",
      "source": [
        "We now need to split our data into training, validation, and testing sets. We'll use 90% of the data for training, then split the remaining 10% between validation and testing."
      ],
      "metadata": {
        "id": "jPi-GTXuUTgy"
      }
    },
    {
      "cell_type": "code",
      "source": [
        "df_train, df_test = train_test_split(df, test_size=0.1, random_state=RANDOM_SEED)\n",
        "df_val, df_test = train_test_split(df_test, test_size=0.5, random_state=RANDOM_SEED)"
      ],
      "metadata": {
        "id": "FkpgtOPYZLPu"
      },
      "execution_count": 29,
      "outputs": []
    },
    {
      "cell_type": "code",
      "source": [
        "df_train.shape, df_val.shape, df_test.shape"
      ],
      "metadata": {
        "id": "BAPklcJ5rzDz",
        "outputId": "c6103104-ff8d-45b5-a692-795a16b653be",
        "colab": {
          "base_uri": "https://localhost:8080/"
        }
      },
      "execution_count": 30,
      "outputs": [
        {
          "output_type": "execute_result",
          "data": {
            "text/plain": [
              "((14171, 12), (787, 12), (788, 12))"
            ]
          },
          "metadata": {},
          "execution_count": 30
        }
      ]
    },
    {
      "cell_type": "code",
      "source": [
        "BATCH_SIZE = 16\n",
        "\n",
        "train_dataloader = custom_dataloader(df_train, tokenizer, PAD_LEN, BATCH_SIZE)\n",
        "validation_dataloader = custom_dataloader(df_val, tokenizer, PAD_LEN, BATCH_SIZE)\n",
        "test_dataloader = custom_dataloader(df_test, tokenizer, PAD_LEN, BATCH_SIZE)"
      ],
      "metadata": {
        "id": "PtE1AePFbFgZ"
      },
      "execution_count": 31,
      "outputs": []
    },
    {
      "cell_type": "markdown",
      "source": [
        "We have loaded that dataset into the DataLoader and can iterate through the dataset as needed. Each iteration above returns a batch of train_features and train_labels (containing batch_size features and labels respectively)."
      ],
      "metadata": {
        "id": "6UY7MPiORbi0"
      }
    },
    {
      "cell_type": "markdown",
      "source": [
        "Let's look at an example from the dataloader."
      ],
      "metadata": {
        "id": "BtIFCW8ldqpK"
      }
    },
    {
      "cell_type": "code",
      "source": [
        "data = next(iter(train_dataloader))\n",
        "data.keys()"
      ],
      "metadata": {
        "id": "6-xiHEZxdb8v",
        "outputId": "16c18bd2-c1e7-43f9-ee05-dfe811505508",
        "colab": {
          "base_uri": "https://localhost:8080/"
        }
      },
      "execution_count": 32,
      "outputs": [
        {
          "output_type": "stream",
          "name": "stderr",
          "text": [
            "Truncation was not explicitly activated but `max_length` is provided a specific value, please use `truncation=True` to explicitly truncate examples to max length. Defaulting to 'longest_first' truncation strategy. If you encode pairs of sequences (GLUE-style) with the tokenizer you can select this strategy more precisely by providing a specific strategy to `truncation`.\n",
            "/usr/local/lib/python3.7/dist-packages/transformers/tokenization_utils_base.py:2232: FutureWarning: The `pad_to_max_length` argument is deprecated and will be removed in a future version, use `padding=True` or `padding='longest'` to pad to the longest sequence in the batch, or use `padding='max_length'` to pad to a max length. In this case, you can give a specific length with `max_length` (e.g. `max_length=45`) or leave max_length to None to pad to the maximal input size of the model (e.g. 512 for Bert).\n",
            "  FutureWarning,\n",
            "Truncation was not explicitly activated but `max_length` is provided a specific value, please use `truncation=True` to explicitly truncate examples to max length. Defaulting to 'longest_first' truncation strategy. If you encode pairs of sequences (GLUE-style) with the tokenizer you can select this strategy more precisely by providing a specific strategy to `truncation`.\n",
            "/usr/local/lib/python3.7/dist-packages/transformers/tokenization_utils_base.py:2232: FutureWarning: The `pad_to_max_length` argument is deprecated and will be removed in a future version, use `padding=True` or `padding='longest'` to pad to the longest sequence in the batch, or use `padding='max_length'` to pad to a max length. In this case, you can give a specific length with `max_length` (e.g. `max_length=45`) or leave max_length to None to pad to the maximal input size of the model (e.g. 512 for Bert).\n",
            "  FutureWarning,\n"
          ]
        },
        {
          "output_type": "execute_result",
          "data": {
            "text/plain": [
              "dict_keys(['feature_text', 'input_ids', 'attention_mask', 'label'])"
            ]
          },
          "metadata": {},
          "execution_count": 32
        }
      ]
    },
    {
      "cell_type": "code",
      "source": [
        "print(data['feature_text'][0])\n",
        "print(data['input_ids'][0])\n",
        "print(data['attention_mask'][0])\n",
        "print(data['label'][0])"
      ],
      "metadata": {
        "id": "0BHVEcyM2GY5",
        "outputId": "c2bed110-9c3c-46fb-a5d0-aa0e78693986",
        "colab": {
          "base_uri": "https://localhost:8080/"
        }
      },
      "execution_count": 33,
      "outputs": [
        {
          "output_type": "stream",
          "name": "stdout",
          "text": [
            "You can't have your to do list as notifications\n",
            "tensor([  101,  1192,  1169,   112,   189,  1138,  1240,  1106,  1202,  2190,\n",
            "         1112,  1136, 25583,   102,     0,     0,     0,     0,     0,     0,\n",
            "            0,     0,     0,     0,     0,     0,     0,     0,     0,     0,\n",
            "            0,     0,     0,     0,     0,     0,     0,     0,     0,     0,\n",
            "            0,     0,     0,     0,     0,     0,     0,     0,     0,     0,\n",
            "            0,     0,     0,     0,     0,     0,     0,     0,     0,     0,\n",
            "            0,     0,     0,     0,     0,     0,     0,     0,     0,     0,\n",
            "            0,     0,     0,     0,     0,     0,     0,     0,     0,     0,\n",
            "            0,     0,     0,     0,     0,     0,     0,     0,     0,     0,\n",
            "            0,     0,     0,     0,     0,     0,     0,     0,     0,     0,\n",
            "            0,     0,     0,     0,     0,     0,     0,     0,     0,     0,\n",
            "            0,     0,     0,     0,     0,     0,     0,     0,     0,     0,\n",
            "            0,     0,     0,     0,     0,     0,     0,     0,     0,     0,\n",
            "            0,     0,     0,     0,     0,     0,     0,     0,     0,     0,\n",
            "            0,     0,     0,     0,     0,     0,     0,     0,     0,     0,\n",
            "            0,     0,     0,     0,     0,     0,     0,     0,     0,     0])\n",
            "tensor([1, 1, 1, 1, 1, 1, 1, 1, 1, 1, 1, 1, 1, 1, 0, 0, 0, 0, 0, 0, 0, 0, 0, 0,\n",
            "        0, 0, 0, 0, 0, 0, 0, 0, 0, 0, 0, 0, 0, 0, 0, 0, 0, 0, 0, 0, 0, 0, 0, 0,\n",
            "        0, 0, 0, 0, 0, 0, 0, 0, 0, 0, 0, 0, 0, 0, 0, 0, 0, 0, 0, 0, 0, 0, 0, 0,\n",
            "        0, 0, 0, 0, 0, 0, 0, 0, 0, 0, 0, 0, 0, 0, 0, 0, 0, 0, 0, 0, 0, 0, 0, 0,\n",
            "        0, 0, 0, 0, 0, 0, 0, 0, 0, 0, 0, 0, 0, 0, 0, 0, 0, 0, 0, 0, 0, 0, 0, 0,\n",
            "        0, 0, 0, 0, 0, 0, 0, 0, 0, 0, 0, 0, 0, 0, 0, 0, 0, 0, 0, 0, 0, 0, 0, 0,\n",
            "        0, 0, 0, 0, 0, 0, 0, 0, 0, 0, 0, 0, 0, 0, 0, 0])\n",
            "tensor(0)\n"
          ]
        }
      ]
    },
    {
      "cell_type": "code",
      "source": [
        "print(len(data['feature_text']))\n",
        "print(data['input_ids'].shape)\n",
        "print(data['attention_mask'].shape)\n",
        "print(data['label'].shape)"
      ],
      "metadata": {
        "id": "6AnoZmZF86fN",
        "outputId": "f38d0688-9115-4adc-8b6a-f2012b99e454",
        "colab": {
          "base_uri": "https://localhost:8080/"
        }
      },
      "execution_count": 34,
      "outputs": [
        {
          "output_type": "stream",
          "name": "stdout",
          "text": [
            "16\n",
            "torch.Size([16, 160])\n",
            "torch.Size([16, 160])\n",
            "torch.Size([16])\n"
          ]
        }
      ]
    },
    {
      "cell_type": "markdown",
      "source": [
        "Notice that the `feature_text` is a `list` while the rest are `tensors`. Also the shape indicates that we are loading the data in minibatches of size 16 and the padding length is 160.\n"
      ],
      "metadata": {
        "id": "lsDYCE0ACEKv"
      }
    },
    {
      "cell_type": "markdown",
      "source": [
        "# Build a sentiment classifier\n",
        "\n",
        "We will be using `transfer learning` to build our sentiment classifier on top of [BertModel](https://huggingface.co/docs/transformers/model_doc/bert#bertmodel). \n",
        "\n",
        "For transfer learning you generally have two steps. You use dataset A to pretrain your model. Then you use that pretrained model to carry that knowledge into solving dataset B. In this case, BERT is a bidirectional transformer pretrained using a combination of masked language modeling objective and next sentence prediction on a large corpus comprising the Toronto Book Corpus and Wikipedia."
      ],
      "metadata": {
        "id": "s7WQqlHZK_Ej"
      }
    },
    {
      "cell_type": "code",
      "source": [
        "bert_model = BertModel.from_pretrained(PRE_TRAINED_MODEL_NAME)"
      ],
      "metadata": {
        "id": "j6zATMYTMfFB",
        "outputId": "8de6f5f6-b9b5-4d54-f22f-3eab8e32b885",
        "colab": {
          "base_uri": "https://localhost:8080/",
          "height": 1000,
          "referenced_widgets": [
            "6f7b318e6a844adb93f2e456f3764368",
            "82e4cc65c80f4741afcf2bb46587b6e8",
            "84677c7d6e9e4f8e8d5fc7d528490060",
            "b299ce1fef15473b8a0d6930b4356d34",
            "af4b7b1721b8447ab241f643c19b4221",
            "9f08662512574deebe9c60cf3821552d",
            "6f13f7a62c11452ab4cfeb81aede6c31",
            "f112771a4abc4bbcb710499bcf02f624",
            "20988c0a161e42f6ba73f00031801ba5",
            "6faf566ed36c41568bde15de684dfdf0",
            "1f57e903fbae4de38832f1d6296af8c4"
          ]
        }
      },
      "execution_count": 35,
      "outputs": [
        {
          "output_type": "display_data",
          "data": {
            "application/vnd.jupyter.widget-view+json": {
              "model_id": "6f7b318e6a844adb93f2e456f3764368",
              "version_minor": 0,
              "version_major": 2
            },
            "text/plain": [
              "Downloading:   0%|          | 0.00/416M [00:00<?, ?B/s]"
            ]
          },
          "metadata": {}
        },
        {
          "output_type": "stream",
          "name": "stderr",
          "text": [
            "Some weights of the model checkpoint at bert-base-cased were not used when initializing BertModel: ['cls.predictions.transform.LayerNorm.weight', 'cls.predictions.transform.LayerNorm.bias', 'cls.predictions.decoder.weight', 'cls.seq_relationship.weight', 'cls.seq_relationship.bias', 'cls.predictions.transform.dense.weight', 'cls.predictions.bias', 'cls.predictions.transform.dense.bias']\n",
            "- This IS expected if you are initializing BertModel from the checkpoint of a model trained on another task or with another architecture (e.g. initializing a BertForSequenceClassification model from a BertForPreTraining model).\n",
            "- This IS NOT expected if you are initializing BertModel from the checkpoint of a model that you expect to be exactly identical (initializing a BertForSequenceClassification model from a BertForSequenceClassification model).\n"
          ]
        },
        {
          "output_type": "execute_result",
          "data": {
            "text/plain": [
              "BertModel(\n",
              "  (embeddings): BertEmbeddings(\n",
              "    (word_embeddings): Embedding(28996, 768, padding_idx=0)\n",
              "    (position_embeddings): Embedding(512, 768)\n",
              "    (token_type_embeddings): Embedding(2, 768)\n",
              "    (LayerNorm): LayerNorm((768,), eps=1e-12, elementwise_affine=True)\n",
              "    (dropout): Dropout(p=0.1, inplace=False)\n",
              "  )\n",
              "  (encoder): BertEncoder(\n",
              "    (layer): ModuleList(\n",
              "      (0): BertLayer(\n",
              "        (attention): BertAttention(\n",
              "          (self): BertSelfAttention(\n",
              "            (query): Linear(in_features=768, out_features=768, bias=True)\n",
              "            (key): Linear(in_features=768, out_features=768, bias=True)\n",
              "            (value): Linear(in_features=768, out_features=768, bias=True)\n",
              "            (dropout): Dropout(p=0.1, inplace=False)\n",
              "          )\n",
              "          (output): BertSelfOutput(\n",
              "            (dense): Linear(in_features=768, out_features=768, bias=True)\n",
              "            (LayerNorm): LayerNorm((768,), eps=1e-12, elementwise_affine=True)\n",
              "            (dropout): Dropout(p=0.1, inplace=False)\n",
              "          )\n",
              "        )\n",
              "        (intermediate): BertIntermediate(\n",
              "          (dense): Linear(in_features=768, out_features=3072, bias=True)\n",
              "        )\n",
              "        (output): BertOutput(\n",
              "          (dense): Linear(in_features=3072, out_features=768, bias=True)\n",
              "          (LayerNorm): LayerNorm((768,), eps=1e-12, elementwise_affine=True)\n",
              "          (dropout): Dropout(p=0.1, inplace=False)\n",
              "        )\n",
              "      )\n",
              "      (1): BertLayer(\n",
              "        (attention): BertAttention(\n",
              "          (self): BertSelfAttention(\n",
              "            (query): Linear(in_features=768, out_features=768, bias=True)\n",
              "            (key): Linear(in_features=768, out_features=768, bias=True)\n",
              "            (value): Linear(in_features=768, out_features=768, bias=True)\n",
              "            (dropout): Dropout(p=0.1, inplace=False)\n",
              "          )\n",
              "          (output): BertSelfOutput(\n",
              "            (dense): Linear(in_features=768, out_features=768, bias=True)\n",
              "            (LayerNorm): LayerNorm((768,), eps=1e-12, elementwise_affine=True)\n",
              "            (dropout): Dropout(p=0.1, inplace=False)\n",
              "          )\n",
              "        )\n",
              "        (intermediate): BertIntermediate(\n",
              "          (dense): Linear(in_features=768, out_features=3072, bias=True)\n",
              "        )\n",
              "        (output): BertOutput(\n",
              "          (dense): Linear(in_features=3072, out_features=768, bias=True)\n",
              "          (LayerNorm): LayerNorm((768,), eps=1e-12, elementwise_affine=True)\n",
              "          (dropout): Dropout(p=0.1, inplace=False)\n",
              "        )\n",
              "      )\n",
              "      (2): BertLayer(\n",
              "        (attention): BertAttention(\n",
              "          (self): BertSelfAttention(\n",
              "            (query): Linear(in_features=768, out_features=768, bias=True)\n",
              "            (key): Linear(in_features=768, out_features=768, bias=True)\n",
              "            (value): Linear(in_features=768, out_features=768, bias=True)\n",
              "            (dropout): Dropout(p=0.1, inplace=False)\n",
              "          )\n",
              "          (output): BertSelfOutput(\n",
              "            (dense): Linear(in_features=768, out_features=768, bias=True)\n",
              "            (LayerNorm): LayerNorm((768,), eps=1e-12, elementwise_affine=True)\n",
              "            (dropout): Dropout(p=0.1, inplace=False)\n",
              "          )\n",
              "        )\n",
              "        (intermediate): BertIntermediate(\n",
              "          (dense): Linear(in_features=768, out_features=3072, bias=True)\n",
              "        )\n",
              "        (output): BertOutput(\n",
              "          (dense): Linear(in_features=3072, out_features=768, bias=True)\n",
              "          (LayerNorm): LayerNorm((768,), eps=1e-12, elementwise_affine=True)\n",
              "          (dropout): Dropout(p=0.1, inplace=False)\n",
              "        )\n",
              "      )\n",
              "      (3): BertLayer(\n",
              "        (attention): BertAttention(\n",
              "          (self): BertSelfAttention(\n",
              "            (query): Linear(in_features=768, out_features=768, bias=True)\n",
              "            (key): Linear(in_features=768, out_features=768, bias=True)\n",
              "            (value): Linear(in_features=768, out_features=768, bias=True)\n",
              "            (dropout): Dropout(p=0.1, inplace=False)\n",
              "          )\n",
              "          (output): BertSelfOutput(\n",
              "            (dense): Linear(in_features=768, out_features=768, bias=True)\n",
              "            (LayerNorm): LayerNorm((768,), eps=1e-12, elementwise_affine=True)\n",
              "            (dropout): Dropout(p=0.1, inplace=False)\n",
              "          )\n",
              "        )\n",
              "        (intermediate): BertIntermediate(\n",
              "          (dense): Linear(in_features=768, out_features=3072, bias=True)\n",
              "        )\n",
              "        (output): BertOutput(\n",
              "          (dense): Linear(in_features=3072, out_features=768, bias=True)\n",
              "          (LayerNorm): LayerNorm((768,), eps=1e-12, elementwise_affine=True)\n",
              "          (dropout): Dropout(p=0.1, inplace=False)\n",
              "        )\n",
              "      )\n",
              "      (4): BertLayer(\n",
              "        (attention): BertAttention(\n",
              "          (self): BertSelfAttention(\n",
              "            (query): Linear(in_features=768, out_features=768, bias=True)\n",
              "            (key): Linear(in_features=768, out_features=768, bias=True)\n",
              "            (value): Linear(in_features=768, out_features=768, bias=True)\n",
              "            (dropout): Dropout(p=0.1, inplace=False)\n",
              "          )\n",
              "          (output): BertSelfOutput(\n",
              "            (dense): Linear(in_features=768, out_features=768, bias=True)\n",
              "            (LayerNorm): LayerNorm((768,), eps=1e-12, elementwise_affine=True)\n",
              "            (dropout): Dropout(p=0.1, inplace=False)\n",
              "          )\n",
              "        )\n",
              "        (intermediate): BertIntermediate(\n",
              "          (dense): Linear(in_features=768, out_features=3072, bias=True)\n",
              "        )\n",
              "        (output): BertOutput(\n",
              "          (dense): Linear(in_features=3072, out_features=768, bias=True)\n",
              "          (LayerNorm): LayerNorm((768,), eps=1e-12, elementwise_affine=True)\n",
              "          (dropout): Dropout(p=0.1, inplace=False)\n",
              "        )\n",
              "      )\n",
              "      (5): BertLayer(\n",
              "        (attention): BertAttention(\n",
              "          (self): BertSelfAttention(\n",
              "            (query): Linear(in_features=768, out_features=768, bias=True)\n",
              "            (key): Linear(in_features=768, out_features=768, bias=True)\n",
              "            (value): Linear(in_features=768, out_features=768, bias=True)\n",
              "            (dropout): Dropout(p=0.1, inplace=False)\n",
              "          )\n",
              "          (output): BertSelfOutput(\n",
              "            (dense): Linear(in_features=768, out_features=768, bias=True)\n",
              "            (LayerNorm): LayerNorm((768,), eps=1e-12, elementwise_affine=True)\n",
              "            (dropout): Dropout(p=0.1, inplace=False)\n",
              "          )\n",
              "        )\n",
              "        (intermediate): BertIntermediate(\n",
              "          (dense): Linear(in_features=768, out_features=3072, bias=True)\n",
              "        )\n",
              "        (output): BertOutput(\n",
              "          (dense): Linear(in_features=3072, out_features=768, bias=True)\n",
              "          (LayerNorm): LayerNorm((768,), eps=1e-12, elementwise_affine=True)\n",
              "          (dropout): Dropout(p=0.1, inplace=False)\n",
              "        )\n",
              "      )\n",
              "      (6): BertLayer(\n",
              "        (attention): BertAttention(\n",
              "          (self): BertSelfAttention(\n",
              "            (query): Linear(in_features=768, out_features=768, bias=True)\n",
              "            (key): Linear(in_features=768, out_features=768, bias=True)\n",
              "            (value): Linear(in_features=768, out_features=768, bias=True)\n",
              "            (dropout): Dropout(p=0.1, inplace=False)\n",
              "          )\n",
              "          (output): BertSelfOutput(\n",
              "            (dense): Linear(in_features=768, out_features=768, bias=True)\n",
              "            (LayerNorm): LayerNorm((768,), eps=1e-12, elementwise_affine=True)\n",
              "            (dropout): Dropout(p=0.1, inplace=False)\n",
              "          )\n",
              "        )\n",
              "        (intermediate): BertIntermediate(\n",
              "          (dense): Linear(in_features=768, out_features=3072, bias=True)\n",
              "        )\n",
              "        (output): BertOutput(\n",
              "          (dense): Linear(in_features=3072, out_features=768, bias=True)\n",
              "          (LayerNorm): LayerNorm((768,), eps=1e-12, elementwise_affine=True)\n",
              "          (dropout): Dropout(p=0.1, inplace=False)\n",
              "        )\n",
              "      )\n",
              "      (7): BertLayer(\n",
              "        (attention): BertAttention(\n",
              "          (self): BertSelfAttention(\n",
              "            (query): Linear(in_features=768, out_features=768, bias=True)\n",
              "            (key): Linear(in_features=768, out_features=768, bias=True)\n",
              "            (value): Linear(in_features=768, out_features=768, bias=True)\n",
              "            (dropout): Dropout(p=0.1, inplace=False)\n",
              "          )\n",
              "          (output): BertSelfOutput(\n",
              "            (dense): Linear(in_features=768, out_features=768, bias=True)\n",
              "            (LayerNorm): LayerNorm((768,), eps=1e-12, elementwise_affine=True)\n",
              "            (dropout): Dropout(p=0.1, inplace=False)\n",
              "          )\n",
              "        )\n",
              "        (intermediate): BertIntermediate(\n",
              "          (dense): Linear(in_features=768, out_features=3072, bias=True)\n",
              "        )\n",
              "        (output): BertOutput(\n",
              "          (dense): Linear(in_features=3072, out_features=768, bias=True)\n",
              "          (LayerNorm): LayerNorm((768,), eps=1e-12, elementwise_affine=True)\n",
              "          (dropout): Dropout(p=0.1, inplace=False)\n",
              "        )\n",
              "      )\n",
              "      (8): BertLayer(\n",
              "        (attention): BertAttention(\n",
              "          (self): BertSelfAttention(\n",
              "            (query): Linear(in_features=768, out_features=768, bias=True)\n",
              "            (key): Linear(in_features=768, out_features=768, bias=True)\n",
              "            (value): Linear(in_features=768, out_features=768, bias=True)\n",
              "            (dropout): Dropout(p=0.1, inplace=False)\n",
              "          )\n",
              "          (output): BertSelfOutput(\n",
              "            (dense): Linear(in_features=768, out_features=768, bias=True)\n",
              "            (LayerNorm): LayerNorm((768,), eps=1e-12, elementwise_affine=True)\n",
              "            (dropout): Dropout(p=0.1, inplace=False)\n",
              "          )\n",
              "        )\n",
              "        (intermediate): BertIntermediate(\n",
              "          (dense): Linear(in_features=768, out_features=3072, bias=True)\n",
              "        )\n",
              "        (output): BertOutput(\n",
              "          (dense): Linear(in_features=3072, out_features=768, bias=True)\n",
              "          (LayerNorm): LayerNorm((768,), eps=1e-12, elementwise_affine=True)\n",
              "          (dropout): Dropout(p=0.1, inplace=False)\n",
              "        )\n",
              "      )\n",
              "      (9): BertLayer(\n",
              "        (attention): BertAttention(\n",
              "          (self): BertSelfAttention(\n",
              "            (query): Linear(in_features=768, out_features=768, bias=True)\n",
              "            (key): Linear(in_features=768, out_features=768, bias=True)\n",
              "            (value): Linear(in_features=768, out_features=768, bias=True)\n",
              "            (dropout): Dropout(p=0.1, inplace=False)\n",
              "          )\n",
              "          (output): BertSelfOutput(\n",
              "            (dense): Linear(in_features=768, out_features=768, bias=True)\n",
              "            (LayerNorm): LayerNorm((768,), eps=1e-12, elementwise_affine=True)\n",
              "            (dropout): Dropout(p=0.1, inplace=False)\n",
              "          )\n",
              "        )\n",
              "        (intermediate): BertIntermediate(\n",
              "          (dense): Linear(in_features=768, out_features=3072, bias=True)\n",
              "        )\n",
              "        (output): BertOutput(\n",
              "          (dense): Linear(in_features=3072, out_features=768, bias=True)\n",
              "          (LayerNorm): LayerNorm((768,), eps=1e-12, elementwise_affine=True)\n",
              "          (dropout): Dropout(p=0.1, inplace=False)\n",
              "        )\n",
              "      )\n",
              "      (10): BertLayer(\n",
              "        (attention): BertAttention(\n",
              "          (self): BertSelfAttention(\n",
              "            (query): Linear(in_features=768, out_features=768, bias=True)\n",
              "            (key): Linear(in_features=768, out_features=768, bias=True)\n",
              "            (value): Linear(in_features=768, out_features=768, bias=True)\n",
              "            (dropout): Dropout(p=0.1, inplace=False)\n",
              "          )\n",
              "          (output): BertSelfOutput(\n",
              "            (dense): Linear(in_features=768, out_features=768, bias=True)\n",
              "            (LayerNorm): LayerNorm((768,), eps=1e-12, elementwise_affine=True)\n",
              "            (dropout): Dropout(p=0.1, inplace=False)\n",
              "          )\n",
              "        )\n",
              "        (intermediate): BertIntermediate(\n",
              "          (dense): Linear(in_features=768, out_features=3072, bias=True)\n",
              "        )\n",
              "        (output): BertOutput(\n",
              "          (dense): Linear(in_features=3072, out_features=768, bias=True)\n",
              "          (LayerNorm): LayerNorm((768,), eps=1e-12, elementwise_affine=True)\n",
              "          (dropout): Dropout(p=0.1, inplace=False)\n",
              "        )\n",
              "      )\n",
              "      (11): BertLayer(\n",
              "        (attention): BertAttention(\n",
              "          (self): BertSelfAttention(\n",
              "            (query): Linear(in_features=768, out_features=768, bias=True)\n",
              "            (key): Linear(in_features=768, out_features=768, bias=True)\n",
              "            (value): Linear(in_features=768, out_features=768, bias=True)\n",
              "            (dropout): Dropout(p=0.1, inplace=False)\n",
              "          )\n",
              "          (output): BertSelfOutput(\n",
              "            (dense): Linear(in_features=768, out_features=768, bias=True)\n",
              "            (LayerNorm): LayerNorm((768,), eps=1e-12, elementwise_affine=True)\n",
              "            (dropout): Dropout(p=0.1, inplace=False)\n",
              "          )\n",
              "        )\n",
              "        (intermediate): BertIntermediate(\n",
              "          (dense): Linear(in_features=768, out_features=3072, bias=True)\n",
              "        )\n",
              "        (output): BertOutput(\n",
              "          (dense): Linear(in_features=3072, out_features=768, bias=True)\n",
              "          (LayerNorm): LayerNorm((768,), eps=1e-12, elementwise_affine=True)\n",
              "          (dropout): Dropout(p=0.1, inplace=False)\n",
              "        )\n",
              "      )\n",
              "    )\n",
              "  )\n",
              "  (pooler): BertPooler(\n",
              "    (dense): Linear(in_features=768, out_features=768, bias=True)\n",
              "    (activation): Tanh()\n",
              "  )\n",
              ")"
            ]
          },
          "metadata": {},
          "execution_count": 35
        }
      ]
    },
    {
      "cell_type": "code",
      "source": [
        "\n",
        "last_hidden_state, pooled_output = bert_model(input_ids=encoding['input_ids'], attention_mask=encoding['attention_mask']).to_tuple()"
      ],
      "metadata": {
        "id": "khLB2mBMOqyo"
      },
      "execution_count": 58,
      "outputs": []
    },
    {
      "cell_type": "markdown",
      "source": [
        "> You can’t unpack a ModelOutput directly. Use the `to_tuple()` method to convert it to a tuple before.\n",
        "\n",
        "The output with pooling and cross attention [source](https://huggingface.co/docs/transformers/main_classes/output#transformers.modeling_outputs.BaseModelOutputWithPoolingAndCrossAttentions).\n",
        "\n",
        "* `last_hidden_state` (torch.FloatTensor of shape (batch_size, sequence_length, hidden_size)) - Sequence of hidden-states at the output of the last layer of the model.\n",
        "\n",
        "* `pooler_output` (torch.FloatTensor of shape (batch_size, hidden_size)) — Last layer hidden-state of the first token of the sequence (classification token) after further processing through the layers used for the auxiliary pretraining task. E.g. for BERT-family of models, this returns the classification token after processing through a linear layer and a tanh activation function. The linear layer weights are trained from the next sentence prediction (classification) objective during pretraining."
      ],
      "metadata": {
        "id": "6UQRFIqLSx-B"
      }
    },
    {
      "cell_type": "code",
      "source": [
        "print(last_hidden_state.shape)\n",
        "print(pooled_output.shape)"
      ],
      "metadata": {
        "id": "vJfxZX4aQUVj",
        "outputId": "2395703e-c408-46b1-d2fe-573a4f64d97e",
        "colab": {
          "base_uri": "https://localhost:8080/"
        }
      },
      "execution_count": 60,
      "outputs": [
        {
          "output_type": "stream",
          "name": "stdout",
          "text": [
            "torch.Size([1, 32, 768])\n",
            "torch.Size([1, 768])\n"
          ]
        }
      ]
    },
    {
      "cell_type": "markdown",
      "source": [
        "Why 768? This is the hidden size of the model."
      ],
      "metadata": {
        "id": "LtqjO6GMY89L"
      }
    },
    {
      "cell_type": "code",
      "source": [
        "print(f'hidden size of the model : {bert_model.config.hidden_size}')\n",
        "print(f'Number of hidden layers : {bert_model.config.num_hidden_layers}')"
      ],
      "metadata": {
        "id": "6NTD3oODQYtJ",
        "outputId": "0766b25a-dac7-4c89-af79-86dbac4aef74",
        "colab": {
          "base_uri": "https://localhost:8080/"
        }
      },
      "execution_count": 63,
      "outputs": [
        {
          "output_type": "stream",
          "name": "stdout",
          "text": [
            "hidden size of the model : 768\n",
            "Number of hidden layers : 12\n"
          ]
        }
      ]
    },
    {
      "cell_type": "code",
      "source": [
        "class SentimentClassifier(nn.Module):"
      ],
      "metadata": {
        "id": "M1fCuj8LZm_a"
      },
      "execution_count": null,
      "outputs": []
    }
  ]
}